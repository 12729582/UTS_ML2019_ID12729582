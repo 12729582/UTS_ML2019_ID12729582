{
  "nbformat": 4,
  "nbformat_minor": 0,
  "metadata": {
    "colab": {
      "name": "test2.ipynb",
      "version": "0.3.2",
      "provenance": [],
      "collapsed_sections": [],
      "include_colab_link": true
    },
    "kernelspec": {
      "name": "python3",
      "display_name": "Python 3"
    },
    "accelerator": "GPU"
  },
  "cells": [
    {
      "cell_type": "markdown",
      "metadata": {
        "id": "view-in-github",
        "colab_type": "text"
      },
      "source": [
        "<a href=\"https://colab.research.google.com/github/12729582/UTS_ML2019_ID12729582/blob/master/test2.ipynb\" target=\"_parent\"><img src=\"https://colab.research.google.com/assets/colab-badge.svg\" alt=\"Open In Colab\"/></a>"
      ]
    },
    {
      "cell_type": "markdown",
      "metadata": {
        "id": "G62RwYmH3bXq",
        "colab_type": "text"
      },
      "source": [
        "Dataset file is upload from google drive, at this stage, nothing got error, but im not sure whether its working or not. "
      ]
    },
    {
      "cell_type": "code",
      "metadata": {
        "id": "GmUvx-KYjXJd",
        "colab_type": "code",
        "colab": {}
      },
      "source": [
        "\n",
        "#basci libraries that need to be imported\n",
        "import pandas as pd \n",
        "import numpy as np\n",
        "import copy\n",
        "\n",
        "#required libraries for classification techniques\n",
        "from pandas.plotting import scatter_matrix \n",
        "import matplotlib.pyplot as plt \n",
        "from sklearn import model_selection \n",
        "from sklearn.metrics import classification_report, confusion_matrix, accuracy_score \n",
        "from sklearn.linear_model import LogisticRegression \n",
        "from sklearn.tree import DecisionTreeClassifier \n",
        "from sklearn.neighbors import KNeighborsClassifier"
      ],
      "execution_count": 0,
      "outputs": []
    },
    {
      "cell_type": "code",
      "metadata": {
        "id": "pp0XqizviihS",
        "colab_type": "code",
        "colab": {}
      },
      "source": [
        "from google.colab import auth\n",
        "auth.authenticate_user()\n",
        "\n",
        "!pip install -U -q Pydrive\n",
        "from pydrive.drive import GoogleDrive\n",
        "from pydrive.auth import GoogleAuth\n",
        "from oauth2client.client import GoogleCredentials\n",
        "\n",
        "auth.authenticate_user()\n",
        "gauth = GoogleAuth()\n",
        "gauth.credentials = GoogleCredentials.get_application_default()\n",
        "drive = GoogleDrive(gauth)\n",
        "\n",
        "myfile = drive.CreateFile({'id':'1l-xWB5poscP3cglKDZtyX8dJQC79Z3Fo'})\n",
        "myfile.GetContentFile('My Uber Drives - 2016.csv')"
      ],
      "execution_count": 0,
      "outputs": []
    },
    {
      "cell_type": "code",
      "metadata": {
        "id": "OUkFNFI1kv2V",
        "colab_type": "code",
        "colab": {}
      },
      "source": [
        "#import pandas as pd\n",
        "data = pd.read_csv('My Uber Drives - 2016.csv')\n"
      ],
      "execution_count": 0,
      "outputs": []
    },
    {
      "cell_type": "markdown",
      "metadata": {
        "id": "tO5NJ-KFTijv",
        "colab_type": "text"
      },
      "source": [
        "**Overview of the dataset**"
      ]
    },
    {
      "cell_type": "code",
      "metadata": {
        "id": "XlG16IqWObQo",
        "colab_type": "code",
        "colab": {
          "base_uri": "https://localhost:8080/",
          "height": 206
        },
        "outputId": "bedc33a8-ab16-48c6-cb9a-e7d758deadb4"
      },
      "source": [
        "data.head()"
      ],
      "execution_count": 72,
      "outputs": [
        {
          "output_type": "execute_result",
          "data": {
            "text/html": [
              "<div>\n",
              "<style scoped>\n",
              "    .dataframe tbody tr th:only-of-type {\n",
              "        vertical-align: middle;\n",
              "    }\n",
              "\n",
              "    .dataframe tbody tr th {\n",
              "        vertical-align: top;\n",
              "    }\n",
              "\n",
              "    .dataframe thead th {\n",
              "        text-align: right;\n",
              "    }\n",
              "</style>\n",
              "<table border=\"1\" class=\"dataframe\">\n",
              "  <thead>\n",
              "    <tr style=\"text-align: right;\">\n",
              "      <th></th>\n",
              "      <th>START_DATE*</th>\n",
              "      <th>END_DATE*</th>\n",
              "      <th>CATEGORY*</th>\n",
              "      <th>START*</th>\n",
              "      <th>STOP*</th>\n",
              "      <th>MILES*</th>\n",
              "      <th>PURPOSE*</th>\n",
              "    </tr>\n",
              "  </thead>\n",
              "  <tbody>\n",
              "    <tr>\n",
              "      <th>0</th>\n",
              "      <td>1/1/16 21:11</td>\n",
              "      <td>1/1/16 21:17</td>\n",
              "      <td>Business</td>\n",
              "      <td>Fort Pierce</td>\n",
              "      <td>Fort Pierce</td>\n",
              "      <td>5.1</td>\n",
              "      <td>Meal/Entertain</td>\n",
              "    </tr>\n",
              "    <tr>\n",
              "      <th>1</th>\n",
              "      <td>1/2/16 01:25</td>\n",
              "      <td>1/2/16 01:37</td>\n",
              "      <td>Business</td>\n",
              "      <td>Fort Pierce</td>\n",
              "      <td>Fort Pierce</td>\n",
              "      <td>5.0</td>\n",
              "      <td>NaN</td>\n",
              "    </tr>\n",
              "    <tr>\n",
              "      <th>2</th>\n",
              "      <td>1/2/16 20:25</td>\n",
              "      <td>1/2/16 20:38</td>\n",
              "      <td>Business</td>\n",
              "      <td>Fort Pierce</td>\n",
              "      <td>Fort Pierce</td>\n",
              "      <td>4.8</td>\n",
              "      <td>Errand/Supplies</td>\n",
              "    </tr>\n",
              "    <tr>\n",
              "      <th>3</th>\n",
              "      <td>1/5/16 17:31</td>\n",
              "      <td>1/5/16 17:45</td>\n",
              "      <td>Business</td>\n",
              "      <td>Fort Pierce</td>\n",
              "      <td>Fort Pierce</td>\n",
              "      <td>4.7</td>\n",
              "      <td>Meeting</td>\n",
              "    </tr>\n",
              "    <tr>\n",
              "      <th>4</th>\n",
              "      <td>1/6/16 14:42</td>\n",
              "      <td>1/6/16 15:49</td>\n",
              "      <td>Business</td>\n",
              "      <td>Fort Pierce</td>\n",
              "      <td>West Palm Beach</td>\n",
              "      <td>63.7</td>\n",
              "      <td>Customer Visit</td>\n",
              "    </tr>\n",
              "  </tbody>\n",
              "</table>\n",
              "</div>"
            ],
            "text/plain": [
              "    START_DATE*     END_DATE*  ... MILES*         PURPOSE*\n",
              "0  1/1/16 21:11  1/1/16 21:17  ...    5.1   Meal/Entertain\n",
              "1  1/2/16 01:25  1/2/16 01:37  ...    5.0              NaN\n",
              "2  1/2/16 20:25  1/2/16 20:38  ...    4.8  Errand/Supplies\n",
              "3  1/5/16 17:31  1/5/16 17:45  ...    4.7          Meeting\n",
              "4  1/6/16 14:42  1/6/16 15:49  ...   63.7   Customer Visit\n",
              "\n",
              "[5 rows x 7 columns]"
            ]
          },
          "metadata": {
            "tags": []
          },
          "execution_count": 72
        }
      ]
    },
    {
      "cell_type": "markdown",
      "metadata": {
        "id": "bDydmVM1SIpt",
        "colab_type": "text"
      },
      "source": [
        "NaN : missing value"
      ]
    },
    {
      "cell_type": "code",
      "metadata": {
        "id": "w3FmJMogRYL7",
        "colab_type": "code",
        "colab": {
          "base_uri": "https://localhost:8080/",
          "height": 206
        },
        "outputId": "1377bfeb-b8cc-4a88-9b44-a96c117bad2c"
      },
      "source": [
        "data.tail()"
      ],
      "execution_count": 73,
      "outputs": [
        {
          "output_type": "execute_result",
          "data": {
            "text/html": [
              "<div>\n",
              "<style scoped>\n",
              "    .dataframe tbody tr th:only-of-type {\n",
              "        vertical-align: middle;\n",
              "    }\n",
              "\n",
              "    .dataframe tbody tr th {\n",
              "        vertical-align: top;\n",
              "    }\n",
              "\n",
              "    .dataframe thead th {\n",
              "        text-align: right;\n",
              "    }\n",
              "</style>\n",
              "<table border=\"1\" class=\"dataframe\">\n",
              "  <thead>\n",
              "    <tr style=\"text-align: right;\">\n",
              "      <th></th>\n",
              "      <th>START_DATE*</th>\n",
              "      <th>END_DATE*</th>\n",
              "      <th>CATEGORY*</th>\n",
              "      <th>START*</th>\n",
              "      <th>STOP*</th>\n",
              "      <th>MILES*</th>\n",
              "      <th>PURPOSE*</th>\n",
              "    </tr>\n",
              "  </thead>\n",
              "  <tbody>\n",
              "    <tr>\n",
              "      <th>1151</th>\n",
              "      <td>12/31/2016 13:24</td>\n",
              "      <td>12/31/2016 13:42</td>\n",
              "      <td>Business</td>\n",
              "      <td>Kar?chi</td>\n",
              "      <td>Unknown Location</td>\n",
              "      <td>3.9</td>\n",
              "      <td>Temporary Site</td>\n",
              "    </tr>\n",
              "    <tr>\n",
              "      <th>1152</th>\n",
              "      <td>12/31/2016 15:03</td>\n",
              "      <td>12/31/2016 15:38</td>\n",
              "      <td>Business</td>\n",
              "      <td>Unknown Location</td>\n",
              "      <td>Unknown Location</td>\n",
              "      <td>16.2</td>\n",
              "      <td>Meeting</td>\n",
              "    </tr>\n",
              "    <tr>\n",
              "      <th>1153</th>\n",
              "      <td>12/31/2016 21:32</td>\n",
              "      <td>12/31/2016 21:50</td>\n",
              "      <td>Business</td>\n",
              "      <td>Katunayake</td>\n",
              "      <td>Gampaha</td>\n",
              "      <td>6.4</td>\n",
              "      <td>Temporary Site</td>\n",
              "    </tr>\n",
              "    <tr>\n",
              "      <th>1154</th>\n",
              "      <td>12/31/2016 22:08</td>\n",
              "      <td>12/31/2016 23:51</td>\n",
              "      <td>Business</td>\n",
              "      <td>Gampaha</td>\n",
              "      <td>Ilukwatta</td>\n",
              "      <td>48.2</td>\n",
              "      <td>Temporary Site</td>\n",
              "    </tr>\n",
              "    <tr>\n",
              "      <th>1155</th>\n",
              "      <td>Totals</td>\n",
              "      <td>NaN</td>\n",
              "      <td>NaN</td>\n",
              "      <td>NaN</td>\n",
              "      <td>NaN</td>\n",
              "      <td>12204.7</td>\n",
              "      <td>NaN</td>\n",
              "    </tr>\n",
              "  </tbody>\n",
              "</table>\n",
              "</div>"
            ],
            "text/plain": [
              "           START_DATE*         END_DATE*  ...   MILES*        PURPOSE*\n",
              "1151  12/31/2016 13:24  12/31/2016 13:42  ...      3.9  Temporary Site\n",
              "1152  12/31/2016 15:03  12/31/2016 15:38  ...     16.2         Meeting\n",
              "1153  12/31/2016 21:32  12/31/2016 21:50  ...      6.4  Temporary Site\n",
              "1154  12/31/2016 22:08  12/31/2016 23:51  ...     48.2  Temporary Site\n",
              "1155            Totals               NaN  ...  12204.7             NaN\n",
              "\n",
              "[5 rows x 7 columns]"
            ]
          },
          "metadata": {
            "tags": []
          },
          "execution_count": 73
        }
      ]
    },
    {
      "cell_type": "markdown",
      "metadata": {
        "id": "7Us-RvfRvj5w",
        "colab_type": "text"
      },
      "source": [
        "overall information of the dataset, the number of rows, columns data, types, memory usage are given. "
      ]
    },
    {
      "cell_type": "markdown",
      "metadata": {
        "id": "bjWUTMMZwQiq",
        "colab_type": "text"
      },
      "source": [
        "As shown after printing out the overview of the dataset, we can see that most of the attributes are object types, and only the miles attribute is the float64. \n",
        "...\n",
        "START_DATA and END_DATA shoube be a int type."
      ]
    },
    {
      "cell_type": "code",
      "metadata": {
        "id": "G3nCSDWyvX6j",
        "colab_type": "code",
        "colab": {
          "base_uri": "https://localhost:8080/",
          "height": 242
        },
        "outputId": "ba0467f3-29ea-4605-9cc6-5a358342ae7e"
      },
      "source": [
        "print(data.info())"
      ],
      "execution_count": 74,
      "outputs": [
        {
          "output_type": "stream",
          "text": [
            "<class 'pandas.core.frame.DataFrame'>\n",
            "RangeIndex: 1156 entries, 0 to 1155\n",
            "Data columns (total 7 columns):\n",
            "START_DATE*    1156 non-null object\n",
            "END_DATE*      1155 non-null object\n",
            "CATEGORY*      1155 non-null object\n",
            "START*         1155 non-null object\n",
            "STOP*          1155 non-null object\n",
            "MILES*         1156 non-null float64\n",
            "PURPOSE*       653 non-null object\n",
            "dtypes: float64(1), object(6)\n",
            "memory usage: 63.3+ KB\n",
            "None\n"
          ],
          "name": "stdout"
        }
      ]
    },
    {
      "cell_type": "code",
      "metadata": {
        "id": "wR-_-5I7Unxb",
        "colab_type": "code",
        "colab": {
          "base_uri": "https://localhost:8080/",
          "height": 34
        },
        "outputId": "47007aad-37e2-4c1e-940c-c6e91dad47c2"
      },
      "source": [
        "data.shape"
      ],
      "execution_count": 75,
      "outputs": [
        {
          "output_type": "execute_result",
          "data": {
            "text/plain": [
              "(1156, 7)"
            ]
          },
          "metadata": {
            "tags": []
          },
          "execution_count": 75
        }
      ]
    },
    {
      "cell_type": "markdown",
      "metadata": {
        "id": "4U2XRHv5V6jY",
        "colab_type": "text"
      },
      "source": [
        "*   1    hearder\n",
        "*   1155 rows\n",
        "*   7    colunms\n",
        "\n",
        "\n",
        "\n",
        "\n"
      ]
    },
    {
      "cell_type": "code",
      "metadata": {
        "id": "06MbxQpORKX-",
        "colab_type": "code",
        "colab": {
          "base_uri": "https://localhost:8080/",
          "height": 156
        },
        "outputId": "d04c3ddb-46ab-4135-9f6a-74b8c8a97e13"
      },
      "source": [
        "data.all()"
      ],
      "execution_count": 76,
      "outputs": [
        {
          "output_type": "execute_result",
          "data": {
            "text/plain": [
              "START_DATE*    True\n",
              "END_DATE*      True\n",
              "CATEGORY*      True\n",
              "START*         True\n",
              "STOP*          True\n",
              "MILES*         True\n",
              "PURPOSE*       True\n",
              "dtype: bool"
            ]
          },
          "metadata": {
            "tags": []
          },
          "execution_count": 76
        }
      ]
    },
    {
      "cell_type": "code",
      "metadata": {
        "id": "N6IsO0_yO0fP",
        "colab_type": "code",
        "colab": {
          "base_uri": "https://localhost:8080/",
          "height": 173
        },
        "outputId": "8061e52a-9c0f-4cf1-8c0b-1f303cb61533"
      },
      "source": [
        "print(data.describe())"
      ],
      "execution_count": 77,
      "outputs": [
        {
          "output_type": "stream",
          "text": [
            "             MILES*\n",
            "count   1156.000000\n",
            "mean      21.115398\n",
            "std      359.299007\n",
            "min        0.500000\n",
            "25%        2.900000\n",
            "50%        6.000000\n",
            "75%       10.400000\n",
            "max    12204.700000\n"
          ],
          "name": "stdout"
        }
      ]
    },
    {
      "cell_type": "code",
      "metadata": {
        "id": "y4b0Zi7UWgJW",
        "colab_type": "code",
        "colab": {
          "base_uri": "https://localhost:8080/",
          "height": 86
        },
        "outputId": "9b888320-1d56-46d5-fa1b-e570a916727d"
      },
      "source": [
        "print((data.groupby('CATEGORY*')).size())"
      ],
      "execution_count": 78,
      "outputs": [
        {
          "output_type": "stream",
          "text": [
            "CATEGORY*\n",
            "Business    1078\n",
            "Personal      77\n",
            "dtype: int64\n"
          ],
          "name": "stdout"
        }
      ]
    },
    {
      "cell_type": "code",
      "metadata": {
        "id": "KXZnhz8NXCDW",
        "colab_type": "code",
        "colab": {
          "base_uri": "https://localhost:8080/",
          "height": 225
        },
        "outputId": "85201ce5-489e-4074-a8fa-594465031d86"
      },
      "source": [
        "print((data.groupby('PURPOSE*')).size())"
      ],
      "execution_count": 79,
      "outputs": [
        {
          "output_type": "stream",
          "text": [
            "PURPOSE*\n",
            "Airport/Travel       3\n",
            "Between Offices     18\n",
            "Charity ($)          1\n",
            "Commute              1\n",
            "Customer Visit     101\n",
            "Errand/Supplies    128\n",
            "Meal/Entertain     160\n",
            "Meeting            187\n",
            "Moving               4\n",
            "Temporary Site      50\n",
            "dtype: int64\n"
          ],
          "name": "stdout"
        }
      ]
    },
    {
      "cell_type": "code",
      "metadata": {
        "id": "tRDTmS6xXaUN",
        "colab_type": "code",
        "colab": {}
      },
      "source": [
        "print((data.groupby('START*')).size())"
      ],
      "execution_count": 0,
      "outputs": []
    },
    {
      "cell_type": "code",
      "metadata": {
        "id": "0368sQfAYVfC",
        "colab_type": "code",
        "colab": {}
      },
      "source": [
        "print((data.groupby('STOP*')).size())"
      ],
      "execution_count": 0,
      "outputs": []
    },
    {
      "cell_type": "markdown",
      "metadata": {
        "id": "iiZQJXQEiwNR",
        "colab_type": "text"
      },
      "source": [
        "Visualising the DATA"
      ]
    },
    {
      "cell_type": "markdown",
      "metadata": {
        "id": "XIEYQr-pj3hZ",
        "colab_type": "text"
      },
      "source": [
        "\n",
        "\n",
        "1.   Plotting Univariate Plots\n"
      ]
    },
    {
      "cell_type": "code",
      "metadata": {
        "id": "eyJEmuoRi0lu",
        "colab_type": "code",
        "colab": {
          "base_uri": "https://localhost:8080/",
          "height": 166
        },
        "outputId": "de223f6a-ab6b-4a66-9d2c-74cf985e9931"
      },
      "source": [
        "data.plot(kind = 'box', subplots = True, layout = (2,2), sharex = False, sharey = False)\n",
        "plt.show"
      ],
      "execution_count": 82,
      "outputs": [
        {
          "output_type": "execute_result",
          "data": {
            "text/plain": [
              "<function matplotlib.pyplot.show>"
            ]
          },
          "metadata": {
            "tags": []
          },
          "execution_count": 82
        },
        {
          "output_type": "display_data",
          "data": {
            "image/png": "[encoded data removed]",
            "text/plain": [
              "<Figure size 432x288 with 4 Axes>"
            ]
          },
          "metadata": {
            "tags": []
          }
        }
      ]
    },
    {
      "cell_type": "code",
      "metadata": {
        "id": "vfGUGry5jrEj",
        "colab_type": "code",
        "colab": {
          "base_uri": "https://localhost:8080/",
          "height": 281
        },
        "outputId": "1383b2df-84fa-41ce-ba26-114406664400"
      },
      "source": [
        "data.hist()\n",
        "plt.show()"
      ],
      "execution_count": 83,
      "outputs": [
        {
          "output_type": "display_data",
          "data": {
            "image/png": "[encoded data removed]",
            "text/plain": [
              "<Figure size 432x288 with 1 Axes>"
            ]
          },
          "metadata": {
            "tags": []
          }
        }
      ]
    },
    {
      "cell_type": "markdown",
      "metadata": {
        "id": "LUPg3A232ik9",
        "colab_type": "text"
      },
      "source": [
        "one of the interesting data point: commute has the longest travel time (300 +)"
      ]
    },
    {
      "cell_type": "code",
      "metadata": {
        "id": "IHuL5Uw305ME",
        "colab_type": "code",
        "colab": {
          "base_uri": "https://localhost:8080/",
          "height": 488
        },
        "outputId": "ca27a57c-42e5-403b-9477-7d9ef6bc5fe8"
      },
      "source": [
        "data.boxplot('MILES*', 'PURPOSE*', rot = 40, figsize = (5,6))"
      ],
      "execution_count": 84,
      "outputs": [
        {
          "output_type": "execute_result",
          "data": {
            "text/plain": [
              "<matplotlib.axes._subplots.AxesSubplot at 0x7f9ec3af9898>"
            ]
          },
          "metadata": {
            "tags": []
          },
          "execution_count": 84
        },
        {
          "output_type": "display_data",
          "data": {
            "image/png": "[encoded data removed]",
            "text/plain": [
              "<Figure size 360x432 with 1 Axes>"
            ]
          },
          "metadata": {
            "tags": []
          }
        }
      ]
    },
    {
      "cell_type": "markdown",
      "metadata": {
        "id": "DIoP1uJjj_ba",
        "colab_type": "text"
      },
      "source": [
        "2.   Plotting Multivarite Plots\n",
        "\n"
      ]
    },
    {
      "cell_type": "code",
      "metadata": {
        "id": "vDYG1sIPllJK",
        "colab_type": "code",
        "colab": {
          "base_uri": "https://localhost:8080/",
          "height": 297
        },
        "outputId": "0d7ab9cb-4682-478c-8ed5-32cc419be416"
      },
      "source": [
        "scatter_matrix(data)\n",
        "plt.show()"
      ],
      "execution_count": 85,
      "outputs": [
        {
          "output_type": "display_data",
          "data": {
            "image/png": "[encoded data removed]",
            "text/plain": [
              "<Figure size 432x288 with 1 Axes>"
            ]
          },
          "metadata": {
            "tags": []
          }
        }
      ]
    },
    {
      "cell_type": "markdown",
      "metadata": {
        "id": "h6wCpsJ_pIRU",
        "colab_type": "text"
      },
      "source": [
        "missing (null) valuee, 507 from the dataset.\n",
        "seems like the purpose of destination is the most that've got the most missing value. "
      ]
    },
    {
      "cell_type": "code",
      "metadata": {
        "id": "yR19LvDNnylY",
        "colab_type": "code",
        "colab": {
          "base_uri": "https://localhost:8080/",
          "height": 34
        },
        "outputId": "0dbd97a8-5666-4935-92a4-12833b162564"
      },
      "source": [
        "print(data.isnull().values.sum())"
      ],
      "execution_count": 86,
      "outputs": [
        {
          "output_type": "stream",
          "text": [
            "507\n"
          ],
          "name": "stdout"
        }
      ]
    },
    {
      "cell_type": "code",
      "metadata": {
        "id": "vJy65FyZnqTJ",
        "colab_type": "code",
        "colab": {
          "base_uri": "https://localhost:8080/",
          "height": 156
        },
        "outputId": "bd3b4d76-573d-4967-ccff-dfc81b5b55cd"
      },
      "source": [
        "print(data.isnull().sum())"
      ],
      "execution_count": 87,
      "outputs": [
        {
          "output_type": "stream",
          "text": [
            "START_DATE*      0\n",
            "END_DATE*        1\n",
            "CATEGORY*        1\n",
            "START*           1\n",
            "STOP*            1\n",
            "MILES*           0\n",
            "PURPOSE*       503\n",
            "dtype: int64\n"
          ],
          "name": "stdout"
        }
      ]
    },
    {
      "cell_type": "code",
      "metadata": {
        "id": "ZwdqY2VG32jg",
        "colab_type": "code",
        "colab": {}
      },
      "source": [
        "#data = data.fillna(data['PURPOSE*'].value_counts().index[0])"
      ],
      "execution_count": 0,
      "outputs": []
    },
    {
      "cell_type": "code",
      "metadata": {
        "id": "JvoDCQdp4JrX",
        "colab_type": "code",
        "colab": {}
      },
      "source": [
        "#print(data.isnull().values.sum())"
      ],
      "execution_count": 0,
      "outputs": []
    },
    {
      "cell_type": "code",
      "metadata": {
        "id": "0hqSfHT54lxb",
        "colab_type": "code",
        "colab": {}
      },
      "source": [
        "#print(data.info())"
      ],
      "execution_count": 0,
      "outputs": []
    },
    {
      "cell_type": "code",
      "metadata": {
        "id": "1rKIWz4ip61x",
        "colab_type": "code",
        "colab": {
          "base_uri": "https://localhost:8080/",
          "height": 208
        },
        "outputId": "97f4821b-2568-4175-ef6a-a7a25565fddd"
      },
      "source": [
        "print(data['PURPOSE*'].value_counts())"
      ],
      "execution_count": 88,
      "outputs": [
        {
          "output_type": "stream",
          "text": [
            "Meeting            187\n",
            "Meal/Entertain     160\n",
            "Errand/Supplies    128\n",
            "Customer Visit     101\n",
            "Temporary Site      50\n",
            "Between Offices     18\n",
            "Moving               4\n",
            "Airport/Travel       3\n",
            "Charity ($)          1\n",
            "Commute              1\n",
            "Name: PURPOSE*, dtype: int64\n"
          ],
          "name": "stdout"
        }
      ]
    },
    {
      "cell_type": "markdown",
      "metadata": {
        "id": "mPtOXwDEqoio",
        "colab_type": "text"
      },
      "source": [
        "got 10 different purposes of travelling in this dataset"
      ]
    },
    {
      "cell_type": "code",
      "metadata": {
        "id": "gZrfKHYYANs5",
        "colab_type": "code",
        "colab": {
          "base_uri": "https://localhost:8080/",
          "height": 69
        },
        "outputId": "697c0788-9756-4a28-8833-f07b3bc639c4"
      },
      "source": [
        "print(data['PURPOSE*'].isnull().value_counts())"
      ],
      "execution_count": 108,
      "outputs": [
        {
          "output_type": "stream",
          "text": [
            "False    653\n",
            "True     503\n",
            "Name: PURPOSE*, dtype: int64\n"
          ],
          "name": "stdout"
        }
      ]
    },
    {
      "cell_type": "code",
      "metadata": {
        "id": "UHdXG0bvCnNk",
        "colab_type": "code",
        "colab": {}
      },
      "source": [
        "#making a list of Unknown Purpose types for the PURPOSE* attribute\n",
        "Unknown_Purpose = [\"\"]\n",
        "data = pd.read_csv(\"My Uber Drives - 2016.csv\", na_values = Unknown_Purpose)"
      ],
      "execution_count": 0,
      "outputs": []
    },
    {
      "cell_type": "code",
      "metadata": {
        "id": "PWa6vnRyDnsU",
        "colab_type": "code",
        "colab": {
          "base_uri": "https://localhost:8080/",
          "height": 34
        },
        "outputId": "dc06de43-7545-400e-ce85-f8532f40c3cb"
      },
      "source": [
        "print(data['PURPOSE*'].value_counts('Unknown_Purpose').count())"
      ],
      "execution_count": 116,
      "outputs": [
        {
          "output_type": "stream",
          "text": [
            "10\n"
          ],
          "name": "stdout"
        }
      ]
    },
    {
      "cell_type": "code",
      "metadata": {
        "id": "5kZqftJG_Aqo",
        "colab_type": "code",
        "colab": {
          "base_uri": "https://localhost:8080/",
          "height": 34
        },
        "outputId": "e9113c3a-478c-4bf2-b3db-c15079a23cec"
      },
      "source": [
        "print(data['START*'].value_counts('Unknown Location').count())"
      ],
      "execution_count": 94,
      "outputs": [
        {
          "output_type": "stream",
          "text": [
            "177\n"
          ],
          "name": "stdout"
        }
      ]
    },
    {
      "cell_type": "code",
      "metadata": {
        "id": "jsZn3H1uADDE",
        "colab_type": "code",
        "colab": {
          "base_uri": "https://localhost:8080/",
          "height": 34
        },
        "outputId": "b04ab077-44ff-46ad-eb36-e7378cdfd61c"
      },
      "source": [
        "print(data['STOP*'].value_counts('Unknown Location').count())"
      ],
      "execution_count": 95,
      "outputs": [
        {
          "output_type": "stream",
          "text": [
            "188\n"
          ],
          "name": "stdout"
        }
      ]
    }
  ]
}