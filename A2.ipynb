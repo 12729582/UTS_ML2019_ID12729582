{
  "nbformat": 4,
  "nbformat_minor": 0,
  "metadata": {
    "colab": {
      "name": "A2.ipynb",
      "provenance": [],
      "collapsed_sections": [
        "ZOXRX67CWKO2"
      ],
      "toc_visible": true,
      "include_colab_link": true
    },
    "kernelspec": {
      "name": "python3",
      "display_name": "Python 3"
    }
  },
  "cells": [
    {
      "cell_type": "markdown",
      "metadata": {
        "id": "view-in-github",
        "colab_type": "text"
      },
      "source": [
        "<a href=\"https://colab.research.google.com/github/12729582/UTS_ML2019_ID12729582/blob/master/A2.ipynb\" target=\"_parent\"><img src=\"https://colab.research.google.com/assets/colab-badge.svg\" alt=\"Open In Colab\"/></a>"
      ]
    },
    {
      "cell_type": "markdown",
      "metadata": {
        "colab_type": "text",
        "id": "e5-3vRAtfxqH"
      },
      "source": [
        "*******************************************************************************\n",
        "SUBJECT NAME & ID:\n",
        "        **MACHINE LEARNING** | **31005**\n",
        "\n",
        "ASSESSMENT TASK 2:\n",
        "        **Practical Machine Learning Project**\n",
        "\n",
        "STUDENT NAME & ID:      \n",
        "\n",
        ">>>>*   **PATRICIA ANN ACOSTA**  | **13205669**\n",
        "*   **LADA MEAS** | **12729582**\n",
        " \n",
        "DATASET CHOSEN:\n",
        "        **\" MY UBER DRIVES - 2016 \"**\n",
        "      [click here](https://www.kaggle.com/zusmani/uberdrives)\n",
        "\n",
        "GITHUB LINK:\n",
        "\n",
        "\n",
        "VIDEO PITCH:\n",
        "*******************************************************************************"
      ]
    },
    {
      "cell_type": "markdown",
      "metadata": {
        "id": "6x4AIC-gVmD1",
        "colab_type": "text"
      },
      "source": [
        "# INTRODUCTION"
      ]
    },
    {
      "cell_type": "markdown",
      "metadata": {
        "id": "NZWXDh4WWq4k",
        "colab_type": "text"
      },
      "source": [
        "Uber has become a very interesting research topic and is regarded as an emerging technology in the transportation and taxi industry. It is mainly used to take passengers from point A to point B. This technology has been used extensively as an alternative for getting to destinations of customers for private or business functions. \n",
        " \n",
        "Currently, there is intense competition among various rental taxi service operators. The motivation of this project is to understand customer behaviour of an ordinary Uber customer. This is done by the exploration and evaluation of the length of trips, the number of rides per day and percentage of business miles and personal miles based on the purpose of the journey made by Uber customers. By analysing this data, the report will help understand correlations between attributes, thereby predicting trends and behaviour of Uber customers. This data mining project will then play a significant role in assisting Uber to gain a competitive advantage in the market by providing improved service on inter-city and intra-city commuting problems of customers. In addition, understanding Uber customer behaviour and trends is useful and beneficial when creating effective marketing strategies to retain customer base and attract more users to their service. \n",
        " \n",
        "The dataset used in the project was provided by Zeeshan-ul-hassan Usmani through Kaggle. Zeeshan-ul-hassan Usmani made the 2016 Uber Trip database due to research inspiration from FiveThirtyEight and Todd Schneider's dataset on Trips taken by Uber and Taxi in New York City. There are two inputs which include the 2016 Uber Trip training dataset and testing dataset. The training dataset contains seven different attributes to be processed through various classifiers. The test data includes only input training data and assesses the performance of the classifiers.\n",
        "\n",
        "The inputted training dataset must be pre-processed to produce higher quality results and better accuracy. Various pre-processing methods, namely removing null values, fixing categorisation of START_DATE* and END_DATE* columns and calculation of maximum in the MILES* column were done to refine the training dataset. After the data was made usable, different classifiers were explored.\n",
        " \n",
        "The report concentrates on four classifiers, specifically Logical Regression, K-Nearest Neighbour, Decision Tree and Random Forest. The report will evaluate and identify the best classifier and corresponding parameters to use. The decision will be based on the box plot, confusion matrix and accuracy statistics. Using the best classifier, the report will state its reflections on the correlations studied and its recommendations."
      ]
    },
    {
      "cell_type": "markdown",
      "metadata": {
        "id": "1why3mlYV5n-",
        "colab_type": "text"
      },
      "source": [
        "# INITIAL DATA EXPLORATION"
      ]
    },
    {
      "cell_type": "markdown",
      "metadata": {
        "id": "oCKrkutyjn6c",
        "colab_type": "text"
      },
      "source": [
        "In order to do the data exploration and pre-processing, the data from the CSV file was imported through Google Drive. "
      ]
    },
    {
      "cell_type": "code",
      "metadata": {
        "id": "I0aNOTheh5r3",
        "colab_type": "code",
        "colab": {}
      },
      "source": [
        "#basci libraries that need to be imported\n",
        "import pandas as pd \n",
        "import numpy as np\n",
        "import copy\n",
        "\n",
        "#required libraries for classification techniques\n",
        "from pandas.plotting import scatter_matrix \n",
        "import matplotlib.pyplot as plt \n",
        "from sklearn import model_selection \n",
        "from sklearn.metrics import classification_report, confusion_matrix, accuracy_score \n",
        "\n",
        "#import different types of classifiers techniques\n",
        "from sklearn.linear_model import LogisticRegression \n",
        "from sklearn.tree import DecisionTreeClassifier \n",
        "from sklearn.neighbors import KNeighborsClassifier\n",
        "from sklearn.ensemble import RandomForestClassifier"
      ],
      "execution_count": 0,
      "outputs": []
    },
    {
      "cell_type": "code",
      "metadata": {
        "id": "xy-xKJsJiBeD",
        "colab_type": "code",
        "colab": {}
      },
      "source": [
        "from google.colab import auth\n",
        "auth.authenticate_user()\n",
        "\n",
        "!pip install -U -q Pydrive\n",
        "from pydrive.drive import GoogleDrive\n",
        "from pydrive.auth import GoogleAuth\n",
        "from oauth2client.client import GoogleCredentials\n",
        "\n",
        "auth.authenticate_user()\n",
        "gauth = GoogleAuth()\n",
        "gauth.credentials = GoogleCredentials.get_application_default()\n",
        "drive = GoogleDrive(gauth)\n",
        "\n",
        "data = drive.CreateFile({'id':'1l-xWB5poscP3cglKDZtyX8dJQC79Z3Fo'})\n",
        "data.GetContentFile('My Uber Drives - 2016.csv')"
      ],
      "execution_count": 0,
      "outputs": []
    },
    {
      "cell_type": "markdown",
      "metadata": {
        "id": "7oRyj4yijGwm",
        "colab_type": "text"
      },
      "source": [
        "\n",
        "\n",
        "The summary of the 2016 Uber Trip dataset is provided in the figures below:"
      ]
    },
    {
      "cell_type": "code",
      "metadata": {
        "id": "Y2DBxDgji8PT",
        "colab_type": "code",
        "colab": {}
      },
      "source": [
        "data = pd.read_csv('My Uber Drives - 2016.csv')"
      ],
      "execution_count": 0,
      "outputs": []
    },
    {
      "cell_type": "code",
      "metadata": {
        "id": "7OhvSU7tjZbs",
        "colab_type": "code",
        "outputId": "6d6931a8-4bce-460f-9f85-c214cd7ad106",
        "colab": {
          "base_uri": "https://localhost:8080/",
          "height": 34
        }
      },
      "source": [
        "#The code here is used to print the total number of rows & columns. This means there are 1156 records with 7 columns.\n",
        "print(data.shape)"
      ],
      "execution_count": 0,
      "outputs": [
        {
          "output_type": "stream",
          "text": [
            "(1156, 7)\n"
          ],
          "name": "stdout"
        }
      ]
    },
    {
      "cell_type": "code",
      "metadata": {
        "id": "9T4s_r12jdAp",
        "colab_type": "code",
        "outputId": "243cf376-c351-4050-f562-a4cd471b7035",
        "colab": {
          "base_uri": "https://localhost:8080/",
          "height": 210
        }
      },
      "source": [
        "data.info()"
      ],
      "execution_count": 0,
      "outputs": [
        {
          "output_type": "stream",
          "text": [
            "<class 'pandas.core.frame.DataFrame'>\n",
            "RangeIndex: 1156 entries, 0 to 1155\n",
            "Data columns (total 7 columns):\n",
            "START_DATE*    1156 non-null object\n",
            "END_DATE*      1155 non-null object\n",
            "CATEGORY*      1155 non-null object\n",
            "START*         1155 non-null object\n",
            "STOP*          1155 non-null object\n",
            "MILES*         1156 non-null float64\n",
            "PURPOSE*       653 non-null object\n",
            "dtypes: float64(1), object(6)\n",
            "memory usage: 63.3+ KB\n"
          ],
          "name": "stdout"
        }
      ]
    },
    {
      "cell_type": "code",
      "metadata": {
        "id": "aBmJGXP1jfcZ",
        "colab_type": "code",
        "outputId": "f88af11c-d47b-4533-bc2d-66fe198e7720",
        "colab": {
          "base_uri": "https://localhost:8080/",
          "height": 188
        }
      },
      "source": [
        "#The code here prints the first 5 rows of the dataset using  data header.\n",
        "data.head(5)"
      ],
      "execution_count": 0,
      "outputs": [
        {
          "output_type": "execute_result",
          "data": {
            "text/html": [
              "<div>\n",
              "<style scoped>\n",
              "    .dataframe tbody tr th:only-of-type {\n",
              "        vertical-align: middle;\n",
              "    }\n",
              "\n",
              "    .dataframe tbody tr th {\n",
              "        vertical-align: top;\n",
              "    }\n",
              "\n",
              "    .dataframe thead th {\n",
              "        text-align: right;\n",
              "    }\n",
              "</style>\n",
              "<table border=\"1\" class=\"dataframe\">\n",
              "  <thead>\n",
              "    <tr style=\"text-align: right;\">\n",
              "      <th></th>\n",
              "      <th>START_DATE*</th>\n",
              "      <th>END_DATE*</th>\n",
              "      <th>CATEGORY*</th>\n",
              "      <th>START*</th>\n",
              "      <th>STOP*</th>\n",
              "      <th>MILES*</th>\n",
              "      <th>PURPOSE*</th>\n",
              "    </tr>\n",
              "  </thead>\n",
              "  <tbody>\n",
              "    <tr>\n",
              "      <th>0</th>\n",
              "      <td>1/1/16 21:11</td>\n",
              "      <td>1/1/16 21:17</td>\n",
              "      <td>Business</td>\n",
              "      <td>Fort Pierce</td>\n",
              "      <td>Fort Pierce</td>\n",
              "      <td>5.1</td>\n",
              "      <td>Meal/Entertain</td>\n",
              "    </tr>\n",
              "    <tr>\n",
              "      <th>1</th>\n",
              "      <td>1/2/16 01:25</td>\n",
              "      <td>1/2/16 01:37</td>\n",
              "      <td>Business</td>\n",
              "      <td>Fort Pierce</td>\n",
              "      <td>Fort Pierce</td>\n",
              "      <td>5.0</td>\n",
              "      <td>NaN</td>\n",
              "    </tr>\n",
              "    <tr>\n",
              "      <th>2</th>\n",
              "      <td>1/2/16 20:25</td>\n",
              "      <td>1/2/16 20:38</td>\n",
              "      <td>Business</td>\n",
              "      <td>Fort Pierce</td>\n",
              "      <td>Fort Pierce</td>\n",
              "      <td>4.8</td>\n",
              "      <td>Errand/Supplies</td>\n",
              "    </tr>\n",
              "    <tr>\n",
              "      <th>3</th>\n",
              "      <td>1/5/16 17:31</td>\n",
              "      <td>1/5/16 17:45</td>\n",
              "      <td>Business</td>\n",
              "      <td>Fort Pierce</td>\n",
              "      <td>Fort Pierce</td>\n",
              "      <td>4.7</td>\n",
              "      <td>Meeting</td>\n",
              "    </tr>\n",
              "    <tr>\n",
              "      <th>4</th>\n",
              "      <td>1/6/16 14:42</td>\n",
              "      <td>1/6/16 15:49</td>\n",
              "      <td>Business</td>\n",
              "      <td>Fort Pierce</td>\n",
              "      <td>West Palm Beach</td>\n",
              "      <td>63.7</td>\n",
              "      <td>Customer Visit</td>\n",
              "    </tr>\n",
              "  </tbody>\n",
              "</table>\n",
              "</div>"
            ],
            "text/plain": [
              "    START_DATE*     END_DATE*  ... MILES*         PURPOSE*\n",
              "0  1/1/16 21:11  1/1/16 21:17  ...    5.1   Meal/Entertain\n",
              "1  1/2/16 01:25  1/2/16 01:37  ...    5.0              NaN\n",
              "2  1/2/16 20:25  1/2/16 20:38  ...    4.8  Errand/Supplies\n",
              "3  1/5/16 17:31  1/5/16 17:45  ...    4.7          Meeting\n",
              "4  1/6/16 14:42  1/6/16 15:49  ...   63.7   Customer Visit\n",
              "\n",
              "[5 rows x 7 columns]"
            ]
          },
          "metadata": {
            "tags": []
          },
          "execution_count": 8
        }
      ]
    },
    {
      "cell_type": "code",
      "metadata": {
        "id": "L3Gp428Bjf45",
        "colab_type": "code",
        "outputId": "f2ac6f0a-9666-46d6-9ee9-99642a1f6b1a",
        "colab": {
          "base_uri": "https://localhost:8080/",
          "height": 328
        }
      },
      "source": [
        "#This code here prints the last 10 rows of the dataset \n",
        "data.tail(10)"
      ],
      "execution_count": 0,
      "outputs": [
        {
          "output_type": "execute_result",
          "data": {
            "text/html": [
              "<div>\n",
              "<style scoped>\n",
              "    .dataframe tbody tr th:only-of-type {\n",
              "        vertical-align: middle;\n",
              "    }\n",
              "\n",
              "    .dataframe tbody tr th {\n",
              "        vertical-align: top;\n",
              "    }\n",
              "\n",
              "    .dataframe thead th {\n",
              "        text-align: right;\n",
              "    }\n",
              "</style>\n",
              "<table border=\"1\" class=\"dataframe\">\n",
              "  <thead>\n",
              "    <tr style=\"text-align: right;\">\n",
              "      <th></th>\n",
              "      <th>START_DATE*</th>\n",
              "      <th>END_DATE*</th>\n",
              "      <th>CATEGORY*</th>\n",
              "      <th>START*</th>\n",
              "      <th>STOP*</th>\n",
              "      <th>MILES*</th>\n",
              "      <th>PURPOSE*</th>\n",
              "    </tr>\n",
              "  </thead>\n",
              "  <tbody>\n",
              "    <tr>\n",
              "      <th>1146</th>\n",
              "      <td>12/30/2016 11:31</td>\n",
              "      <td>12/30/2016 11:56</td>\n",
              "      <td>Business</td>\n",
              "      <td>Kar?chi</td>\n",
              "      <td>Kar?chi</td>\n",
              "      <td>2.9</td>\n",
              "      <td>Errand/Supplies</td>\n",
              "    </tr>\n",
              "    <tr>\n",
              "      <th>1147</th>\n",
              "      <td>12/30/2016 15:41</td>\n",
              "      <td>12/30/2016 16:03</td>\n",
              "      <td>Business</td>\n",
              "      <td>Kar?chi</td>\n",
              "      <td>Kar?chi</td>\n",
              "      <td>4.6</td>\n",
              "      <td>Errand/Supplies</td>\n",
              "    </tr>\n",
              "    <tr>\n",
              "      <th>1148</th>\n",
              "      <td>12/30/2016 16:45</td>\n",
              "      <td>12/30/2016 17:08</td>\n",
              "      <td>Business</td>\n",
              "      <td>Kar?chi</td>\n",
              "      <td>Kar?chi</td>\n",
              "      <td>4.6</td>\n",
              "      <td>Meeting</td>\n",
              "    </tr>\n",
              "    <tr>\n",
              "      <th>1149</th>\n",
              "      <td>12/30/2016 23:06</td>\n",
              "      <td>12/30/2016 23:10</td>\n",
              "      <td>Business</td>\n",
              "      <td>Kar?chi</td>\n",
              "      <td>Kar?chi</td>\n",
              "      <td>0.8</td>\n",
              "      <td>Customer Visit</td>\n",
              "    </tr>\n",
              "    <tr>\n",
              "      <th>1150</th>\n",
              "      <td>12/31/2016 1:07</td>\n",
              "      <td>12/31/2016 1:14</td>\n",
              "      <td>Business</td>\n",
              "      <td>Kar?chi</td>\n",
              "      <td>Kar?chi</td>\n",
              "      <td>0.7</td>\n",
              "      <td>Meeting</td>\n",
              "    </tr>\n",
              "    <tr>\n",
              "      <th>1151</th>\n",
              "      <td>12/31/2016 13:24</td>\n",
              "      <td>12/31/2016 13:42</td>\n",
              "      <td>Business</td>\n",
              "      <td>Kar?chi</td>\n",
              "      <td>Unknown Location</td>\n",
              "      <td>3.9</td>\n",
              "      <td>Temporary Site</td>\n",
              "    </tr>\n",
              "    <tr>\n",
              "      <th>1152</th>\n",
              "      <td>12/31/2016 15:03</td>\n",
              "      <td>12/31/2016 15:38</td>\n",
              "      <td>Business</td>\n",
              "      <td>Unknown Location</td>\n",
              "      <td>Unknown Location</td>\n",
              "      <td>16.2</td>\n",
              "      <td>Meeting</td>\n",
              "    </tr>\n",
              "    <tr>\n",
              "      <th>1153</th>\n",
              "      <td>12/31/2016 21:32</td>\n",
              "      <td>12/31/2016 21:50</td>\n",
              "      <td>Business</td>\n",
              "      <td>Katunayake</td>\n",
              "      <td>Gampaha</td>\n",
              "      <td>6.4</td>\n",
              "      <td>Temporary Site</td>\n",
              "    </tr>\n",
              "    <tr>\n",
              "      <th>1154</th>\n",
              "      <td>12/31/2016 22:08</td>\n",
              "      <td>12/31/2016 23:51</td>\n",
              "      <td>Business</td>\n",
              "      <td>Gampaha</td>\n",
              "      <td>Ilukwatta</td>\n",
              "      <td>48.2</td>\n",
              "      <td>Temporary Site</td>\n",
              "    </tr>\n",
              "    <tr>\n",
              "      <th>1155</th>\n",
              "      <td>Totals</td>\n",
              "      <td>NaN</td>\n",
              "      <td>NaN</td>\n",
              "      <td>NaN</td>\n",
              "      <td>NaN</td>\n",
              "      <td>12204.7</td>\n",
              "      <td>NaN</td>\n",
              "    </tr>\n",
              "  </tbody>\n",
              "</table>\n",
              "</div>"
            ],
            "text/plain": [
              "           START_DATE*         END_DATE*  ...   MILES*         PURPOSE*\n",
              "1146  12/30/2016 11:31  12/30/2016 11:56  ...      2.9  Errand/Supplies\n",
              "1147  12/30/2016 15:41  12/30/2016 16:03  ...      4.6  Errand/Supplies\n",
              "1148  12/30/2016 16:45  12/30/2016 17:08  ...      4.6          Meeting\n",
              "1149  12/30/2016 23:06  12/30/2016 23:10  ...      0.8   Customer Visit\n",
              "1150   12/31/2016 1:07   12/31/2016 1:14  ...      0.7          Meeting\n",
              "1151  12/31/2016 13:24  12/31/2016 13:42  ...      3.9   Temporary Site\n",
              "1152  12/31/2016 15:03  12/31/2016 15:38  ...     16.2          Meeting\n",
              "1153  12/31/2016 21:32  12/31/2016 21:50  ...      6.4   Temporary Site\n",
              "1154  12/31/2016 22:08  12/31/2016 23:51  ...     48.2   Temporary Site\n",
              "1155            Totals               NaN  ...  12204.7              NaN\n",
              "\n",
              "[10 rows x 7 columns]"
            ]
          },
          "metadata": {
            "tags": []
          },
          "execution_count": 9
        }
      ]
    },
    {
      "cell_type": "markdown",
      "metadata": {
        "id": "k6exqCuajujq",
        "colab_type": "text"
      },
      "source": [
        "## **Main Attributes**\n",
        "\n"
      ]
    },
    {
      "cell_type": "markdown",
      "metadata": {
        "id": "f4KLqtd5j3W-",
        "colab_type": "text"
      },
      "source": [
        "### **1. START_DATE***\n",
        "\n",
        "#### **Attribute Type:**\n",
        "The START_DATE* attribute describes the date when the Uber Trip starts.\n",
        "\n",
        "This attribute is non-null object based on the initial exploration summary. \n",
        "\n",
        "#### **Value Range:**\n",
        "\n",
        "There are 1155 unique dates presented in the figure below. "
      ]
    },
    {
      "cell_type": "code",
      "metadata": {
        "id": "w8n2GbMij70y",
        "colab_type": "code",
        "outputId": "840b897b-0632-4cb0-f406-25261b46d070",
        "colab": {
          "base_uri": "https://localhost:8080/",
          "height": 1000
        }
      },
      "source": [
        "#The code here is to show the count of the Uber trip starting dates.\n",
        "print((data.groupby('START_DATE*')).size())"
      ],
      "execution_count": 0,
      "outputs": [
        {
          "output_type": "stream",
          "text": [
            "START_DATE*\n",
            "1/1/16 21:11       1\n",
            "1/10/16 08:05      1\n",
            "1/10/16 12:17      1\n",
            "1/10/16 15:08      1\n",
            "1/10/16 18:18      1\n",
            "1/10/16 19:12      1\n",
            "1/11/16 08:55      1\n",
            "1/11/16 11:56      1\n",
            "1/11/16 13:32      1\n",
            "1/11/16 14:30      1\n",
            "1/12/16 12:33      1\n",
            "1/12/16 12:53      1\n",
            "1/12/16 14:42      1\n",
            "1/12/16 15:13      1\n",
            "1/12/16 15:42      1\n",
            "1/12/16 16:02      1\n",
            "1/13/2016 13:54    1\n",
            "1/13/2016 15:00    1\n",
            "1/14/2016 16:29    1\n",
            "1/14/2016 21:39    1\n",
            "1/15/2016 0:41     1\n",
            "1/15/2016 11:43    1\n",
            "1/15/2016 13:26    1\n",
            "1/18/2016 14:55    1\n",
            "1/18/2016 16:13    1\n",
            "1/19/2016 10:55    1\n",
            "1/19/2016 9:09     1\n",
            "1/2/16 01:25       1\n",
            "1/2/16 20:25       1\n",
            "1/20/2016 10:36    1\n",
            "                  ..\n",
            "9/12/16 11:15      1\n",
            "9/12/16 13:04      1\n",
            "9/13/2016 16:56    1\n",
            "9/14/2016 11:55    1\n",
            "9/15/2016 20:33    1\n",
            "9/16/2016 7:08     1\n",
            "9/18/2016 18:07    1\n",
            "9/19/2016 14:40    1\n",
            "9/19/2016 16:23    1\n",
            "9/19/2016 17:36    1\n",
            "9/19/2016 19:10    1\n",
            "9/19/2016 6:18     1\n",
            "9/2/16 11:37       1\n",
            "9/2/16 18:56       1\n",
            "9/20/2016 11:29    1\n",
            "9/20/2016 20:47    1\n",
            "9/23/2016 13:15    1\n",
            "9/24/2016 14:34    1\n",
            "9/24/2016 20:29    1\n",
            "9/27/2016 13:21    1\n",
            "9/27/2016 19:14    1\n",
            "9/27/2016 21:01    1\n",
            "9/27/2016 8:33     1\n",
            "9/28/2016 17:21    1\n",
            "9/29/2016 16:13    1\n",
            "9/30/2016 17:39    1\n",
            "9/30/2016 20:59    1\n",
            "9/5/16 10:25       1\n",
            "9/6/16 17:49       1\n",
            "Totals             1\n",
            "Length: 1155, dtype: int64\n"
          ],
          "name": "stdout"
        }
      ]
    },
    {
      "cell_type": "markdown",
      "metadata": {
        "id": "OyqnHYLckBPg",
        "colab_type": "text"
      },
      "source": [
        "*Figure 1: Various START_DATE*\n",
        "\n",
        "\n",
        "Based on Figure 1: Various START_DATE*, there are 1155 unique starting dates and the data type is int64. The format of the START_DATE* in this figure is month/date/year. Some records have the same date but have different starting times. There are also some inconsistencies with the year format, but it doesn't affect anything as the viewer knows that the trips occurred in 2016.\n",
        "\n"
      ]
    },
    {
      "cell_type": "markdown",
      "metadata": {
        "id": "sjICnBvtkFwo",
        "colab_type": "text"
      },
      "source": [
        "### **2. END_DATE***\n",
        "\n",
        "#### **Attribute Type:**\n",
        "The END_DATE* attribute describes the day when the Uber Trip ends.\n",
        "\n",
        "This attribute is non-null object based on the initial exploration summary.\n",
        "\n",
        "#### **Value Range:**\n",
        "\n",
        "There are 1154 unique dates presented in the figure below."
      ]
    },
    {
      "cell_type": "code",
      "metadata": {
        "id": "1K4eXsCokLwT",
        "colab_type": "code",
        "outputId": "ed11abd8-ce70-43da-cbb4-af4cb5f40eb2",
        "colab": {
          "base_uri": "https://localhost:8080/",
          "height": 1000
        }
      },
      "source": [
        "#The code here is to show the count of the Uber trip ending dates.\n",
        "print((data.groupby('END_DATE*')).size())"
      ],
      "execution_count": 0,
      "outputs": [
        {
          "output_type": "stream",
          "text": [
            "END_DATE*\n",
            "1/1/16 21:17       1\n",
            "1/10/16 08:25      1\n",
            "1/10/16 12:44      1\n",
            "1/10/16 15:51      1\n",
            "1/10/16 18:53      1\n",
            "1/10/16 19:32      1\n",
            "1/11/16 09:21      1\n",
            "1/11/16 12:03      1\n",
            "1/11/16 13:46      1\n",
            "1/11/16 14:43      1\n",
            "1/12/16 12:49      1\n",
            "1/12/16 13:09      1\n",
            "1/12/16 14:56      1\n",
            "1/12/16 15:28      1\n",
            "1/12/16 15:54      1\n",
            "1/12/16 17:00      1\n",
            "1/13/2016 14:07    1\n",
            "1/13/2016 15:28    1\n",
            "1/14/2016 17:05    1\n",
            "1/14/2016 21:45    1\n",
            "1/15/2016 12:03    1\n",
            "1/15/2016 13:44    1\n",
            "1/15/2016 1:01     1\n",
            "1/18/2016 15:06    1\n",
            "1/18/2016 16:24    1\n",
            "1/19/2016 11:09    1\n",
            "1/19/2016 9:23     1\n",
            "1/2/16 01:37       1\n",
            "1/2/16 20:38       1\n",
            "1/20/2016 11:11    1\n",
            "                  ..\n",
            "9/12/16 08:12      1\n",
            "9/12/16 11:24      1\n",
            "9/12/16 13:44      1\n",
            "9/13/2016 17:02    1\n",
            "9/14/2016 11:59    1\n",
            "9/15/2016 20:38    1\n",
            "9/16/2016 7:08     1\n",
            "9/18/2016 18:11    1\n",
            "9/19/2016 14:56    1\n",
            "9/19/2016 16:31    1\n",
            "9/19/2016 18:20    1\n",
            "9/19/2016 19:49    1\n",
            "9/19/2016 6:49     1\n",
            "9/2/16 12:24       1\n",
            "9/2/16 19:37       1\n",
            "9/20/2016 11:48    1\n",
            "9/20/2016 22:47    1\n",
            "9/23/2016 13:40    1\n",
            "9/24/2016 15:15    1\n",
            "9/24/2016 20:33    1\n",
            "9/27/2016 14:43    1\n",
            "9/27/2016 20:34    1\n",
            "9/27/2016 8:35     1\n",
            "9/28/2016 19:36    1\n",
            "9/28/2016 2:37     1\n",
            "9/29/2016 18:47    1\n",
            "9/30/2016 20:20    1\n",
            "9/30/2016 22:34    1\n",
            "9/5/16 10:44       1\n",
            "9/6/16 17:49       1\n",
            "Length: 1154, dtype: int64\n"
          ],
          "name": "stdout"
        }
      ]
    },
    {
      "cell_type": "markdown",
      "metadata": {
        "id": "yoHXhEOckPGA",
        "colab_type": "text"
      },
      "source": [
        "*Figure 2: Various END_DATE*\n",
        "\n",
        "\n",
        "Based on Figure 2: Various END_DATE, there are 1154 unique starting dates and the data type is int64. However, there is one value missing making it inconsistent with the START_DATE* column. The format of the END_DATE* in this figure is month/date/year. Some records have the same date but have different ending times. There are also some inconsistencies with the year format, but it doesn't affect anything as the viewer knows that the trips occurred in 2016."
      ]
    },
    {
      "cell_type": "markdown",
      "metadata": {
        "id": "YZ3m4W74kTxV",
        "colab_type": "text"
      },
      "source": [
        "### **3. CATEGORY***\n",
        "\n",
        "#### **Attribute Type:**\n",
        "The CATEGORY* attribute describes whether the Uber Trip is for business or personal use.\n",
        "\n",
        "This attribute is non-null object based on the initial exploration summary. It is also nominal as the values are unique and there is no relation implied.\n",
        "\n",
        "#### **Value Range:**\n",
        "The values for this attribute are business and personal."
      ]
    },
    {
      "cell_type": "code",
      "metadata": {
        "id": "HhuDASeMka_M",
        "colab_type": "code",
        "outputId": "d9a5dded-1854-4146-af46-fb46c9b2fe82",
        "colab": {
          "base_uri": "https://localhost:8080/",
          "height": 82
        }
      },
      "source": [
        "#This code here reveals the amount of rows that each category has\n",
        "print((data.groupby('CATEGORY*')).size())"
      ],
      "execution_count": 0,
      "outputs": [
        {
          "output_type": "stream",
          "text": [
            "CATEGORY*\n",
            "Business    1078\n",
            "Personal      77\n",
            "dtype: int64\n"
          ],
          "name": "stdout"
        }
      ]
    },
    {
      "cell_type": "code",
      "metadata": {
        "id": "MuhDxnaJkfhp",
        "colab_type": "code",
        "outputId": "94ba4326-d3a3-49fb-b73a-ddfa26f00105",
        "colab": {
          "base_uri": "https://localhost:8080/",
          "height": 302
        }
      },
      "source": [
        "#This code here displays the frequency distribution of the CATEGORY* column in a bar chart form.\n",
        "%matplotlib inline\n",
        "import seaborn as sns\n",
        "import matplotlib.pyplot as plt\n",
        "category_count = data['CATEGORY*'].value_counts()\n",
        "sns.set(style = \"darkgrid\")\n",
        "sns.barplot(category_count.index, category_count.values, alpha = 0.9)\n",
        "plt.title('Frequency Distribution of Category')\n",
        "plt.ylabel('Number of Occurrences', fontsize = 12)\n",
        "plt.xlabel('Categories', fontsize = 12)\n",
        "plt.show()"
      ],
      "execution_count": 0,
      "outputs": [
        {
          "output_type": "display_data",
          "data": {
            "image/png": "[encoded data removed]",
            "text/plain": [
              "<Figure size 432x288 with 1 Axes>"
            ]
          },
          "metadata": {
            "tags": []
          }
        }
      ]
    },
    {
      "cell_type": "markdown",
      "metadata": {
        "id": "umC4WcVUkjXj",
        "colab_type": "text"
      },
      "source": [
        "*Figure 3: CATEGORY Summary and Distribution of CATEGORY* Histogram *\n",
        "\n",
        "\n",
        "\n",
        "Based on Figure 3: CATEGORY Summary and Distribution of CATEGORY* Histogram, the common category of the 2016 Uber Trips is Business with 1078 followed by personal with 77."
      ]
    },
    {
      "cell_type": "markdown",
      "metadata": {
        "id": "yMHO_52wknSk",
        "colab_type": "text"
      },
      "source": [
        "### **4. START***\n",
        "\n",
        "#### **Attribute Type:**\n",
        "The START* attribute describes the exact location where the Uber Trip commences.\n",
        "\n",
        "This attribute is non-null object based on the initial exploration summary. It is also nominal as the values are unique and there is no relation implied.\n",
        "\n",
        "\n",
        "#### **Value Range:**\n",
        "The dataset was grouped to count the numerous starting locations. There are 177 unique starting locations presented in the figure below. "
      ]
    },
    {
      "cell_type": "code",
      "metadata": {
        "id": "SRmRsHX9kqKK",
        "colab_type": "code",
        "outputId": "777131f3-4c41-4a92-f3af-2f02910bc31b",
        "colab": {
          "base_uri": "https://localhost:8080/",
          "height": 1000
        }
      },
      "source": [
        "#This code here is to count how many different starting locations are present in the dataset.\n",
        "print((data.groupby('START*')).size())"
      ],
      "execution_count": 0,
      "outputs": [
        {
          "output_type": "stream",
          "text": [
            "START*\n",
            "Agnew                           4\n",
            "Almond                          1\n",
            "Apex                           17\n",
            "Arabi                           1\n",
            "Arlington                       1\n",
            "Arlington Park at Amberly       1\n",
            "Asheville                       2\n",
            "Austin                          1\n",
            "Banner Elk                      8\n",
            "Bellevue                        1\n",
            "Berkeley                       16\n",
            "Boone                           2\n",
            "Briar Meadow                    1\n",
            "Bryson City                     5\n",
            "Burtrose                        1\n",
            "CBD                             4\n",
            "Capitol One                     2\n",
            "Cary                          201\n",
            "Central                         8\n",
            "Chalmette                       1\n",
            "Chapel Hill                     2\n",
            "Chessington                     2\n",
            "College Avenue                  1\n",
            "Colombo                         8\n",
            "Columbia Heights                1\n",
            "Congress Ave District           1\n",
            "Connecticut Avenue              1\n",
            "Convention Center District      1\n",
            "Cory                            1\n",
            "Couples Glen                    2\n",
            "                             ... \n",
            "Southside                       4\n",
            "St Thomas                       1\n",
            "Stonewater                      1\n",
            "Storyville                      2\n",
            "Sugar Land                      1\n",
            "Summerwinds                     1\n",
            "Sunnyside                       1\n",
            "Sunnyvale                       1\n",
            "Tanglewood                      4\n",
            "Tenderloin                      1\n",
            "The Drag                        7\n",
            "Topton                          2\n",
            "Townes at Everett Crossing      1\n",
            "Tribeca                         1\n",
            "University District             1\n",
            "Unknown Location              148\n",
            "Wake Co.                        1\n",
            "Wake Forest                     1\n",
            "Washington                      1\n",
            "Washington Avenue               1\n",
            "Waverly Place                   4\n",
            "Wayne Ridge                     4\n",
            "West Berkeley                   5\n",
            "West End                        1\n",
            "West Palm Beach                 2\n",
            "West University                 2\n",
            "Weston                          2\n",
            "Westpark Place                 17\n",
            "Whitebridge                    68\n",
            "Winston Salem                   1\n",
            "Length: 177, dtype: int64\n"
          ],
          "name": "stdout"
        }
      ]
    },
    {
      "cell_type": "markdown",
      "metadata": {
        "id": "6f9G9d_uktqK",
        "colab_type": "text"
      },
      "source": [
        "*Figure 4: Various START* Locations*\n",
        "\n",
        "\n",
        "\n",
        "Based on Figure 4: Various START* Locations*, there are 177 unique starting locations and the data type is int64. The format of the START* locations are in alphabetical order. Cary is the most common starting location with a record of 201. There are also 148 missing values represented by 'Unknown Location'.\n",
        "\n"
      ]
    },
    {
      "cell_type": "markdown",
      "metadata": {
        "id": "9Q71qYAhk8iu",
        "colab_type": "text"
      },
      "source": [
        "### **5. STOP***\n",
        "\n",
        "#### **Attribute Type:**\n",
        "The STOP* attribute describes the exact location where the Uber Trip finishes.\n",
        "\n",
        "This attribute is non-null object based on the initial exploration summary.It is also a nominal as the values are unique and there is no relation implied.\n",
        "\n",
        "#### **Value Range:**\n",
        "To calculate the value range of this attribute, the dataset was grouped to count the numerous ending locations"
      ]
    },
    {
      "cell_type": "code",
      "metadata": {
        "id": "h77Kxag1lADu",
        "colab_type": "code",
        "outputId": "1e4a946a-90be-406b-eb13-ea79c48dcf76",
        "colab": {
          "base_uri": "https://localhost:8080/",
          "height": 1000
        }
      },
      "source": [
        "#This code here presents the count of how many stopping locations the customers were dropped off at.\n",
        "print((data.groupby('STOP*')).size())"
      ],
      "execution_count": 0,
      "outputs": [
        {
          "output_type": "stream",
          "text": [
            "STOP*\n",
            "Agnew                          4\n",
            "Alief                          1\n",
            "Almond                         1\n",
            "Apex                          17\n",
            "Arabi                          1\n",
            "Arlington                      1\n",
            "Arlington Park at Amberly      1\n",
            "Arts District                  1\n",
            "Asheville                      2\n",
            "Banner Elk                     8\n",
            "Bay Farm Island                1\n",
            "Bellevue                       1\n",
            "Berkeley                      16\n",
            "Boone                          2\n",
            "Briar Meadow                   1\n",
            "Bryson City                    5\n",
            "Burtrose                       2\n",
            "Bywater                        1\n",
            "CBD                            2\n",
            "Capitol One                    2\n",
            "Cary                         203\n",
            "Cedar Hill                     1\n",
            "Central                        9\n",
            "Chalmette                      1\n",
            "Chapel Hill                    1\n",
            "Chessington                    3\n",
            "College Avenue                 1\n",
            "Colombo                        8\n",
            "Columbia Heights               1\n",
            "Congress Ave District          3\n",
            "                            ... \n",
            "Storyville                     2\n",
            "Sugar Land                     1\n",
            "Summerwinds                    1\n",
            "Sunnyside                      1\n",
            "Sunnyvale                      1\n",
            "Tanglewood                     4\n",
            "Tenderloin                     1\n",
            "The Drag                       7\n",
            "Topton                         2\n",
            "Tribeca                        1\n",
            "Tudor City                     1\n",
            "Umstead                        1\n",
            "University District            1\n",
            "Unknown Location             149\n",
            "Vista East                     1\n",
            "Wake Co.                       1\n",
            "Wake Forest                    1\n",
            "Walnut Terrace                 1\n",
            "Washington                     1\n",
            "Washington Avenue              1\n",
            "Waverly Place                  5\n",
            "Wayne Ridge                    4\n",
            "West Berkeley                  3\n",
            "West Palm Beach                2\n",
            "West University                2\n",
            "Weston                         5\n",
            "Westpark Place                16\n",
            "Whitebridge                   65\n",
            "Williamsburg Manor             1\n",
            "Winston Salem                  1\n",
            "Length: 188, dtype: int64\n"
          ],
          "name": "stdout"
        }
      ]
    },
    {
      "cell_type": "markdown",
      "metadata": {
        "id": "QmBfj7kskvfp",
        "colab_type": "text"
      },
      "source": [
        "*Figure 5: Various STOPPING* Locations*\n",
        "\n",
        "\n",
        "Based on Figure 5: Various STOPPING* Locations*, there are 188 unique starting locations and the data type is int64. The format of the STOP* locations are in alphabetical order. Cary is the most common stopping location with a record of 203. There are also 149 missing values represented by 'Unknown Location'."
      ]
    },
    {
      "cell_type": "markdown",
      "metadata": {
        "id": "EgcsVg7tlDeY",
        "colab_type": "text"
      },
      "source": [
        "### **6. MILES***\n",
        "\n",
        "#### **Attribute Type:**\n",
        "The MILES* attribute describes the exact distance from where the Uber Trip starts and where the Uber Trip stops.\n",
        "\n",
        "This attribute is non-null float based on the initial data exploration summary. It is also interval because it is the difference between the start and stop locations.\n",
        "\n",
        "#### **Value Range:**\n",
        "\n",
        "The value range for this attribute is 0.5 to 302 miles. "
      ]
    },
    {
      "cell_type": "code",
      "metadata": {
        "id": "5-dLARcrlIrE",
        "colab_type": "code",
        "outputId": "4040b212-c3d8-426e-b4c3-17299b800745",
        "colab": {
          "base_uri": "https://localhost:8080/",
          "height": 272
        }
      },
      "source": [
        "#The MILES* column is the only column that is not a not-null object.\n",
        "data.describe()"
      ],
      "execution_count": 0,
      "outputs": [
        {
          "output_type": "execute_result",
          "data": {
            "text/html": [
              "<div>\n",
              "<style scoped>\n",
              "    .dataframe tbody tr th:only-of-type {\n",
              "        vertical-align: middle;\n",
              "    }\n",
              "\n",
              "    .dataframe tbody tr th {\n",
              "        vertical-align: top;\n",
              "    }\n",
              "\n",
              "    .dataframe thead th {\n",
              "        text-align: right;\n",
              "    }\n",
              "</style>\n",
              "<table border=\"1\" class=\"dataframe\">\n",
              "  <thead>\n",
              "    <tr style=\"text-align: right;\">\n",
              "      <th></th>\n",
              "      <th>MILES*</th>\n",
              "    </tr>\n",
              "  </thead>\n",
              "  <tbody>\n",
              "    <tr>\n",
              "      <th>count</th>\n",
              "      <td>1156.000000</td>\n",
              "    </tr>\n",
              "    <tr>\n",
              "      <th>mean</th>\n",
              "      <td>21.115398</td>\n",
              "    </tr>\n",
              "    <tr>\n",
              "      <th>std</th>\n",
              "      <td>359.299007</td>\n",
              "    </tr>\n",
              "    <tr>\n",
              "      <th>min</th>\n",
              "      <td>0.500000</td>\n",
              "    </tr>\n",
              "    <tr>\n",
              "      <th>25%</th>\n",
              "      <td>2.900000</td>\n",
              "    </tr>\n",
              "    <tr>\n",
              "      <th>50%</th>\n",
              "      <td>6.000000</td>\n",
              "    </tr>\n",
              "    <tr>\n",
              "      <th>75%</th>\n",
              "      <td>10.400000</td>\n",
              "    </tr>\n",
              "    <tr>\n",
              "      <th>max</th>\n",
              "      <td>12204.700000</td>\n",
              "    </tr>\n",
              "  </tbody>\n",
              "</table>\n",
              "</div>"
            ],
            "text/plain": [
              "             MILES*\n",
              "count   1156.000000\n",
              "mean      21.115398\n",
              "std      359.299007\n",
              "min        0.500000\n",
              "25%        2.900000\n",
              "50%        6.000000\n",
              "75%       10.400000\n",
              "max    12204.700000"
            ]
          },
          "metadata": {
            "tags": []
          },
          "execution_count": 16
        }
      ]
    },
    {
      "cell_type": "markdown",
      "metadata": {
        "id": "XgeZgzO4a-oL",
        "colab_type": "text"
      },
      "source": [
        "*************"
      ]
    },
    {
      "cell_type": "markdown",
      "metadata": {
        "id": "rDCXAHo5lGsi",
        "colab_type": "text"
      },
      "source": [
        "*Figure 6: MILES Statistical Summary*\n",
        "\n",
        "Based on Figure 6: MILES Statistical Summary, the minimum miles distance is 0.5, the first quartile is 2.9, the second quartile is 6, the third quartile is 10.4 and the maximum miles distance is 12204.7. However, the maximum value is incorrect as this value is the calculated total of miles driven with the dataset records. This problem will be addressed in the later sections of the report. The dataset is also heavily centred the 2.9-10.4, showing the Interquartile range. \n",
        "\n",
        "From the full Excel file of the dataset, these interesting points were found:\n",
        "* The shortest Uber Drive is 0.5 miles with 3 records. These records all have purpose Errand/Supplies.\n",
        "* The longest Uber Drive is 310.3 miles from Latta to Jacksonville,Florida."
      ]
    },
    {
      "cell_type": "markdown",
      "metadata": {
        "id": "NXRcxQ9Oncra",
        "colab_type": "text"
      },
      "source": [
        "### **7. PURPOSE***\n",
        "\n",
        "#### **Attribute Type:**\n",
        "The PURPOSE* attribute describes the reason why the customer decided to take the Uber Trip.\n",
        "\n",
        "This attribute is non-null object based on the initial exploration summary. It is also nominal as the values only act labels.\n",
        "\n",
        "#### **Value Range:**\n",
        "The values for this attribute are Airport/Travel, Between Offices, Charity($), Commute, Customer Visit, Errand/Supplies, Meal/Entertain, Meeting, Moving and Temporary Site.\n"
      ]
    },
    {
      "cell_type": "code",
      "metadata": {
        "id": "F9qNEpehncVs",
        "colab_type": "code",
        "outputId": "61124650-9828-4f1d-e39c-fa4f6b1ae007",
        "colab": {
          "base_uri": "https://localhost:8080/",
          "height": 210
        }
      },
      "source": [
        "#The code here displays the different purposes of travel.\n",
        "print((data.groupby('PURPOSE*')).size())"
      ],
      "execution_count": 0,
      "outputs": [
        {
          "output_type": "stream",
          "text": [
            "PURPOSE*\n",
            "Airport/Travel       3\n",
            "Between Offices     18\n",
            "Charity ($)          1\n",
            "Commute              1\n",
            "Customer Visit     101\n",
            "Errand/Supplies    128\n",
            "Meal/Entertain     160\n",
            "Meeting            187\n",
            "Moving               4\n",
            "Temporary Site      50\n",
            "dtype: int64\n"
          ],
          "name": "stdout"
        }
      ]
    },
    {
      "cell_type": "code",
      "metadata": {
        "id": "5seJ5D5JncFX",
        "colab_type": "code",
        "outputId": "e6485c60-ee81-45b0-a710-c826372b76cd",
        "colab": {
          "base_uri": "https://localhost:8080/",
          "height": 574
        }
      },
      "source": [
        "#This code here displays the frequency distribution of the PURPOSE* column in a bar chart form.\n",
        "%matplotlib inline\n",
        "import seaborn as sns\n",
        "import matplotlib.pyplot as plt\n",
        "category_count = data['PURPOSE*'].value_counts()\n",
        "sns.set(style = \"darkgrid\")\n",
        "sns.set(rc={'figure.figsize':(17,9)})\n",
        "sns.barplot(category_count.index, category_count.values, alpha = 1)\n",
        "plt.title('Frequency Distribution of PURPOSE*')\n",
        "plt.ylabel('Number of Occurrences', fontsize = 12)\n",
        "plt.xlabel('Purpose', fontsize = 12)\n",
        "plt.show()"
      ],
      "execution_count": 0,
      "outputs": [
        {
          "output_type": "display_data",
          "data": {
            "image/png": "[encoded data removed]",
            "text/plain": [
              "<Figure size 1224x648 with 1 Axes>"
            ]
          },
          "metadata": {
            "tags": []
          }
        }
      ]
    },
    {
      "cell_type": "markdown",
      "metadata": {
        "id": "QG4jaVClnaaY",
        "colab_type": "text"
      },
      "source": [
        "*Figure 7: PURPOSE Summary and Bar Chart of the PURPOSE attribute*\n",
        "\n",
        "\n",
        "Based on Figure 7: PURPOSE Summary and Bar Chart of the PURPOSE attribute,the top three purposes are Meeting with 187, followed by Meal/Entertain with 160 and Errand/Supplies with 128. The lowest purpose of Uber Trip are Charity($) and Commute with only one record. Like the other attributes, the datatype is also int64."
      ]
    },
    {
      "cell_type": "markdown",
      "metadata": {
        "id": "mGVldCTKVAHP",
        "colab_type": "text"
      },
      "source": [
        "## **DATA METHODOLOGY**"
      ]
    },
    {
      "cell_type": "markdown",
      "metadata": {
        "id": "ErW1ocbDVDM2",
        "colab_type": "text"
      },
      "source": [
        "\n",
        "The aim of this project is to understand consumer behaviour based on the attributes in the dataset provided.\n",
        "\n",
        "Firstly, the attributes available in the training dataset that can be analysed to help meet the objective were identified. \n",
        "\n",
        "However, there were problems encountered in the data exploration process such as:\n",
        "1. Null Values in PURPOSE Column: These values are represented by NaN. \n",
        "2. Incorrect Classification of Maximum Value in MILES column: This occurred due to extra row showing calculated total. The maximum value is supposed to be 322 miles.\n",
        "3. Incorrect Datatype Classification of START_DATE and END_DATE columns: The datatype classification in the initial data exploration was non-null object but it is supposed to be datetime.\n",
        "4. Records with Unknown Location for START and STOP columns.\n",
        "\n",
        "Then the following pre-processing and transformation techniques were done to make the dataset usable:"
      ]
    },
    {
      "cell_type": "markdown",
      "metadata": {
        "id": "CFa6PXubVyaX",
        "colab_type": "text"
      },
      "source": [
        "### **1. Null Values in Purpose Column**\n",
        "The code below shows that there are 507 values out 1156 that are null values. "
      ]
    },
    {
      "cell_type": "code",
      "metadata": {
        "id": "_w1GdrP3U_xw",
        "colab_type": "code",
        "outputId": "c4f188a3-169f-4ccc-e0ba-676e699233eb",
        "colab": {
          "base_uri": "https://localhost:8080/",
          "height": 34
        }
      },
      "source": [
        "#checking null values from the dataset\n",
        "print(data.isnull().values.sum())"
      ],
      "execution_count": 0,
      "outputs": [
        {
          "output_type": "stream",
          "text": [
            "507\n"
          ],
          "name": "stdout"
        }
      ]
    },
    {
      "cell_type": "code",
      "metadata": {
        "id": "lDC24m8GV1Rl",
        "colab_type": "code",
        "outputId": "c1b70b42-49c2-4ad2-c8c7-d5656bac0060",
        "colab": {
          "base_uri": "https://localhost:8080/",
          "height": 156
        }
      },
      "source": [
        "#checking null values by columns\n",
        "print(data.isnull().sum())"
      ],
      "execution_count": 0,
      "outputs": [
        {
          "output_type": "stream",
          "text": [
            "START_DATE*      0\n",
            "END_DATE*        1\n",
            "CATEGORY*        1\n",
            "START*           1\n",
            "STOP*            1\n",
            "MILES*           0\n",
            "PURPOSE*       503\n",
            "dtype: int64\n"
          ],
          "name": "stdout"
        }
      ]
    },
    {
      "cell_type": "markdown",
      "metadata": {
        "id": "zfS9bVuOV38K",
        "colab_type": "text"
      },
      "source": [
        "Figure 8: Null Value Summary\n",
        "\n",
        "Based on Figure 12: Null Value Summary, there are 507 missing values in this dataset. The PURPOSE* column contains the most null values with 503, followed by the END_DATE* column ,CATEGORY* column, START* column and STOP* column, all containing one null value."
      ]
    },
    {
      "cell_type": "markdown",
      "metadata": {
        "id": "ytTbvRPEV5SW",
        "colab_type": "text"
      },
      "source": [
        "To fix the null value issue in the PURPOSE* column, the following processes were done:"
      ]
    },
    {
      "cell_type": "code",
      "metadata": {
        "id": "Argv7_GtV82S",
        "colab_type": "code",
        "outputId": "3eca6d2a-327b-4980-c646-a3fefb9471b3",
        "colab": {
          "base_uri": "https://localhost:8080/",
          "height": 52
        }
      },
      "source": [
        "#Step 1: Find how many null values are in the PURPOSE* column. \n",
        "#False represents the rows in the dataset that are not null.\n",
        "#True represents the records of null values.\n",
        "print(data['PURPOSE*'].isnull().value_counts())"
      ],
      "execution_count": 0,
      "outputs": [
        {
          "output_type": "stream",
          "text": [
            "False    1156\n",
            "Name: PURPOSE*, dtype: int64\n"
          ],
          "name": "stdout"
        }
      ]
    },
    {
      "cell_type": "markdown",
      "metadata": {
        "id": "LixoA7_WWHah",
        "colab_type": "text"
      },
      "source": [
        "The decision to replace these True values from the PURPOSE* summary above to a new name called Unknown Purpose."
      ]
    },
    {
      "cell_type": "code",
      "metadata": {
        "id": "qXEZPn6gV_yN",
        "colab_type": "code",
        "colab": {}
      },
      "source": [
        "#Step 2: Replace missing values with new name called \"Unknown Purpose\"\n",
        "data[\"PURPOSE*\"].fillna(\"Unknown Purpose\", inplace = True)"
      ],
      "execution_count": 0,
      "outputs": []
    },
    {
      "cell_type": "code",
      "metadata": {
        "id": "wh1n2mMMV_nc",
        "colab_type": "code",
        "outputId": "7337bcbd-c294-45b4-a353-149dd2c53d9a",
        "colab": {
          "base_uri": "https://localhost:8080/",
          "height": 225
        }
      },
      "source": [
        "#Step 3: Recheck the PURPOSE* column summary\n",
        "print(data['PURPOSE*'].value_counts())"
      ],
      "execution_count": 0,
      "outputs": [
        {
          "output_type": "stream",
          "text": [
            "Unknown Purpose    503\n",
            "Meeting            187\n",
            "Meal/Entertain     160\n",
            "Errand/Supplies    128\n",
            "Customer Visit     101\n",
            "Temporary Site      50\n",
            "Between Offices     18\n",
            "Moving               4\n",
            "Airport/Travel       3\n",
            "Commute              1\n",
            "Charity ($)          1\n",
            "Name: PURPOSE*, dtype: int64\n"
          ],
          "name": "stdout"
        }
      ]
    },
    {
      "cell_type": "markdown",
      "metadata": {
        "id": "WiJKpV73WA7J",
        "colab_type": "text"
      },
      "source": [
        "Figure 9: Final PURPOSE* Summary"
      ]
    },
    {
      "cell_type": "markdown",
      "metadata": {
        "id": "EaGD54SbWAwj",
        "colab_type": "text"
      },
      "source": [
        "Based on Figure 9: Final PURPOSE* Summary, all 1156 rows are now categorised. The data is now usable for testing. "
      ]
    },
    {
      "cell_type": "markdown",
      "metadata": {
        "id": "BrcCJD2WW5Zm",
        "colab_type": "text"
      },
      "source": [
        "### **2.Incorrect Classification of Maximum Value in Miles column due to extra row showing calculated total**"
      ]
    },
    {
      "cell_type": "code",
      "metadata": {
        "id": "7dLW0UvLW2Mk",
        "colab_type": "code",
        "colab": {}
      },
      "source": [
        "#Step 1: Remove the last row of the dataset (since there is no value there except the total number of MILES*)\n",
        "data.drop(data.tail(1).index, inplace=True)"
      ],
      "execution_count": 0,
      "outputs": []
    },
    {
      "cell_type": "code",
      "metadata": {
        "id": "HTH1nWGaXEfK",
        "colab_type": "code",
        "outputId": "7ab4a9c3-d0b0-4eec-bafa-1b6d383bd3ff",
        "colab": {
          "base_uri": "https://localhost:8080/",
          "height": 225
        }
      },
      "source": [
        "#Step 2: Recheck all attributes have the same number of rows with unique values (no duplicate).\n",
        "data.info()"
      ],
      "execution_count": 0,
      "outputs": [
        {
          "output_type": "stream",
          "text": [
            "<class 'pandas.core.frame.DataFrame'>\n",
            "Int64Index: 1154 entries, 0 to 1153\n",
            "Data columns (total 7 columns):\n",
            "START_DATE*    1154 non-null object\n",
            "END_DATE*      1154 non-null object\n",
            "CATEGORY*      1154 non-null object\n",
            "START*         1154 non-null object\n",
            "STOP*          1154 non-null object\n",
            "MILES*         1154 non-null float64\n",
            "PURPOSE*       1154 non-null object\n",
            "dtypes: float64(1), object(6)\n",
            "memory usage: 72.1+ KB\n"
          ],
          "name": "stdout"
        }
      ]
    },
    {
      "cell_type": "code",
      "metadata": {
        "id": "H4Llz9L1W8Gv",
        "colab_type": "code",
        "outputId": "5a333d08-a1be-4e8e-ec1a-207be9a5c25b",
        "colab": {
          "base_uri": "https://localhost:8080/",
          "height": 1000
        }
      },
      "source": [
        "#Step 3: Check if there're duplicate rows. If it record states true, it means there are still duplicate rows\n",
        "#However, all rows show false meaning there are no duplicated rows.\n",
        "data.duplicated(subset=None, keep='first')"
      ],
      "execution_count": 0,
      "outputs": [
        {
          "output_type": "execute_result",
          "data": {
            "text/plain": [
              "0       False\n",
              "1       False\n",
              "2       False\n",
              "3       False\n",
              "4       False\n",
              "5       False\n",
              "6       False\n",
              "7       False\n",
              "8       False\n",
              "9       False\n",
              "10      False\n",
              "11      False\n",
              "12      False\n",
              "13      False\n",
              "14      False\n",
              "15      False\n",
              "16      False\n",
              "17      False\n",
              "18      False\n",
              "19      False\n",
              "20      False\n",
              "21      False\n",
              "22      False\n",
              "23      False\n",
              "24      False\n",
              "25      False\n",
              "26      False\n",
              "27      False\n",
              "28      False\n",
              "29      False\n",
              "        ...  \n",
              "1125    False\n",
              "1126    False\n",
              "1127    False\n",
              "1128    False\n",
              "1129    False\n",
              "1130    False\n",
              "1131    False\n",
              "1132    False\n",
              "1133    False\n",
              "1134    False\n",
              "1135    False\n",
              "1136    False\n",
              "1137    False\n",
              "1138    False\n",
              "1139    False\n",
              "1140    False\n",
              "1141    False\n",
              "1142    False\n",
              "1143    False\n",
              "1144    False\n",
              "1145    False\n",
              "1146    False\n",
              "1147    False\n",
              "1148    False\n",
              "1149    False\n",
              "1150    False\n",
              "1151    False\n",
              "1152    False\n",
              "1153    False\n",
              "1154    False\n",
              "Length: 1155, dtype: bool"
            ]
          },
          "metadata": {
            "tags": []
          },
          "execution_count": 17
        }
      ]
    },
    {
      "cell_type": "markdown",
      "metadata": {
        "id": "ZorDp4XMXeSV",
        "colab_type": "text"
      },
      "source": [
        "### **3. Incorrect Datatype Classification of Start_Date and End_Date columns**"
      ]
    },
    {
      "cell_type": "code",
      "metadata": {
        "id": "Nxh4dA05Xciz",
        "colab_type": "code",
        "colab": {}
      },
      "source": [
        "#Before converting START_DATE* and END_DATE* to datatime datatype,make a copy of it first \"copy_data\", \n",
        "copy_data = data.copy()"
      ],
      "execution_count": 0,
      "outputs": []
    },
    {
      "cell_type": "code",
      "metadata": {
        "id": "-_VndWwgXiDh",
        "colab_type": "code",
        "outputId": "5e26d2b2-1d01-4b40-a1ad-94c5cdcbb916",
        "colab": {
          "base_uri": "https://localhost:8080/",
          "height": 221
        }
      },
      "source": [
        "#from datetime import datetime\n",
        "#convert the 'Date' column to datetime format \n",
        "data['START_DATE*']= pd.to_datetime(data['START_DATE*'], dayfirst=True, errors='coerce') \n",
        "data['END_DATE*']= pd.to_datetime(data['END_DATE*'], dayfirst=True, errors='coerce')   \n",
        "# Check the format of 'Date' column \n",
        "data.info() "
      ],
      "execution_count": 0,
      "outputs": [
        {
          "output_type": "stream",
          "text": [
            "<class 'pandas.core.frame.DataFrame'>\n",
            "Int64Index: 1155 entries, 0 to 1154\n",
            "Data columns (total 7 columns):\n",
            "START_DATE*    1155 non-null datetime64[ns]\n",
            "END_DATE*      1155 non-null datetime64[ns]\n",
            "CATEGORY*      1155 non-null object\n",
            "START*         1155 non-null object\n",
            "STOP*          1155 non-null object\n",
            "MILES*         1155 non-null float64\n",
            "PURPOSE*       1155 non-null object\n",
            "dtypes: datetime64[ns](2), float64(1), object(4)\n",
            "memory usage: 72.2+ KB\n"
          ],
          "name": "stdout"
        }
      ]
    },
    {
      "cell_type": "markdown",
      "metadata": {
        "id": "E2cQPWrboGas",
        "colab_type": "text"
      },
      "source": [
        "## **Interesting Findings of Attributes**"
      ]
    },
    {
      "cell_type": "markdown",
      "metadata": {
        "id": "lpH26ZpMdB6H",
        "colab_type": "text"
      },
      "source": [
        "Copies of the dataset were done to find interesting attributes so no results were affected."
      ]
    },
    {
      "cell_type": "code",
      "metadata": {
        "id": "8gCvhFovwzzm",
        "colab_type": "code",
        "colab": {}
      },
      "source": [
        "#after cleaning the data\n",
        "#make a copy \"copy_data\"\n",
        "#do more exploration in the \"copy_data\"\n",
        "#anything happens, wont affect to original data\n",
        "#if anything error during exploring data, can just come back and run the code below (dont need to go back and run everything from the start)\n",
        "\n",
        "#dont need to run 2 lines of code below, \n",
        "#we did in cell 83 already\n",
        "#copy_data = data.copy()\n",
        "#copy_data.head()"
      ],
      "execution_count": 0,
      "outputs": []
    },
    {
      "cell_type": "code",
      "metadata": {
        "id": "C1WmSRPMxLxd",
        "colab_type": "code",
        "outputId": "449de67b-e33a-49a3-f326-e00357649889",
        "colab": {
          "base_uri": "https://localhost:8080/",
          "height": 204
        }
      },
      "source": [
        "#This code partitions the START_DATE* and END_DATE* column.\n",
        "# 1) START_DATE* => START_DATE and START_TIME*\n",
        "# 2) END_DATE* => END_DATE and END_TIME*\n",
        "\n",
        "# ******************** #\n",
        "\n",
        "new_columns = copy_data[\"START_DATE*\"].str.split(\" \", n = 1, expand = True)\n",
        "\n",
        "#making separate START_DATE column from new data frame\n",
        "copy_data[\"START_DATE\"] = new_columns[0]\n",
        "\n",
        "#making separate START_TIME* cloumn from new data frame\n",
        "copy_data[\"START_TIME*\"] = new_columns[1]\n",
        "\n",
        "#dropping old START_DATE* column\n",
        "copy_data.drop(columns = [\"START_DATE*\"], inplace = True)\n",
        "\n",
        "#....\n",
        "\n",
        "#spitting END_DATE* to END_DATE* & END_TIME*\n",
        "#new data frame with split value columns\n",
        "new_columns = copy_data[\"END_DATE*\"].str.split(\" \", n = 1, expand = True)\n",
        "\n",
        "#making seperate END_DATE column from new data frame\n",
        "copy_data[\"END_DATE\"] = new_columns[0]\n",
        "\n",
        "#making seperate END_TIME* cloumn from new data frame\n",
        "copy_data[\"END_TIME*\"] = new_columns[1]\n",
        "\n",
        "#dropping old END_DATE* column\n",
        "copy_data.drop(columns = [\"END_DATE*\"], inplace = True)\n",
        "\n",
        "#display the copy_data with new created columns\n",
        "copy_data.head()"
      ],
      "execution_count": 0,
      "outputs": [
        {
          "output_type": "execute_result",
          "data": {
            "text/html": [
              "<div>\n",
              "<style scoped>\n",
              "    .dataframe tbody tr th:only-of-type {\n",
              "        vertical-align: middle;\n",
              "    }\n",
              "\n",
              "    .dataframe tbody tr th {\n",
              "        vertical-align: top;\n",
              "    }\n",
              "\n",
              "    .dataframe thead th {\n",
              "        text-align: right;\n",
              "    }\n",
              "</style>\n",
              "<table border=\"1\" class=\"dataframe\">\n",
              "  <thead>\n",
              "    <tr style=\"text-align: right;\">\n",
              "      <th></th>\n",
              "      <th>CATEGORY*</th>\n",
              "      <th>START*</th>\n",
              "      <th>STOP*</th>\n",
              "      <th>MILES*</th>\n",
              "      <th>PURPOSE*</th>\n",
              "      <th>START_DATE</th>\n",
              "      <th>START_TIME*</th>\n",
              "      <th>END_DATE</th>\n",
              "      <th>END_TIME*</th>\n",
              "    </tr>\n",
              "  </thead>\n",
              "  <tbody>\n",
              "    <tr>\n",
              "      <th>0</th>\n",
              "      <td>Business</td>\n",
              "      <td>Fort Pierce</td>\n",
              "      <td>Fort Pierce</td>\n",
              "      <td>5.1</td>\n",
              "      <td>Meal/Entertain</td>\n",
              "      <td>1/1/16</td>\n",
              "      <td>21:11</td>\n",
              "      <td>1/1/16</td>\n",
              "      <td>21:17</td>\n",
              "    </tr>\n",
              "    <tr>\n",
              "      <th>1</th>\n",
              "      <td>Business</td>\n",
              "      <td>Fort Pierce</td>\n",
              "      <td>Fort Pierce</td>\n",
              "      <td>5.0</td>\n",
              "      <td>Unknown Purpose</td>\n",
              "      <td>1/2/16</td>\n",
              "      <td>01:25</td>\n",
              "      <td>1/2/16</td>\n",
              "      <td>01:37</td>\n",
              "    </tr>\n",
              "    <tr>\n",
              "      <th>2</th>\n",
              "      <td>Business</td>\n",
              "      <td>Fort Pierce</td>\n",
              "      <td>Fort Pierce</td>\n",
              "      <td>4.8</td>\n",
              "      <td>Errand/Supplies</td>\n",
              "      <td>1/2/16</td>\n",
              "      <td>20:25</td>\n",
              "      <td>1/2/16</td>\n",
              "      <td>20:38</td>\n",
              "    </tr>\n",
              "    <tr>\n",
              "      <th>3</th>\n",
              "      <td>Business</td>\n",
              "      <td>Fort Pierce</td>\n",
              "      <td>Fort Pierce</td>\n",
              "      <td>4.7</td>\n",
              "      <td>Meeting</td>\n",
              "      <td>1/5/16</td>\n",
              "      <td>17:31</td>\n",
              "      <td>1/5/16</td>\n",
              "      <td>17:45</td>\n",
              "    </tr>\n",
              "    <tr>\n",
              "      <th>4</th>\n",
              "      <td>Business</td>\n",
              "      <td>Fort Pierce</td>\n",
              "      <td>West Palm Beach</td>\n",
              "      <td>63.7</td>\n",
              "      <td>Customer Visit</td>\n",
              "      <td>1/6/16</td>\n",
              "      <td>14:42</td>\n",
              "      <td>1/6/16</td>\n",
              "      <td>15:49</td>\n",
              "    </tr>\n",
              "  </tbody>\n",
              "</table>\n",
              "</div>"
            ],
            "text/plain": [
              "  CATEGORY*       START*            STOP*  ...  START_TIME* END_DATE END_TIME*\n",
              "0  Business  Fort Pierce      Fort Pierce  ...        21:11   1/1/16     21:17\n",
              "1  Business  Fort Pierce      Fort Pierce  ...        01:25   1/2/16     01:37\n",
              "2  Business  Fort Pierce      Fort Pierce  ...        20:25   1/2/16     20:38\n",
              "3  Business  Fort Pierce      Fort Pierce  ...        17:31   1/5/16     17:45\n",
              "4  Business  Fort Pierce  West Palm Beach  ...        14:42   1/6/16     15:49\n",
              "\n",
              "[5 rows x 9 columns]"
            ]
          },
          "metadata": {
            "tags": []
          },
          "execution_count": 20
        }
      ]
    },
    {
      "cell_type": "markdown",
      "metadata": {
        "id": "w9ETm40EdxWc",
        "colab_type": "text"
      },
      "source": [
        "*Figure 10: Copying the Data and Adding New Columns*\n",
        "\n",
        "Based on *Figure 10: Copying the Data and Adding New Columns*, there are four new columns namely START_DATE, START_TIME*, END_DATE, END_TIME*. The previous START_DATE* and END_DATE* column were separated for temporary use and to find interesting data.\n"
      ]
    },
    {
      "cell_type": "code",
      "metadata": {
        "id": "oNCK7-D5zjns",
        "colab_type": "code",
        "outputId": "33e9d20b-73d6-4ce7-a907-f1e7b930e6d5",
        "colab": {
          "base_uri": "https://localhost:8080/",
          "height": 204
        }
      },
      "source": [
        "#This code partitions the START_DATE* and END_DATE* column.\n",
        "# 1) START_DATE => S_MONTH, S_DAY, S_YEAR\n",
        "# 2) END_DATE => E_MONTH, E_DAY, E_YEAR\n",
        "\n",
        "# ******************** #\n",
        "\n",
        "new_columns1 = copy_data[\"START_DATE\"].str.split(\"/\", 0,expand = True)\n",
        "\n",
        "#making separate START_DATE column from new data frame\n",
        "copy_data[\"S_MONTH\"] = new_columns1[0]\n",
        "\n",
        "#making sepsrate START_TIME* cloumn from new data frame\n",
        "copy_data[\"S_DAY\"] = new_columns1[1]\n",
        "\n",
        "#making separate START_TIME* cloumn from new data frame\n",
        "copy_data[\"S_YEAR\"] = new_columns1[2]\n",
        "\n",
        "#dropping old START_DATE* column\n",
        "copy_data.drop(columns = [\"START_DATE\"], inplace = True)\n",
        "\n",
        "#....\n",
        "\n",
        "new_columns1 = copy_data[\"END_DATE\"].str.split(\"/\", 0, expand = True)\n",
        "\n",
        "#making separate END_DATE column from new data frame\n",
        "copy_data[\"E_MONTH\"] = new_columns1[0]\n",
        "\n",
        "#making separate END_TIME* cloumn from new data frame\n",
        "copy_data[\"E_DAY\"] = new_columns1[1]\n",
        "\n",
        "#making separate START_TIME* cloumn from new data frame\n",
        "copy_data[\"E_YEAR\"] = new_columns1[2]\n",
        "\n",
        "#dropping old END_DATE* column\n",
        "copy_data.drop(columns = [\"END_DATE\"], inplace = True)\n",
        "\n",
        "#display the copy_data with new created columns\n",
        "copy_data.head()"
      ],
      "execution_count": 0,
      "outputs": [
        {
          "output_type": "execute_result",
          "data": {
            "text/html": [
              "<div>\n",
              "<style scoped>\n",
              "    .dataframe tbody tr th:only-of-type {\n",
              "        vertical-align: middle;\n",
              "    }\n",
              "\n",
              "    .dataframe tbody tr th {\n",
              "        vertical-align: top;\n",
              "    }\n",
              "\n",
              "    .dataframe thead th {\n",
              "        text-align: right;\n",
              "    }\n",
              "</style>\n",
              "<table border=\"1\" class=\"dataframe\">\n",
              "  <thead>\n",
              "    <tr style=\"text-align: right;\">\n",
              "      <th></th>\n",
              "      <th>CATEGORY*</th>\n",
              "      <th>START*</th>\n",
              "      <th>STOP*</th>\n",
              "      <th>MILES*</th>\n",
              "      <th>PURPOSE*</th>\n",
              "      <th>START_TIME*</th>\n",
              "      <th>END_TIME*</th>\n",
              "      <th>S_MONTH</th>\n",
              "      <th>S_DAY</th>\n",
              "      <th>S_YEAR</th>\n",
              "      <th>E_MONTH</th>\n",
              "      <th>E_DAY</th>\n",
              "      <th>E_YEAR</th>\n",
              "    </tr>\n",
              "  </thead>\n",
              "  <tbody>\n",
              "    <tr>\n",
              "      <th>0</th>\n",
              "      <td>Business</td>\n",
              "      <td>Fort Pierce</td>\n",
              "      <td>Fort Pierce</td>\n",
              "      <td>5.1</td>\n",
              "      <td>Meal/Entertain</td>\n",
              "      <td>21:11</td>\n",
              "      <td>21:17</td>\n",
              "      <td>1</td>\n",
              "      <td>1</td>\n",
              "      <td>16</td>\n",
              "      <td>1</td>\n",
              "      <td>1</td>\n",
              "      <td>16</td>\n",
              "    </tr>\n",
              "    <tr>\n",
              "      <th>1</th>\n",
              "      <td>Business</td>\n",
              "      <td>Fort Pierce</td>\n",
              "      <td>Fort Pierce</td>\n",
              "      <td>5.0</td>\n",
              "      <td>Unknown Purpose</td>\n",
              "      <td>01:25</td>\n",
              "      <td>01:37</td>\n",
              "      <td>1</td>\n",
              "      <td>2</td>\n",
              "      <td>16</td>\n",
              "      <td>1</td>\n",
              "      <td>2</td>\n",
              "      <td>16</td>\n",
              "    </tr>\n",
              "    <tr>\n",
              "      <th>2</th>\n",
              "      <td>Business</td>\n",
              "      <td>Fort Pierce</td>\n",
              "      <td>Fort Pierce</td>\n",
              "      <td>4.8</td>\n",
              "      <td>Errand/Supplies</td>\n",
              "      <td>20:25</td>\n",
              "      <td>20:38</td>\n",
              "      <td>1</td>\n",
              "      <td>2</td>\n",
              "      <td>16</td>\n",
              "      <td>1</td>\n",
              "      <td>2</td>\n",
              "      <td>16</td>\n",
              "    </tr>\n",
              "    <tr>\n",
              "      <th>3</th>\n",
              "      <td>Business</td>\n",
              "      <td>Fort Pierce</td>\n",
              "      <td>Fort Pierce</td>\n",
              "      <td>4.7</td>\n",
              "      <td>Meeting</td>\n",
              "      <td>17:31</td>\n",
              "      <td>17:45</td>\n",
              "      <td>1</td>\n",
              "      <td>5</td>\n",
              "      <td>16</td>\n",
              "      <td>1</td>\n",
              "      <td>5</td>\n",
              "      <td>16</td>\n",
              "    </tr>\n",
              "    <tr>\n",
              "      <th>4</th>\n",
              "      <td>Business</td>\n",
              "      <td>Fort Pierce</td>\n",
              "      <td>West Palm Beach</td>\n",
              "      <td>63.7</td>\n",
              "      <td>Customer Visit</td>\n",
              "      <td>14:42</td>\n",
              "      <td>15:49</td>\n",
              "      <td>1</td>\n",
              "      <td>6</td>\n",
              "      <td>16</td>\n",
              "      <td>1</td>\n",
              "      <td>6</td>\n",
              "      <td>16</td>\n",
              "    </tr>\n",
              "  </tbody>\n",
              "</table>\n",
              "</div>"
            ],
            "text/plain": [
              "  CATEGORY*       START*            STOP*  MILES*  ... S_YEAR E_MONTH E_DAY E_YEAR\n",
              "0  Business  Fort Pierce      Fort Pierce     5.1  ...     16       1     1     16\n",
              "1  Business  Fort Pierce      Fort Pierce     5.0  ...     16       1     2     16\n",
              "2  Business  Fort Pierce      Fort Pierce     4.8  ...     16       1     2     16\n",
              "3  Business  Fort Pierce      Fort Pierce     4.7  ...     16       1     5     16\n",
              "4  Business  Fort Pierce  West Palm Beach    63.7  ...     16       1     6     16\n",
              "\n",
              "[5 rows x 13 columns]"
            ]
          },
          "metadata": {
            "tags": []
          },
          "execution_count": 21
        }
      ]
    },
    {
      "cell_type": "markdown",
      "metadata": {
        "id": "kDw38cG4zpVv",
        "colab_type": "text"
      },
      "source": [
        "*Figure 11: Copying the Dataset Again and Adding New Columns*\n",
        "\n",
        "Based on *Figure 11: Copying the Dataset Again and Adding New Columns*, the previously made START_TIME* and END_TIME* columns are present. The day,month and year have separate columns. In the intial data exploration summary, there are inconsistencies with year format (YY or YYYY) but there is no issue as it will not be used. The S_MONTH column is made for the scatter plot and analysis of relationships between certain attributes. \n"
      ]
    },
    {
      "cell_type": "code",
      "metadata": {
        "id": "7-Iv7K6_z1_S",
        "colab_type": "code",
        "outputId": "1edf5cfc-1b95-4952-fc79-17b12a7cbe98",
        "colab": {
          "base_uri": "https://localhost:8080/",
          "height": 323
        }
      },
      "source": [
        "#This code here is the copy_data summary which has twelve non-null objects and one float64. All of these attributes have 1155 records.\n",
        "copy_data.info()"
      ],
      "execution_count": 0,
      "outputs": [
        {
          "output_type": "stream",
          "text": [
            "<class 'pandas.core.frame.DataFrame'>\n",
            "Int64Index: 1155 entries, 0 to 1154\n",
            "Data columns (total 13 columns):\n",
            "CATEGORY*      1155 non-null object\n",
            "START*         1155 non-null object\n",
            "STOP*          1155 non-null object\n",
            "MILES*         1155 non-null float64\n",
            "PURPOSE*       1155 non-null object\n",
            "START_TIME*    1155 non-null object\n",
            "END_TIME*      1155 non-null object\n",
            "S_MONTH        1155 non-null object\n",
            "S_DAY          1155 non-null object\n",
            "S_YEAR         1155 non-null object\n",
            "E_MONTH        1155 non-null object\n",
            "E_DAY          1155 non-null object\n",
            "E_YEAR         1155 non-null object\n",
            "dtypes: float64(1), object(12)\n",
            "memory usage: 126.3+ KB\n"
          ],
          "name": "stdout"
        }
      ]
    },
    {
      "cell_type": "code",
      "metadata": {
        "id": "3BsvyTZ0z6My",
        "colab_type": "code",
        "colab": {}
      },
      "source": [
        "#This code converts S_MONTH & E_MONTH from object to int64 datatype\n",
        "copy_data['S_MONTH'] = copy_data.S_MONTH.astype(int)\n",
        "copy_data['E_MONTH'] = copy_data.E_MONTH.astype(int)"
      ],
      "execution_count": 0,
      "outputs": []
    },
    {
      "cell_type": "markdown",
      "metadata": {
        "id": "UBZawqxvCeCF",
        "colab_type": "text"
      },
      "source": [
        "### **1. Correlation between Purpose and Miles**"
      ]
    },
    {
      "cell_type": "code",
      "metadata": {
        "id": "0xSqNu5zoJV5",
        "colab_type": "code",
        "outputId": "bc9216f0-e3c7-4178-e39c-395e79f00bc4",
        "colab": {
          "base_uri": "https://localhost:8080/",
          "height": 743
        }
      },
      "source": [
        "#to checking the correlation between MILES* and PURPOSE* attributes\n",
        "#one of the interesting data point is:\n",
        "#purpose \"commute\" has got the highest distance of travelling (approx more than 300 miles)\n",
        "data.boxplot('MILES*', 'PURPOSE*', rot = 40, figsize = (20,10))"
      ],
      "execution_count": 0,
      "outputs": [
        {
          "output_type": "execute_result",
          "data": {
            "text/plain": [
              "<matplotlib.axes._subplots.AxesSubplot at 0x7f4e19841e80>"
            ]
          },
          "metadata": {
            "tags": []
          },
          "execution_count": 24
        },
        {
          "output_type": "display_data",
          "data": {
            "image/png": "[encoded data removed]",
            "text/plain": [
              "<Figure size 1440x720 with 1 Axes>"
            ]
          },
          "metadata": {
            "tags": []
          }
        }
      ]
    },
    {
      "cell_type": "markdown",
      "metadata": {
        "id": "MvT6DGehCnK7",
        "colab_type": "text"
      },
      "source": [
        "Figure 12: Box Plot showing correlation between Purpose and Miles\n",
        "\n",
        "Based on Figure 12: Box Plot showing correlation between Purpose and Miles, the dataset is clustered in the 0-50 miles range. There are several outliers in the Customer Visit, Meeting, Errand/Supplies, Meal/Entertain, Temporary Site and Unknown Purpose evidenced by the circles. The trip with largest miles distance just above 300 has the purpose of Customer Visit."
      ]
    },
    {
      "cell_type": "markdown",
      "metadata": {
        "id": "MF8fkaOo0CCH",
        "colab_type": "text"
      },
      "source": [
        "### **2. Correlation between Category:Business, Purpose, Miles with the Start: Cary**"
      ]
    },
    {
      "cell_type": "markdown",
      "metadata": {
        "id": "b7ytDp4dbg_A",
        "colab_type": "text"
      },
      "source": [
        "There are six main steps done in order to show the scatter plot."
      ]
    },
    {
      "cell_type": "code",
      "metadata": {
        "id": "c488G-Fg0C5T",
        "colab_type": "code",
        "colab": {}
      },
      "source": [
        "#Step 1: Make another copy of \"copy_data\" and select only the \"Business\" value from CATEGORY* column\n",
        "cat_bus_data = copy_data.loc[copy_data['CATEGORY*'] == \"Business\"]"
      ],
      "execution_count": 0,
      "outputs": []
    },
    {
      "cell_type": "code",
      "metadata": {
        "id": "L7GOJSvE0TLO",
        "colab_type": "code",
        "outputId": "a3adca2b-07b8-4e04-b368-5891f8c26d1e",
        "colab": {
          "base_uri": "https://localhost:8080/",
          "height": 204
        }
      },
      "source": [
        "#Step 2: Check the first five rows with business as the CATEGORY*\n",
        "cat_bus_data.head(5)"
      ],
      "execution_count": 0,
      "outputs": [
        {
          "output_type": "execute_result",
          "data": {
            "text/html": [
              "<div>\n",
              "<style scoped>\n",
              "    .dataframe tbody tr th:only-of-type {\n",
              "        vertical-align: middle;\n",
              "    }\n",
              "\n",
              "    .dataframe tbody tr th {\n",
              "        vertical-align: top;\n",
              "    }\n",
              "\n",
              "    .dataframe thead th {\n",
              "        text-align: right;\n",
              "    }\n",
              "</style>\n",
              "<table border=\"1\" class=\"dataframe\">\n",
              "  <thead>\n",
              "    <tr style=\"text-align: right;\">\n",
              "      <th></th>\n",
              "      <th>CATEGORY*</th>\n",
              "      <th>START*</th>\n",
              "      <th>STOP*</th>\n",
              "      <th>MILES*</th>\n",
              "      <th>PURPOSE*</th>\n",
              "      <th>START_TIME*</th>\n",
              "      <th>END_TIME*</th>\n",
              "      <th>S_MONTH</th>\n",
              "      <th>S_DAY</th>\n",
              "      <th>S_YEAR</th>\n",
              "      <th>E_MONTH</th>\n",
              "      <th>E_DAY</th>\n",
              "      <th>E_YEAR</th>\n",
              "    </tr>\n",
              "  </thead>\n",
              "  <tbody>\n",
              "    <tr>\n",
              "      <th>0</th>\n",
              "      <td>Business</td>\n",
              "      <td>Fort Pierce</td>\n",
              "      <td>Fort Pierce</td>\n",
              "      <td>5.1</td>\n",
              "      <td>Meal/Entertain</td>\n",
              "      <td>21:11</td>\n",
              "      <td>21:17</td>\n",
              "      <td>1</td>\n",
              "      <td>1</td>\n",
              "      <td>16</td>\n",
              "      <td>1</td>\n",
              "      <td>1</td>\n",
              "      <td>16</td>\n",
              "    </tr>\n",
              "    <tr>\n",
              "      <th>1</th>\n",
              "      <td>Business</td>\n",
              "      <td>Fort Pierce</td>\n",
              "      <td>Fort Pierce</td>\n",
              "      <td>5.0</td>\n",
              "      <td>Unknown Purpose</td>\n",
              "      <td>01:25</td>\n",
              "      <td>01:37</td>\n",
              "      <td>1</td>\n",
              "      <td>2</td>\n",
              "      <td>16</td>\n",
              "      <td>1</td>\n",
              "      <td>2</td>\n",
              "      <td>16</td>\n",
              "    </tr>\n",
              "    <tr>\n",
              "      <th>2</th>\n",
              "      <td>Business</td>\n",
              "      <td>Fort Pierce</td>\n",
              "      <td>Fort Pierce</td>\n",
              "      <td>4.8</td>\n",
              "      <td>Errand/Supplies</td>\n",
              "      <td>20:25</td>\n",
              "      <td>20:38</td>\n",
              "      <td>1</td>\n",
              "      <td>2</td>\n",
              "      <td>16</td>\n",
              "      <td>1</td>\n",
              "      <td>2</td>\n",
              "      <td>16</td>\n",
              "    </tr>\n",
              "    <tr>\n",
              "      <th>3</th>\n",
              "      <td>Business</td>\n",
              "      <td>Fort Pierce</td>\n",
              "      <td>Fort Pierce</td>\n",
              "      <td>4.7</td>\n",
              "      <td>Meeting</td>\n",
              "      <td>17:31</td>\n",
              "      <td>17:45</td>\n",
              "      <td>1</td>\n",
              "      <td>5</td>\n",
              "      <td>16</td>\n",
              "      <td>1</td>\n",
              "      <td>5</td>\n",
              "      <td>16</td>\n",
              "    </tr>\n",
              "    <tr>\n",
              "      <th>4</th>\n",
              "      <td>Business</td>\n",
              "      <td>Fort Pierce</td>\n",
              "      <td>West Palm Beach</td>\n",
              "      <td>63.7</td>\n",
              "      <td>Customer Visit</td>\n",
              "      <td>14:42</td>\n",
              "      <td>15:49</td>\n",
              "      <td>1</td>\n",
              "      <td>6</td>\n",
              "      <td>16</td>\n",
              "      <td>1</td>\n",
              "      <td>6</td>\n",
              "      <td>16</td>\n",
              "    </tr>\n",
              "  </tbody>\n",
              "</table>\n",
              "</div>"
            ],
            "text/plain": [
              "  CATEGORY*       START*            STOP*  MILES*  ... S_YEAR E_MONTH E_DAY  E_YEAR\n",
              "0  Business  Fort Pierce      Fort Pierce     5.1  ...     16       1     1      16\n",
              "1  Business  Fort Pierce      Fort Pierce     5.0  ...     16       1     2      16\n",
              "2  Business  Fort Pierce      Fort Pierce     4.8  ...     16       1     2      16\n",
              "3  Business  Fort Pierce      Fort Pierce     4.7  ...     16       1     5      16\n",
              "4  Business  Fort Pierce  West Palm Beach    63.7  ...     16       1     6      16\n",
              "\n",
              "[5 rows x 13 columns]"
            ]
          },
          "metadata": {
            "tags": []
          },
          "execution_count": 26
        }
      ]
    },
    {
      "cell_type": "code",
      "metadata": {
        "id": "osp9EGiB0dlC",
        "colab_type": "code",
        "outputId": "a3264b8f-4edc-493c-80b6-84906701e5d5",
        "colab": {
          "base_uri": "https://localhost:8080/",
          "height": 51
        }
      },
      "source": [
        "#Step 3: Count the rows with Business as the CATEGORY*\n",
        "cat_bus_data['CATEGORY*'].value_counts()"
      ],
      "execution_count": 0,
      "outputs": [
        {
          "output_type": "execute_result",
          "data": {
            "text/plain": [
              "Business    1078\n",
              "Name: CATEGORY*, dtype: int64"
            ]
          },
          "metadata": {
            "tags": []
          },
          "execution_count": 27
        }
      ]
    },
    {
      "cell_type": "code",
      "metadata": {
        "id": "OSNlWAor0lIU",
        "colab_type": "code",
        "colab": {}
      },
      "source": [
        "#Step 4:  Make another copy of \"copy_data\" and select only the \"Cary\" value from START* column\n",
        "sta_cary_data= cat_bus_data.loc[cat_bus_data[\"START*\"] == \"Cary\"]"
      ],
      "execution_count": 0,
      "outputs": []
    },
    {
      "cell_type": "code",
      "metadata": {
        "id": "NeDMiDUE0k63",
        "colab_type": "code",
        "outputId": "cfdc230b-6007-4a3d-a085-777557199932",
        "colab": {
          "base_uri": "https://localhost:8080/",
          "height": 51
        }
      },
      "source": [
        "#Step 5: Count the rows with Cary as the START*\n",
        "sta_cary_data['START*'].value_counts()"
      ],
      "execution_count": 0,
      "outputs": [
        {
          "output_type": "execute_result",
          "data": {
            "text/plain": [
              "Cary    198\n",
              "Name: START*, dtype: int64"
            ]
          },
          "metadata": {
            "tags": []
          },
          "execution_count": 29
        }
      ]
    },
    {
      "cell_type": "code",
      "metadata": {
        "id": "GC9hGHBe07zp",
        "colab_type": "code",
        "outputId": "9018323e-5b14-4409-8717-e333b9506ae5",
        "colab": {
          "base_uri": "https://localhost:8080/",
          "height": 102
        }
      },
      "source": [
        "#Step 6: Rename the PURPOSE* column to PURPOSE. This step is done as PURPOSE* doesn't work for scatter plot.\n",
        "sta_cary_data.rename(columns={\"PURPOSE*\" : \"PURPOSE\"}, inplace = True)"
      ],
      "execution_count": 0,
      "outputs": [
        {
          "output_type": "stream",
          "text": [
            "/usr/local/lib/python3.6/dist-packages/pandas/core/frame.py:4025: SettingWithCopyWarning: \n",
            "A value is trying to be set on a copy of a slice from a DataFrame\n",
            "\n",
            "See the caveats in the documentation: http://pandas.pydata.org/pandas-docs/stable/indexing.html#indexing-view-versus-copy\n",
            "  return super(DataFrame, self).rename(**kwargs)\n"
          ],
          "name": "stderr"
        }
      ]
    },
    {
      "cell_type": "code",
      "metadata": {
        "id": "aD01y2hy1JVc",
        "colab_type": "code",
        "outputId": "862ba02a-676b-4c4f-b94d-feff9a3040f6",
        "colab": {
          "base_uri": "https://localhost:8080/",
          "height": 1000
        }
      },
      "source": [
        "import plotly.express as px\n",
        "px.scatter(sta_cary_data.query('PURPOSE == [\"Unknown Purpose\", \"Meeting\", \"Meal/Entertain\", \"Customer Visit\", \"Temporary Site\", \"Between Offices\", \"Moving\", \"Airport/Travel\", \"Charity ($)\", \"Commute\"]'), \n",
        "           x = \"S_MONTH\", y = \"MILES*\", color = \"PURPOSE\", trendline = \"ols\")"
      ],
      "execution_count": 0,
      "outputs": [
        {
          "output_type": "stream",
          "text": [
            "/usr/local/lib/python3.6/dist-packages/numpy/core/fromnumeric.py:2389: FutureWarning:\n",
            "\n",
            "Method .ptp is deprecated and will be removed in a future version. Use numpy.ptp instead.\n",
            "\n",
            "/usr/local/lib/python3.6/dist-packages/numpy/core/fromnumeric.py:2389: FutureWarning:\n",
            "\n",
            "Method .ptp is deprecated and will be removed in a future version. Use numpy.ptp instead.\n",
            "\n",
            "/usr/local/lib/python3.6/dist-packages/numpy/core/fromnumeric.py:2389: FutureWarning:\n",
            "\n",
            "Method .ptp is deprecated and will be removed in a future version. Use numpy.ptp instead.\n",
            "\n",
            "/usr/local/lib/python3.6/dist-packages/numpy/core/fromnumeric.py:2389: FutureWarning:\n",
            "\n",
            "Method .ptp is deprecated and will be removed in a future version. Use numpy.ptp instead.\n",
            "\n",
            "/usr/local/lib/python3.6/dist-packages/numpy/core/fromnumeric.py:2389: FutureWarning:\n",
            "\n",
            "Method .ptp is deprecated and will be removed in a future version. Use numpy.ptp instead.\n",
            "\n",
            "/usr/local/lib/python3.6/dist-packages/numpy/core/fromnumeric.py:2389: FutureWarning:\n",
            "\n",
            "Method .ptp is deprecated and will be removed in a future version. Use numpy.ptp instead.\n",
            "\n"
          ],
          "name": "stderr"
        },
        {
          "output_type": "display_data",
          "data": {
            "text/html": [
              "<html>\n",
              "<head><meta charset=\"utf-8\" /></head>\n",
              "<body>\n",
              "    <div>\n",
              "            <script src=\"https://cdnjs.cloudflare.com/ajax/libs/mathjax/2.7.5/MathJax.js?config=TeX-AMS-MML_SVG\"></script><script type=\"text/javascript\">if (window.MathJax) {MathJax.Hub.Config({SVG: {font: \"STIX-Web\"}});}</script>\n",
              "                <script type=\"text/javascript\">window.PlotlyConfig = {MathJaxConfig: 'local'};</script>\n",
              "        <script src=\"https://cdn.plot.ly/plotly-latest.min.js\"></script>    \n",
              "            <div id=\"b029d035-6cda-4992-b791-e1a485a1648e\" class=\"plotly-graph-div\" style=\"height:600px; width:100%;\"></div>\n",
              "            <script type=\"text/javascript\">\n",
              "                \n",
              "                    window.PLOTLYENV=window.PLOTLYENV || {};\n",
              "                    \n",
              "                if (document.getElementById(\"b029d035-6cda-4992-b791-e1a485a1648e\")) {\n",
              "                    Plotly.newPlot(\n",
              "                        'b029d035-6cda-4992-b791-e1a485a1648e',\n",
              "                        [{\"hoverlabel\": {\"namelength\": 0}, \"hovertemplate\": \"PURPOSE=Meeting<br>S_MONTH=%{x}<br>MILES*=%{y}\", \"legendgroup\": \"PURPOSE=Meeting\", \"marker\": {\"color\": \"#636efa\", \"symbol\": \"circle\"}, \"mode\": \"markers\", \"name\": \"PURPOSE=Meeting\", \"showlegend\": true, \"type\": \"scatter\", \"x\": [1, 1, 1, 1, 1, 1, 2, 2, 2, 2, 2, 2, 3, 3, 3, 4, 4, 4, 4, 4, 4, 5, 6, 6, 6, 6, 6, 6, 6, 6, 6, 7, 7, 7, 7, 7, 7, 7, 7, 8, 8, 10, 10, 10, 10, 11, 11, 11, 11, 11, 11, 11, 12, 12, 12, 12, 12, 12, 12], \"xaxis\": \"x\", \"y\": [0.8, 8.3, 17.1, 1.8, 5.2, 10.4, 7.7, 10.4, 8.4, 8.9, 10.6, 3.8, 9.9, 10.4, 8.4, 10.5, 19.1, 8.9, 13.6, 10.4, 9.9, 14.9, 10.4, 9.9, 10.4, 10.4, 10.4, 10.4, 10.4, 10.4, 9.9, 13.3, 10.5, 10.1, 9.9, 11.8, 9.9, 7.2, 10.4, 8.4, 8.4, 10.5, 8.4, 10.4, 107.0, 8.5, 10.3, 2.7, 5.5, 4.1, 10.3, 5.1, 5.5, 6.6, 4.0, 2.0, 5.6, 15.6, 10.6], \"yaxis\": \"y\"}, {\"hoverlabel\": {\"namelength\": 0}, \"hovertemplate\": \"<b>OLS trendline</b><br>MILES* = 0.276799 * S_MONTH + 8.959082<br>R<sup>2</sup>=0.005984<br><br>PURPOSE=Meeting<br>S_MONTH=%{x}<br>MILES*=%{y} <b>(trend)</b>\", \"legendgroup\": \"PURPOSE=Meeting\", \"marker\": {\"color\": \"#636efa\", \"symbol\": \"circle\"}, \"mode\": \"lines\", \"name\": \"PURPOSE=Meeting\", \"showlegend\": false, \"type\": \"scatter\", \"x\": [1, 1, 1, 1, 1, 1, 2, 2, 2, 2, 2, 2, 3, 3, 3, 4, 4, 4, 4, 4, 4, 5, 6, 6, 6, 6, 6, 6, 6, 6, 6, 7, 7, 7, 7, 7, 7, 7, 7, 8, 8, 10, 10, 10, 10, 11, 11, 11, 11, 11, 11, 11, 12, 12, 12, 12, 12, 12, 12], \"xaxis\": \"x\", \"y\": [9.235881167745532, 9.235881167745532, 9.235881167745532, 9.235881167745532, 9.235881167745532, 9.235881167745532, 9.512680584730143, 9.512680584730143, 9.512680584730143, 9.512680584730143, 9.512680584730143, 9.512680584730143, 9.789480001714754, 9.789480001714754, 9.789480001714754, 10.066279418699365, 10.066279418699365, 10.066279418699365, 10.066279418699365, 10.066279418699365, 10.066279418699365, 10.343078835683976, 10.619878252668586, 10.619878252668586, 10.619878252668586, 10.619878252668586, 10.619878252668586, 10.619878252668586, 10.619878252668586, 10.619878252668586, 10.619878252668586, 10.896677669653197, 10.896677669653197, 10.896677669653197, 10.896677669653197, 10.896677669653197, 10.896677669653197, 10.896677669653197, 10.896677669653197, 11.173477086637806, 11.173477086637806, 11.727075920607028, 11.727075920607028, 11.727075920607028, 11.727075920607028, 12.003875337591639, 12.003875337591639, 12.003875337591639, 12.003875337591639, 12.003875337591639, 12.003875337591639, 12.003875337591639, 12.28067475457625, 12.28067475457625, 12.28067475457625, 12.28067475457625, 12.28067475457625, 12.28067475457625, 12.28067475457625], \"yaxis\": \"y\"}, {\"hoverlabel\": {\"namelength\": 0}, \"hovertemplate\": \"PURPOSE=Meal/Entertain<br>S_MONTH=%{x}<br>MILES*=%{y}\", \"legendgroup\": \"PURPOSE=Meal/Entertain\", \"marker\": {\"color\": \"#EF553B\", \"symbol\": \"circle\"}, \"mode\": \"markers\", \"name\": \"PURPOSE=Meal/Entertain\", \"showlegend\": true, \"type\": \"scatter\", \"x\": [1, 1, 1, 1, 2, 2, 2, 2, 3, 3, 4, 5, 5, 5, 5, 6, 6, 6, 6, 6, 7, 7, 7, 7, 10, 11, 11, 11, 11, 11, 11, 11, 12, 12, 12, 12, 12, 12, 12, 12, 12, 12, 12, 12], \"xaxis\": \"x\", \"y\": [10.4, 4.8, 2.4, 1.0, 1.6, 1.1, 1.6, 17.3, 6.5, 7.8, 6.1, 8.7, 3.1, 3.0, 6.1, 6.0, 5.7, 8.7, 2.5, 8.4, 3.3, 3.3, 6.1, 2.5, 3.1, 3.1, 3.1, 2.5, 2.1, 3.0, 5.9, 3.3, 2.9, 5.1, 3.3, 2.9, 3.8, 6.9, 3.0, 3.0, 4.4, 3.0, 4.1, 3.0], \"yaxis\": \"y\"}, {\"hoverlabel\": {\"namelength\": 0}, \"hovertemplate\": \"<b>OLS trendline</b><br>MILES* = -0.201662 * S_MONTH + 6.051143<br>R<sup>2</sup>=0.076679<br><br>PURPOSE=Meal/Entertain<br>S_MONTH=%{x}<br>MILES*=%{y} <b>(trend)</b>\", \"legendgroup\": \"PURPOSE=Meal/Entertain\", \"marker\": {\"color\": \"#EF553B\", \"symbol\": \"circle\"}, \"mode\": \"lines\", \"name\": \"PURPOSE=Meal/Entertain\", \"showlegend\": false, \"type\": \"scatter\", \"x\": [1, 1, 1, 1, 2, 2, 2, 2, 3, 3, 4, 5, 5, 5, 5, 6, 6, 6, 6, 6, 7, 7, 7, 7, 10, 11, 11, 11, 11, 11, 11, 11, 12, 12, 12, 12, 12, 12, 12, 12, 12, 12, 12, 12], \"xaxis\": \"x\", \"y\": [5.849480275914686, 5.849480275914686, 5.849480275914686, 5.849480275914686, 5.647817794589786, 5.647817794589786, 5.647817794589786, 5.647817794589786, 5.446155313264887, 5.446155313264887, 5.244492831939988, 5.042830350615088, 5.042830350615088, 5.042830350615088, 5.042830350615088, 4.84116786929019, 4.84116786929019, 4.84116786929019, 4.84116786929019, 4.84116786929019, 4.63950538796529, 4.63950538796529, 4.63950538796529, 4.63950538796529, 4.034517943990593, 3.8328554626656937, 3.8328554626656937, 3.8328554626656937, 3.8328554626656937, 3.8328554626656937, 3.8328554626656937, 3.8328554626656937, 3.631192981340795, 3.631192981340795, 3.631192981340795, 3.631192981340795, 3.631192981340795, 3.631192981340795, 3.631192981340795, 3.631192981340795, 3.631192981340795, 3.631192981340795, 3.631192981340795, 3.631192981340795], \"yaxis\": \"y\"}, {\"hoverlabel\": {\"namelength\": 0}, \"hovertemplate\": \"PURPOSE=Customer Visit<br>S_MONTH=%{x}<br>MILES*=%{y}\", \"legendgroup\": \"PURPOSE=Customer Visit\", \"marker\": {\"color\": \"#00cc96\", \"symbol\": \"circle\"}, \"mode\": \"markers\", \"name\": \"PURPOSE=Customer Visit\", \"showlegend\": true, \"type\": \"scatter\", \"x\": [1, 1, 2, 3, 3, 3, 3, 4, 4, 5, 5, 6, 6, 11, 11, 11, 12, 12], \"xaxis\": \"x\", \"y\": [18.7, 4.6, 19.4, 7.6, 15.7, 12.4, 144.0, 12.4, 14.2, 8.4, 8.4, 6.7, 7.8, 6.4, 12.7, 8.5, 7.0, 18.9], \"yaxis\": \"y\"}, {\"hoverlabel\": {\"namelength\": 0}, \"hovertemplate\": \"<b>OLS trendline</b><br>MILES* = -1.619021 * S_MONTH + 27.808842<br>R<sup>2</sup>=0.039642<br><br>PURPOSE=Customer Visit<br>S_MONTH=%{x}<br>MILES*=%{y} <b>(trend)</b>\", \"legendgroup\": \"PURPOSE=Customer Visit\", \"marker\": {\"color\": \"#00cc96\", \"symbol\": \"circle\"}, \"mode\": \"lines\", \"name\": \"PURPOSE=Customer Visit\", \"showlegend\": false, \"type\": \"scatter\", \"x\": [1, 1, 2, 3, 3, 3, 3, 4, 4, 5, 5, 6, 6, 11, 11, 11, 12, 12], \"xaxis\": \"x\", \"y\": [26.18982100496009, 26.18982100496009, 24.570800086262658, 22.951779167565224, 22.951779167565224, 22.951779167565224, 22.951779167565224, 21.33275824886779, 21.33275824886779, 19.713737330170357, 19.713737330170357, 18.094716411472923, 18.094716411472923, 9.999611817985755, 9.999611817985755, 9.999611817985755, 8.380590899288322, 8.380590899288322], \"yaxis\": \"y\"}, {\"hoverlabel\": {\"namelength\": 0}, \"hovertemplate\": \"PURPOSE=Temporary Site<br>S_MONTH=%{x}<br>MILES*=%{y}\", \"legendgroup\": \"PURPOSE=Temporary Site\", \"marker\": {\"color\": \"#ab63fa\", \"symbol\": \"circle\"}, \"mode\": \"markers\", \"name\": \"PURPOSE=Temporary Site\", \"showlegend\": true, \"type\": \"scatter\", \"x\": [1, 2, 2, 3, 4, 4, 6, 7, 10, 11], \"xaxis\": \"x\", \"y\": [19.0, 6.1, 8.5, 1.9, 15.3, 11.9, 8.4, 7.9, 7.9, 7.9], \"yaxis\": \"y\"}, {\"hoverlabel\": {\"namelength\": 0}, \"hovertemplate\": \"<b>OLS trendline</b><br>MILES* = -0.374528 * S_MONTH + 11.352642<br>R<sup>2</sup>=0.071192<br><br>PURPOSE=Temporary Site<br>S_MONTH=%{x}<br>MILES*=%{y} <b>(trend)</b>\", \"legendgroup\": \"PURPOSE=Temporary Site\", \"marker\": {\"color\": \"#ab63fa\", \"symbol\": \"circle\"}, \"mode\": \"lines\", \"name\": \"PURPOSE=Temporary Site\", \"showlegend\": false, \"type\": \"scatter\", \"x\": [1, 2, 2, 3, 4, 4, 6, 7, 10, 11], \"xaxis\": \"x\", \"y\": [10.978113207547166, 10.603584905660373, 10.603584905660373, 10.229056603773582, 9.85452830188679, 9.85452830188679, 9.105471698113206, 8.730943396226415, 7.60735849056604, 7.232830188679248], \"yaxis\": \"y\"}, {\"hoverlabel\": {\"namelength\": 0}, \"hovertemplate\": \"PURPOSE=Between Offices<br>S_MONTH=%{x}<br>MILES*=%{y}\", \"legendgroup\": \"PURPOSE=Between Offices\", \"marker\": {\"color\": \"#FFA15A\", \"symbol\": \"circle\"}, \"mode\": \"markers\", \"name\": \"PURPOSE=Between Offices\", \"showlegend\": true, \"type\": \"scatter\", \"x\": [2, 11], \"xaxis\": \"x\", \"y\": [11.4, 39.2], \"yaxis\": \"y\"}, {\"hoverlabel\": {\"namelength\": 0}, \"hovertemplate\": \"<b>OLS trendline</b><br>MILES* = 3.088889 * S_MONTH + 5.222222<br>R<sup>2</sup>=1.000000<br><br>PURPOSE=Between Offices<br>S_MONTH=%{x}<br>MILES*=%{y} <b>(trend)</b>\", \"legendgroup\": \"PURPOSE=Between Offices\", \"marker\": {\"color\": \"#FFA15A\", \"symbol\": \"circle\"}, \"mode\": \"lines\", \"name\": \"PURPOSE=Between Offices\", \"showlegend\": false, \"type\": \"scatter\", \"x\": [2, 11], \"xaxis\": \"x\", \"y\": [11.399999999999991, 39.2], \"yaxis\": \"y\"}, {\"hoverlabel\": {\"namelength\": 0}, \"hovertemplate\": \"PURPOSE=Unknown Purpose<br>S_MONTH=%{x}<br>MILES*=%{y}\", \"legendgroup\": \"PURPOSE=Unknown Purpose\", \"marker\": {\"color\": \"#19d3f3\", \"symbol\": \"circle\"}, \"mode\": \"markers\", \"name\": \"PURPOSE=Unknown Purpose\", \"showlegend\": true, \"type\": \"scatter\", \"x\": [2, 6, 6, 6, 7, 7, 7, 7, 7, 7, 7, 7, 7, 8, 8, 8, 8, 8, 8, 8, 10, 10, 10, 10, 10, 10, 10, 10, 11, 11, 11, 11, 11, 11, 11, 12, 12, 12], \"xaxis\": \"x\", \"y\": [6.1, 6.0, 19.3, 7.3, 9.9, 3.7, 3.8, 8.0, 4.0, 3.0, 4.9, 2.8, 14.0, 6.9, 9.1, 2.5, 4.8, 14.9, 12.9, 31.7, 4.3, 20.6, 5.6, 17.2, 28.1, 16.4, 11.2, 3.2, 16.5, 1.5, 1.8, 1.9, 3.3, 1.3, 1.4, 4.1, 3.4, 3.3], \"yaxis\": \"y\"}, {\"hoverlabel\": {\"namelength\": 0}, \"hovertemplate\": \"<b>OLS trendline</b><br>MILES* = -0.293838 * S_MONTH + 11.006690<br>R<sup>2</sup>=0.007417<br><br>PURPOSE=Unknown Purpose<br>S_MONTH=%{x}<br>MILES*=%{y} <b>(trend)</b>\", \"legendgroup\": \"PURPOSE=Unknown Purpose\", \"marker\": {\"color\": \"#19d3f3\", \"symbol\": \"circle\"}, \"mode\": \"lines\", \"name\": \"PURPOSE=Unknown Purpose\", \"showlegend\": false, \"type\": \"scatter\", \"x\": [2, 6, 6, 6, 7, 7, 7, 7, 7, 7, 7, 7, 7, 8, 8, 8, 8, 8, 8, 8, 10, 10, 10, 10, 10, 10, 10, 10, 11, 11, 11, 11, 11, 11, 11, 12, 12, 12], \"xaxis\": \"x\", \"y\": [10.41901408450706, 9.243661971830996, 9.243661971830996, 9.243661971830996, 8.949823943661979, 8.949823943661979, 8.949823943661979, 8.949823943661979, 8.949823943661979, 8.949823943661979, 8.949823943661979, 8.949823943661979, 8.949823943661979, 8.655985915492963, 8.655985915492963, 8.655985915492963, 8.655985915492963, 8.655985915492963, 8.655985915492963, 8.655985915492963, 8.06830985915493, 8.06830985915493, 8.06830985915493, 8.06830985915493, 8.06830985915493, 8.06830985915493, 8.06830985915493, 8.06830985915493, 7.774471830985913, 7.774471830985913, 7.774471830985913, 7.774471830985913, 7.774471830985913, 7.774471830985913, 7.774471830985913, 7.480633802816897, 7.480633802816897, 7.480633802816897], \"yaxis\": \"y\"}],\n",
              "                        {\"height\": 600, \"legend\": {\"tracegroupgap\": 0}, \"margin\": {\"t\": 60}, \"template\": {\"data\": {\"bar\": [{\"error_x\": {\"color\": \"#2a3f5f\"}, \"error_y\": {\"color\": \"#2a3f5f\"}, \"marker\": {\"line\": {\"color\": \"#E5ECF6\", \"width\": 0.5}}, \"type\": \"bar\"}], \"barpolar\": [{\"marker\": {\"line\": {\"color\": \"#E5ECF6\", \"width\": 0.5}}, \"type\": \"barpolar\"}], \"carpet\": [{\"aaxis\": {\"endlinecolor\": \"#2a3f5f\", \"gridcolor\": \"white\", \"linecolor\": \"white\", \"minorgridcolor\": \"white\", \"startlinecolor\": \"#2a3f5f\"}, \"baxis\": {\"endlinecolor\": \"#2a3f5f\", \"gridcolor\": \"white\", \"linecolor\": \"white\", \"minorgridcolor\": \"white\", \"startlinecolor\": \"#2a3f5f\"}, \"type\": \"carpet\"}], \"choropleth\": [{\"colorbar\": {\"outlinewidth\": 0, \"ticks\": \"\"}, \"type\": \"choropleth\"}], \"contour\": [{\"colorbar\": {\"outlinewidth\": 0, \"ticks\": \"\"}, \"colorscale\": [[0.0, \"#0d0887\"], [0.1111111111111111, \"#46039f\"], [0.2222222222222222, \"#7201a8\"], [0.3333333333333333, \"#9c179e\"], [0.4444444444444444, \"#bd3786\"], [0.5555555555555556, \"#d8576b\"], [0.6666666666666666, \"#ed7953\"], [0.7777777777777778, \"#fb9f3a\"], [0.8888888888888888, \"#fdca26\"], [1.0, \"#f0f921\"]], \"type\": \"contour\"}], \"contourcarpet\": [{\"colorbar\": {\"outlinewidth\": 0, \"ticks\": \"\"}, \"type\": \"contourcarpet\"}], \"heatmap\": [{\"colorbar\": {\"outlinewidth\": 0, \"ticks\": \"\"}, \"colorscale\": [[0.0, \"#0d0887\"], [0.1111111111111111, \"#46039f\"], [0.2222222222222222, \"#7201a8\"], [0.3333333333333333, \"#9c179e\"], [0.4444444444444444, \"#bd3786\"], [0.5555555555555556, \"#d8576b\"], [0.6666666666666666, \"#ed7953\"], [0.7777777777777778, \"#fb9f3a\"], [0.8888888888888888, \"#fdca26\"], [1.0, \"#f0f921\"]], \"type\": \"heatmap\"}], \"heatmapgl\": [{\"colorbar\": {\"outlinewidth\": 0, \"ticks\": \"\"}, \"colorscale\": [[0.0, \"#0d0887\"], [0.1111111111111111, \"#46039f\"], [0.2222222222222222, \"#7201a8\"], [0.3333333333333333, \"#9c179e\"], [0.4444444444444444, \"#bd3786\"], [0.5555555555555556, \"#d8576b\"], [0.6666666666666666, \"#ed7953\"], [0.7777777777777778, \"#fb9f3a\"], [0.8888888888888888, \"#fdca26\"], [1.0, \"#f0f921\"]], \"type\": \"heatmapgl\"}], \"histogram\": [{\"marker\": {\"colorbar\": {\"outlinewidth\": 0, \"ticks\": \"\"}}, \"type\": \"histogram\"}], \"histogram2d\": [{\"colorbar\": {\"outlinewidth\": 0, \"ticks\": \"\"}, \"colorscale\": [[0.0, \"#0d0887\"], [0.1111111111111111, \"#46039f\"], [0.2222222222222222, \"#7201a8\"], [0.3333333333333333, \"#9c179e\"], [0.4444444444444444, \"#bd3786\"], [0.5555555555555556, \"#d8576b\"], [0.6666666666666666, \"#ed7953\"], [0.7777777777777778, \"#fb9f3a\"], [0.8888888888888888, \"#fdca26\"], [1.0, \"#f0f921\"]], \"type\": \"histogram2d\"}], \"histogram2dcontour\": [{\"colorbar\": {\"outlinewidth\": 0, \"ticks\": \"\"}, \"colorscale\": [[0.0, \"#0d0887\"], [0.1111111111111111, \"#46039f\"], [0.2222222222222222, \"#7201a8\"], [0.3333333333333333, \"#9c179e\"], [0.4444444444444444, \"#bd3786\"], [0.5555555555555556, \"#d8576b\"], [0.6666666666666666, \"#ed7953\"], [0.7777777777777778, \"#fb9f3a\"], [0.8888888888888888, \"#fdca26\"], [1.0, \"#f0f921\"]], \"type\": \"histogram2dcontour\"}], \"mesh3d\": [{\"colorbar\": {\"outlinewidth\": 0, \"ticks\": \"\"}, \"type\": \"mesh3d\"}], \"parcoords\": [{\"line\": {\"colorbar\": {\"outlinewidth\": 0, \"ticks\": \"\"}}, \"type\": \"parcoords\"}], \"scatter\": [{\"marker\": {\"colorbar\": {\"outlinewidth\": 0, \"ticks\": \"\"}}, \"type\": \"scatter\"}], \"scatter3d\": [{\"line\": {\"colorbar\": {\"outlinewidth\": 0, \"ticks\": \"\"}}, \"marker\": {\"colorbar\": {\"outlinewidth\": 0, \"ticks\": \"\"}}, \"type\": \"scatter3d\"}], \"scattercarpet\": [{\"marker\": {\"colorbar\": {\"outlinewidth\": 0, \"ticks\": \"\"}}, \"type\": \"scattercarpet\"}], \"scattergeo\": [{\"marker\": {\"colorbar\": {\"outlinewidth\": 0, \"ticks\": \"\"}}, \"type\": \"scattergeo\"}], \"scattergl\": [{\"marker\": {\"colorbar\": {\"outlinewidth\": 0, \"ticks\": \"\"}}, \"type\": \"scattergl\"}], \"scattermapbox\": [{\"marker\": {\"colorbar\": {\"outlinewidth\": 0, \"ticks\": \"\"}}, \"type\": \"scattermapbox\"}], \"scatterpolar\": [{\"marker\": {\"colorbar\": {\"outlinewidth\": 0, \"ticks\": \"\"}}, \"type\": \"scatterpolar\"}], \"scatterpolargl\": [{\"marker\": {\"colorbar\": {\"outlinewidth\": 0, \"ticks\": \"\"}}, \"type\": \"scatterpolargl\"}], \"scatterternary\": [{\"marker\": {\"colorbar\": {\"outlinewidth\": 0, \"ticks\": \"\"}}, \"type\": \"scatterternary\"}], \"surface\": [{\"colorbar\": {\"outlinewidth\": 0, \"ticks\": \"\"}, \"colorscale\": [[0.0, \"#0d0887\"], [0.1111111111111111, \"#46039f\"], [0.2222222222222222, \"#7201a8\"], [0.3333333333333333, \"#9c179e\"], [0.4444444444444444, \"#bd3786\"], [0.5555555555555556, \"#d8576b\"], [0.6666666666666666, \"#ed7953\"], [0.7777777777777778, \"#fb9f3a\"], [0.8888888888888888, \"#fdca26\"], [1.0, \"#f0f921\"]], \"type\": \"surface\"}], \"table\": [{\"cells\": {\"fill\": {\"color\": \"#EBF0F8\"}, \"line\": {\"color\": \"white\"}}, \"header\": {\"fill\": {\"color\": \"#C8D4E3\"}, \"line\": {\"color\": \"white\"}}, \"type\": \"table\"}]}, \"layout\": {\"annotationdefaults\": {\"arrowcolor\": \"#2a3f5f\", \"arrowhead\": 0, \"arrowwidth\": 1}, \"colorscale\": {\"diverging\": [[0, \"#8e0152\"], [0.1, \"#c51b7d\"], [0.2, \"#de77ae\"], [0.3, \"#f1b6da\"], [0.4, \"#fde0ef\"], [0.5, \"#f7f7f7\"], [0.6, \"#e6f5d0\"], [0.7, \"#b8e186\"], [0.8, \"#7fbc41\"], [0.9, \"#4d9221\"], [1, \"#276419\"]], \"sequential\": [[0.0, \"#0d0887\"], [0.1111111111111111, \"#46039f\"], [0.2222222222222222, \"#7201a8\"], [0.3333333333333333, \"#9c179e\"], [0.4444444444444444, \"#bd3786\"], [0.5555555555555556, \"#d8576b\"], [0.6666666666666666, \"#ed7953\"], [0.7777777777777778, \"#fb9f3a\"], [0.8888888888888888, \"#fdca26\"], [1.0, \"#f0f921\"]], \"sequentialminus\": [[0.0, \"#0d0887\"], [0.1111111111111111, \"#46039f\"], [0.2222222222222222, \"#7201a8\"], [0.3333333333333333, \"#9c179e\"], [0.4444444444444444, \"#bd3786\"], [0.5555555555555556, \"#d8576b\"], [0.6666666666666666, \"#ed7953\"], [0.7777777777777778, \"#fb9f3a\"], [0.8888888888888888, \"#fdca26\"], [1.0, \"#f0f921\"]]}, \"colorway\": [\"#636efa\", \"#EF553B\", \"#00cc96\", \"#ab63fa\", \"#FFA15A\", \"#19d3f3\", \"#FF6692\", \"#B6E880\", \"#FF97FF\", \"#FECB52\"], \"font\": {\"color\": \"#2a3f5f\"}, \"geo\": {\"bgcolor\": \"white\", \"lakecolor\": \"white\", \"landcolor\": \"#E5ECF6\", \"showlakes\": true, \"showland\": true, \"subunitcolor\": \"white\"}, \"hoverlabel\": {\"align\": \"left\"}, \"hovermode\": \"closest\", \"mapbox\": {\"style\": \"light\"}, \"paper_bgcolor\": \"white\", \"plot_bgcolor\": \"#E5ECF6\", \"polar\": {\"angularaxis\": {\"gridcolor\": \"white\", \"linecolor\": \"white\", \"ticks\": \"\"}, \"bgcolor\": \"#E5ECF6\", \"radialaxis\": {\"gridcolor\": \"white\", \"linecolor\": \"white\", \"ticks\": \"\"}}, \"scene\": {\"xaxis\": {\"backgroundcolor\": \"#E5ECF6\", \"gridcolor\": \"white\", \"gridwidth\": 2, \"linecolor\": \"white\", \"showbackground\": true, \"ticks\": \"\", \"zerolinecolor\": \"white\"}, \"yaxis\": {\"backgroundcolor\": \"#E5ECF6\", \"gridcolor\": \"white\", \"gridwidth\": 2, \"linecolor\": \"white\", \"showbackground\": true, \"ticks\": \"\", \"zerolinecolor\": \"white\"}, \"zaxis\": {\"backgroundcolor\": \"#E5ECF6\", \"gridcolor\": \"white\", \"gridwidth\": 2, \"linecolor\": \"white\", \"showbackground\": true, \"ticks\": \"\", \"zerolinecolor\": \"white\"}}, \"shapedefaults\": {\"line\": {\"color\": \"#2a3f5f\"}}, \"ternary\": {\"aaxis\": {\"gridcolor\": \"white\", \"linecolor\": \"white\", \"ticks\": \"\"}, \"baxis\": {\"gridcolor\": \"white\", \"linecolor\": \"white\", \"ticks\": \"\"}, \"bgcolor\": \"#E5ECF6\", \"caxis\": {\"gridcolor\": \"white\", \"linecolor\": \"white\", \"ticks\": \"\"}}, \"title\": {\"x\": 0.05}, \"xaxis\": {\"automargin\": true, \"gridcolor\": \"white\", \"linecolor\": \"white\", \"ticks\": \"\", \"zerolinecolor\": \"white\", \"zerolinewidth\": 2}, \"yaxis\": {\"automargin\": true, \"gridcolor\": \"white\", \"linecolor\": \"white\", \"ticks\": \"\", \"zerolinecolor\": \"white\", \"zerolinewidth\": 2}}}, \"xaxis\": {\"anchor\": \"y\", \"domain\": [0.0, 0.98], \"title\": {\"text\": \"S_MONTH\"}}, \"yaxis\": {\"anchor\": \"x\", \"domain\": [0.0, 1.0], \"title\": {\"text\": \"MILES*\"}}},\n",
              "                        {\"responsive\": true}\n",
              "                    ).then(function(){\n",
              "                            \n",
              "var gd = document.getElementById('b029d035-6cda-4992-b791-e1a485a1648e');\n",
              "var x = new MutationObserver(function (mutations, observer) {{\n",
              "        var display = window.getComputedStyle(gd).display;\n",
              "        if (!display || display === 'none') {{\n",
              "            console.log([gd, 'removed!']);\n",
              "            Plotly.purge(gd);\n",
              "            observer.disconnect();\n",
              "        }}\n",
              "}});\n",
              "\n",
              "// Listen for the removal of the full notebook cells\n",
              "var notebookContainer = gd.closest('#notebook-container');\n",
              "if (notebookContainer) {{\n",
              "    x.observe(notebookContainer, {childList: true});\n",
              "}}\n",
              "\n",
              "// Listen for the clearing of the current output cell\n",
              "var outputEl = gd.closest('.output');\n",
              "if (outputEl) {{\n",
              "    x.observe(outputEl, {childList: true});\n",
              "}}\n",
              "\n",
              "                        })\n",
              "                };\n",
              "                \n",
              "            </script>\n",
              "        </div>\n",
              "</body>\n",
              "</html>"
            ]
          },
          "metadata": {
            "tags": []
          }
        }
      ]
    },
    {
      "cell_type": "markdown",
      "metadata": {
        "id": "na-WCoec2COl",
        "colab_type": "text"
      },
      "source": [
        "*Figure 13: Scatter plot showing Correlation between Category:Business, Purpose, Miles with the Start: Cary*\n",
        "\n",
        "\n",
        "Based on Figure 13: Scatter plot showing Correlation between Category:Business, Purpose, Miles with the Start: Cary, the dataset is clustered in the 0-30 miles range meaning the trips are short distance. There are two main outliers: March with Purpose: Customer Visit and in October with Purpose:Meeting. There are interesting findings with the Between Offices line in Orange and Customer Visit line in Green. From February (Month 2) to November (Month 11), the number of trips with Between Offices purpose increases significantly. On the other hand, the number of trips with Customer Visit decreases throughout the year."
      ]
    },
    {
      "cell_type": "markdown",
      "metadata": {
        "id": "owuSYrgJKmMH",
        "colab_type": "text"
      },
      "source": [
        "### **3. Correlation between Category,Miles with the Purpose: Unknown Purpose**\n",
        "\n",
        "There are five main steps done in order to show the scatter plot."
      ]
    },
    {
      "cell_type": "code",
      "metadata": {
        "id": "gNXXIoun2BsU",
        "colab_type": "code",
        "colab": {}
      },
      "source": [
        "#Step 1: Make another copy of \"copy_data\" and select both values (Personal and Business) from CATEGORY* column\n",
        "copy1_data = copy_data.copy()"
      ],
      "execution_count": 0,
      "outputs": []
    },
    {
      "cell_type": "code",
      "metadata": {
        "id": "J3mC0Fr12vgv",
        "colab_type": "code",
        "colab": {}
      },
      "source": [
        "#Step 2: Convert S_MONTH & E_MONTH from object to int64 datatype\n",
        "copy1_data['S_MONTH'] = copy1_data.S_MONTH.astype(int)\n",
        "copy1_data['E_MONTH'] = copy1_data.E_MONTH.astype(int)"
      ],
      "execution_count": 0,
      "outputs": []
    },
    {
      "cell_type": "code",
      "metadata": {
        "id": "rvIvBBGV2xip",
        "colab_type": "code",
        "colab": {}
      },
      "source": [
        "#Step 3:  Make another copy of \"copy_data\" and select only Unknown Purpose values from PURPOSE* column\n",
        "unknown_p_data = copy1_data.loc[copy1_data[\"PURPOSE*\"] == \"Unknown Purpose\"]"
      ],
      "execution_count": 0,
      "outputs": []
    },
    {
      "cell_type": "code",
      "metadata": {
        "id": "yUgs2L2e23cO",
        "colab_type": "code",
        "outputId": "13afedec-31f4-43ab-d1a0-80eddcc4a0bc",
        "colab": {
          "base_uri": "https://localhost:8080/",
          "height": 204
        }
      },
      "source": [
        "#Step 4: Show the first five rows of unknown purpose.\n",
        "unknown_p_data.head()"
      ],
      "execution_count": 0,
      "outputs": [
        {
          "output_type": "execute_result",
          "data": {
            "text/html": [
              "<div>\n",
              "<style scoped>\n",
              "    .dataframe tbody tr th:only-of-type {\n",
              "        vertical-align: middle;\n",
              "    }\n",
              "\n",
              "    .dataframe tbody tr th {\n",
              "        vertical-align: top;\n",
              "    }\n",
              "\n",
              "    .dataframe thead th {\n",
              "        text-align: right;\n",
              "    }\n",
              "</style>\n",
              "<table border=\"1\" class=\"dataframe\">\n",
              "  <thead>\n",
              "    <tr style=\"text-align: right;\">\n",
              "      <th></th>\n",
              "      <th>CATEGORY*</th>\n",
              "      <th>START*</th>\n",
              "      <th>STOP*</th>\n",
              "      <th>MILES*</th>\n",
              "      <th>PURPOSE*</th>\n",
              "      <th>START_TIME*</th>\n",
              "      <th>END_TIME*</th>\n",
              "      <th>S_MONTH</th>\n",
              "      <th>S_DAY</th>\n",
              "      <th>S_YEAR</th>\n",
              "      <th>E_MONTH</th>\n",
              "      <th>E_DAY</th>\n",
              "      <th>E_YEAR</th>\n",
              "    </tr>\n",
              "  </thead>\n",
              "  <tbody>\n",
              "    <tr>\n",
              "      <th>1</th>\n",
              "      <td>Business</td>\n",
              "      <td>Fort Pierce</td>\n",
              "      <td>Fort Pierce</td>\n",
              "      <td>5.0</td>\n",
              "      <td>Unknown Purpose</td>\n",
              "      <td>01:25</td>\n",
              "      <td>01:37</td>\n",
              "      <td>1</td>\n",
              "      <td>2</td>\n",
              "      <td>16</td>\n",
              "      <td>1</td>\n",
              "      <td>2</td>\n",
              "      <td>16</td>\n",
              "    </tr>\n",
              "    <tr>\n",
              "      <th>32</th>\n",
              "      <td>Business</td>\n",
              "      <td>Whitebridge</td>\n",
              "      <td>Lake Wellingborough</td>\n",
              "      <td>7.2</td>\n",
              "      <td>Unknown Purpose</td>\n",
              "      <td>9:09</td>\n",
              "      <td>9:23</td>\n",
              "      <td>1</td>\n",
              "      <td>19</td>\n",
              "      <td>2016</td>\n",
              "      <td>1</td>\n",
              "      <td>19</td>\n",
              "      <td>2016</td>\n",
              "    </tr>\n",
              "    <tr>\n",
              "      <th>85</th>\n",
              "      <td>Personal</td>\n",
              "      <td>Whitebridge</td>\n",
              "      <td>Northwoods</td>\n",
              "      <td>5.3</td>\n",
              "      <td>Unknown Purpose</td>\n",
              "      <td>10:54</td>\n",
              "      <td>11:07</td>\n",
              "      <td>2</td>\n",
              "      <td>9</td>\n",
              "      <td>16</td>\n",
              "      <td>2</td>\n",
              "      <td>9</td>\n",
              "      <td>16</td>\n",
              "    </tr>\n",
              "    <tr>\n",
              "      <th>86</th>\n",
              "      <td>Personal</td>\n",
              "      <td>Northwoods</td>\n",
              "      <td>Tanglewood</td>\n",
              "      <td>3.0</td>\n",
              "      <td>Unknown Purpose</td>\n",
              "      <td>11:43</td>\n",
              "      <td>11:50</td>\n",
              "      <td>2</td>\n",
              "      <td>9</td>\n",
              "      <td>16</td>\n",
              "      <td>2</td>\n",
              "      <td>9</td>\n",
              "      <td>16</td>\n",
              "    </tr>\n",
              "    <tr>\n",
              "      <th>87</th>\n",
              "      <td>Personal</td>\n",
              "      <td>Tanglewood</td>\n",
              "      <td>Preston</td>\n",
              "      <td>5.1</td>\n",
              "      <td>Unknown Purpose</td>\n",
              "      <td>13:36</td>\n",
              "      <td>13:52</td>\n",
              "      <td>2</td>\n",
              "      <td>9</td>\n",
              "      <td>16</td>\n",
              "      <td>2</td>\n",
              "      <td>9</td>\n",
              "      <td>16</td>\n",
              "    </tr>\n",
              "  </tbody>\n",
              "</table>\n",
              "</div>"
            ],
            "text/plain": [
              "   CATEGORY*       START*                STOP*  ...  E_MONTH E_DAY E_YEAR\n",
              "1   Business  Fort Pierce          Fort Pierce  ...        1     2     16\n",
              "32  Business  Whitebridge  Lake Wellingborough  ...        1    19   2016\n",
              "85  Personal  Whitebridge           Northwoods  ...        2     9     16\n",
              "86  Personal   Northwoods           Tanglewood  ...        2     9     16\n",
              "87  Personal   Tanglewood              Preston  ...        2     9     16\n",
              "\n",
              "[5 rows x 13 columns]"
            ]
          },
          "metadata": {
            "tags": []
          },
          "execution_count": 35
        }
      ]
    },
    {
      "cell_type": "code",
      "metadata": {
        "id": "LgLvaLcx28U_",
        "colab_type": "code",
        "colab": {}
      },
      "source": [
        "#Step 5: Rename the CATEGORY* column to CATEGORY. This step is done as CATEGORY* doesn't work for scatter plot.\n",
        "copy1_data.rename(columns={\"CATEGORY*\" : \"CATEGORY\"}, inplace = True)"
      ],
      "execution_count": 0,
      "outputs": []
    },
    {
      "cell_type": "code",
      "metadata": {
        "id": "gdD7WLak3FBG",
        "colab_type": "code",
        "outputId": "34cc34de-5d23-4520-dba8-e4cce12dffb2",
        "colab": {
          "base_uri": "https://localhost:8080/",
          "height": 753
        }
      },
      "source": [
        "import plotly.express as px\n",
        "px.scatter(copy1_data.query('CATEGORY == [\"Business\", \"Personal\"]'), \n",
        "           x = \"S_MONTH\", y = \"MILES*\", color = \"CATEGORY\", trendline = \"ols\")"
      ],
      "execution_count": 0,
      "outputs": [
        {
          "output_type": "stream",
          "text": [
            "/usr/local/lib/python3.6/dist-packages/numpy/core/fromnumeric.py:2389: FutureWarning:\n",
            "\n",
            "Method .ptp is deprecated and will be removed in a future version. Use numpy.ptp instead.\n",
            "\n",
            "/usr/local/lib/python3.6/dist-packages/numpy/core/fromnumeric.py:2389: FutureWarning:\n",
            "\n",
            "Method .ptp is deprecated and will be removed in a future version. Use numpy.ptp instead.\n",
            "\n"
          ],
          "name": "stderr"
        },
        {
          "output_type": "display_data",
          "data": {
            "text/html": [
              "<html>\n",
              "<head><meta charset=\"utf-8\" /></head>\n",
              "<body>\n",
              "    <div>\n",
              "            <script src=\"https://cdnjs.cloudflare.com/ajax/libs/mathjax/2.7.5/MathJax.js?config=TeX-AMS-MML_SVG\"></script><script type=\"text/javascript\">if (window.MathJax) {MathJax.Hub.Config({SVG: {font: \"STIX-Web\"}});}</script>\n",
              "                <script type=\"text/javascript\">window.PlotlyConfig = {MathJaxConfig: 'local'};</script>\n",
              "        <script src=\"https://cdn.plot.ly/plotly-latest.min.js\"></script>    \n",
              "            <div id=\"b56464de-20f0-4940-aeb0-fca290a254c9\" class=\"plotly-graph-div\" style=\"height:600px; width:100%;\"></div>\n",
              "            <script type=\"text/javascript\">\n",
              "                \n",
              "                    window.PLOTLYENV=window.PLOTLYENV || {};\n",
              "                    \n",
              "                if (document.getElementById(\"b56464de-20f0-4940-aeb0-fca290a254c9\")) {\n",
              "                    Plotly.newPlot(\n",
              "                        'b56464de-20f0-4940-aeb0-fca290a254c9',\n",
              "                        [{\"hoverlabel\": {\"namelength\": 0}, \"hovertemplate\": \"CATEGORY=Business<br>S_MONTH=%{x}<br>MILES*=%{y}\", \"legendgroup\": \"CATEGORY=Business\", \"marker\": {\"color\": \"#636efa\", \"symbol\": \"circle\"}, \"mode\": \"markers\", \"name\": \"CATEGORY=Business\", \"showlegend\": true, \"type\": \"scattergl\", \"x\": [1, 1, 1, 1, 1, 1, 1, 1, 1, 1, 1, 1, 1, 1, 1, 1, 1, 1, 1, 1, 1, 1, 1, 1, 1, 1, 1, 1, 1, 1, 1, 1, 1, 1, 1, 1, 1, 1, 1, 1, 1, 1, 1, 1, 1, 1, 1, 1, 1, 1, 1, 1, 1, 1, 1, 1, 1, 1, 1, 1, 1, 2, 2, 2, 2, 2, 2, 2, 2, 2, 2, 2, 2, 2, 2, 2, 2, 2, 2, 2, 2, 2, 2, 2, 2, 2, 2, 2, 2, 2, 2, 2, 2, 2, 2, 2, 2, 2, 2, 2, 2, 2, 2, 2, 2, 2, 2, 2, 2, 2, 2, 2, 2, 2, 2, 2, 2, 2, 2, 2, 2, 2, 2, 2, 2, 2, 2, 2, 2, 2, 2, 2, 2, 2, 2, 2, 2, 2, 2, 2, 2, 2, 2, 2, 2, 2, 2, 2, 2, 2, 2, 2, 2, 2, 2, 2, 2, 3, 3, 3, 3, 3, 3, 3, 3, 3, 3, 3, 3, 3, 3, 3, 3, 3, 3, 3, 3, 3, 3, 3, 3, 3, 3, 3, 3, 3, 3, 3, 3, 3, 3, 3, 3, 3, 3, 3, 3, 3, 3, 3, 3, 3, 3, 3, 3, 3, 3, 3, 3, 3, 3, 3, 3, 3, 3, 3, 3, 3, 3, 3, 3, 3, 3, 3, 3, 3, 3, 3, 3, 3, 3, 3, 3, 3, 3, 3, 3, 3, 3, 3, 3, 3, 4, 4, 4, 4, 4, 4, 4, 4, 4, 4, 4, 4, 4, 4, 4, 4, 4, 4, 4, 4, 4, 4, 4, 4, 4, 4, 4, 4, 4, 4, 4, 4, 4, 4, 4, 4, 4, 4, 4, 4, 4, 4, 4, 4, 4, 4, 4, 4, 4, 4, 4, 5, 5, 5, 5, 5, 5, 5, 5, 5, 5, 5, 5, 5, 5, 5, 5, 5, 5, 5, 5, 5, 5, 5, 5, 5, 5, 5, 5, 5, 5, 5, 5, 5, 5, 5, 5, 5, 5, 5, 5, 5, 5, 5, 5, 5, 5, 5, 5, 5, 6, 6, 6, 6, 6, 6, 6, 6, 6, 6, 6, 6, 6, 6, 6, 6, 6, 6, 6, 6, 6, 6, 6, 6, 6, 6, 6, 6, 6, 6, 6, 6, 6, 6, 6, 6, 6, 6, 6, 6, 6, 6, 6, 6, 6, 6, 6, 6, 6, 6, 6, 6, 6, 6, 6, 6, 6, 6, 6, 6, 6, 6, 6, 6, 6, 6, 6, 6, 6, 6, 6, 6, 6, 6, 6, 6, 6, 6, 6, 6, 6, 6, 6, 6, 6, 6, 6, 6, 6, 6, 6, 6, 6, 6, 6, 6, 6, 6, 6, 6, 6, 6, 6, 6, 6, 6, 6, 7, 7, 7, 7, 7, 7, 7, 7, 7, 7, 7, 7, 7, 7, 7, 7, 7, 7, 7, 7, 7, 7, 7, 7, 7, 7, 7, 7, 7, 7, 7, 7, 7, 7, 7, 7, 7, 7, 7, 7, 7, 7, 7, 7, 7, 7, 7, 7, 7, 7, 7, 7, 7, 7, 7, 7, 7, 7, 7, 7, 7, 7, 7, 7, 7, 7, 7, 7, 7, 7, 7, 7, 7, 7, 7, 7, 7, 7, 7, 7, 7, 7, 7, 7, 7, 7, 8, 8, 8, 8, 8, 8, 8, 8, 8, 8, 8, 8, 8, 8, 8, 8, 8, 8, 8, 8, 8, 8, 8, 8, 8, 8, 8, 8, 8, 8, 8, 8, 8, 8, 8, 8, 8, 8, 8, 8, 8, 8, 8, 8, 8, 8, 8, 8, 8, 8, 8, 8, 8, 8, 8, 8, 8, 8, 8, 8, 8, 8, 8, 8, 8, 8, 8, 8, 8, 8, 8, 8, 8, 8, 8, 8, 8, 8, 8, 8, 8, 8, 8, 8, 8, 8, 8, 8, 8, 8, 8, 8, 8, 8, 8, 8, 8, 8, 8, 8, 8, 8, 8, 8, 8, 8, 8, 8, 8, 8, 8, 8, 8, 8, 8, 8, 8, 8, 8, 8, 8, 8, 8, 8, 8, 8, 8, 8, 8, 8, 8, 8, 8, 9, 9, 9, 9, 9, 9, 9, 9, 9, 9, 9, 9, 9, 9, 9, 9, 9, 9, 9, 9, 9, 9, 9, 9, 9, 9, 9, 9, 9, 9, 9, 9, 9, 9, 9, 9, 10, 10, 10, 10, 10, 10, 10, 10, 10, 10, 10, 10, 10, 10, 10, 10, 10, 10, 10, 10, 10, 10, 10, 10, 10, 10, 10, 10, 10, 10, 10, 10, 10, 10, 10, 10, 10, 10, 10, 10, 10, 10, 10, 10, 10, 10, 10, 10, 10, 10, 10, 10, 10, 10, 10, 10, 10, 10, 10, 10, 10, 10, 10, 10, 10, 10, 10, 10, 10, 10, 10, 10, 10, 10, 10, 10, 10, 10, 10, 10, 10, 10, 10, 10, 10, 10, 10, 10, 10, 10, 10, 10, 10, 10, 10, 10, 10, 10, 10, 10, 10, 10, 10, 10, 10, 10, 11, 11, 11, 11, 11, 11, 11, 11, 11, 11, 11, 11, 11, 11, 11, 11, 11, 11, 11, 11, 11, 11, 11, 11, 11, 11, 11, 11, 11, 11, 11, 11, 11, 11, 11, 11, 11, 11, 11, 11, 11, 11, 11, 11, 11, 11, 11, 11, 11, 11, 11, 11, 11, 11, 11, 11, 11, 11, 11, 11, 11, 11, 11, 11, 11, 11, 11, 11, 11, 11, 11, 11, 11, 11, 11, 11, 11, 11, 11, 11, 11, 11, 11, 11, 11, 11, 11, 11, 11, 11, 11, 11, 11, 11, 11, 11, 11, 11, 11, 11, 11, 11, 11, 11, 11, 11, 11, 11, 11, 11, 11, 11, 11, 11, 11, 11, 11, 11, 11, 11, 11, 11, 12, 12, 12, 12, 12, 12, 12, 12, 12, 12, 12, 12, 12, 12, 12, 12, 12, 12, 12, 12, 12, 12, 12, 12, 12, 12, 12, 12, 12, 12, 12, 12, 12, 12, 12, 12, 12, 12, 12, 12, 12, 12, 12, 12, 12, 12, 12, 12, 12, 12, 12, 12, 12, 12, 12, 12, 12, 12, 12, 12, 12, 12, 12, 12, 12, 12, 12, 12, 12, 12, 12, 12, 12, 12, 12, 12, 12, 12, 12, 12, 12, 12, 12, 12, 12, 12, 12, 12, 12, 12, 12, 12, 12, 12, 12, 12, 12, 12, 12, 12, 12, 12, 12, 12, 12, 12, 12, 12, 12, 12, 12, 12, 12, 12, 12, 12, 12, 12, 12, 12, 12, 12, 12, 12, 12, 12, 12, 12, 12, 12, 12, 12, 12, 12, 12, 12, 12, 12, 12, 12, 12, 12, 12, 12, 12, 12], \"xaxis\": \"x\", \"y\": [5.1, 5.0, 4.8, 4.7, 63.7, 4.3, 7.1, 0.8, 8.3, 16.5, 10.8, 7.5, 6.2, 6.4, 1.6, 1.7, 1.9, 1.9, 4.0, 1.8, 2.4, 2.0, 15.1, 11.2, 11.8, 21.9, 3.9, 8.0, 10.4, 10.4, 4.8, 4.7, 7.2, 7.6, 17.1, 15.1, 40.2, 1.6, 2.4, 1.0, 2.0, 2.3, 1.9, 1.4, 0.5, 1.8, 18.7, 3.4, 2.7, 12.9, 19.0, 14.7, 15.7, 4.6, 5.2, 10.4, 10.1, 5.8, 5.5, 5.7, 5.7, 19.4, 23.3, 3.9, 8.3, 6.0, 1.6, 5.2, 9.7, 1.6, 1.1, 1.6, 9.0, 7.7, 10.4, 10.4, 11.4, 9.0, 3.2, 5.6, 5.7, 6.1, 6.1, 4.3, 2.7, 6.1, 6.1, 17.3, 5.7, 13.5, 6.1, 8.5, 2.6, 17.0, 18.0, 8.4, 11.5, 8.9, 8.1, 2.0, 13.0, 13.9, 43.7, 14.1, 2.6, 4.5, 1.7, 1.8, 6.0, 1.1, 3.6, 14.7, 1.7, 21.4, 0.5, 23.5, 12.7, 6.0, 5.2, 10.0, 18.3, 11.2, 7.6, 7.3, 3.5, 4.2, 18.4, 23.1, 3.2, 7.7, 14.5, 2.4, 4.6, 8.8, 8.3, 22.7, 13.0, 8.1, 2.2, 9.7, 20.0, 8.1, 1.5, 1.7, 3.1, 3.2, 6.0, 5.8, 6.3, 10.6, 9.9, 7.7, 6.8, 3.8, 5.6, 2.6, 6.6, 8.0, 8.0, 2.3, 5.2, 7.6, 17.3, 9.9, 9.9, 10.4, 10.9, 15.7, 4.9, 0.8, 13.5, 1.9, 2.0, 6.5, 7.8, 7.8, 3.9, 2.8, 12.4, 5.9, 9.4, 11.9, 7.2, 7.6, 8.4, 12.8, 2.3, 1.6, 2.0, 0.8, 1.2, 1.0, 2.1, 2.2, 5.7, 8.4, 6.2, 10.5, 7.2, 12.5, 2.0, 2.7, 2.0, 2.8, 1.7, 2.0, 2.1, 136.0, 30.2, 15.5, 1.1, 1.1, 13.2, 1.0, 9.2, 9.4, 12.0, 35.1, 36.5, 3.1, 2.1, 1.2, 7.5, 57.0, 5.9, 6.2, 10.4, 9.6, 0.9, 8.8, 25.6, 23.0, 2.2, 144.0, 310.3, 201.0, 2.1, 6.6, 6.1, 28.8, 16.1, 16.4, 11.0, 15.5, 20.3, 77.3, 80.5, 174.2, 144.0, 159.3, 7.9, 8.0, 6.1, 6.1, 10.5, 8.7, 1.8, 19.1, 18.6, 2.8, 8.9, 7.5, 15.9, 6.5, 15.3, 13.7, 11.9, 1.4, 15.2, 6.0, 6.1, 8.2, 8.0, 13.6, 22.5, 10.4, 10.0, 6.0, 6.5, 3.1, 1.9, 4.2, 4.9, 4.8, 12.4, 32.8, 5.5, 9.9, 10.0, 14.2, 18.2, 7.7, 6.8, 2.1, 2.3, 6.2, 7.5, 3.1, 2.2, 3.9, 2.5, 8.7, 14.5, 4.5, 5.0, 14.2, 2.9, 12.9, 14.4, 17.0, 7.9, 8.4, 20.5, 9.8, 17.6, 9.3, 7.9, 25.6, 8.1, 3.1, 3.1, 2.8, 2.7, 1.9, 8.4, 7.6, 2.9, 11.2, 8.2, 3.0, 2.5, 3.6, 3.6, 4.5, 1.2, 1.7, 4.7, 6.1, 11.3, 14.9, 14.0, 1.8, 6.7, 9.6, 10.4, 9.9, 6.0, 3.3, 3.1, 1.7, 4.0, 7.8, 7.8, 3.8, 2.5, 9.9, 9.9, 3.0, 2.4, 5.7, 7.2, 10.4, 9.9, 10.4, 9.9, 8.7, 22.3, 3.3, 0.7, 2.5, 0.5, 0.9, 4.8, 16.3, 10.4, 9.9, 3.7, 4.6, 1.7, 10.4, 9.9, 2.5, 4.3, 2.8, 8.4, 13.2, 3.9, 5.1, 5.2, 9.8, 11.6, 5.1, 9.3, 12.4, 1.9, 6.4, 1.5, 14.5, 2.7, 15.0, 12.9, 13.6, 12.2, 8.7, 6.0, 5.9, 19.3, 16.6, 7.1, 2.1, 8.6, 9.0, 3.1, 8.4, 12.8, 4.5, 11.8, 1.1, 17.0, 1.7, 15.5, 1.6, 1.5, 12.6, 4.8, 2.2, 13.0, 46.9, 2.5, 8.6, 5.2, 7.6, 1.8, 4.7, 2.8, 30.0, 4.4, 1.0, 8.2, 10.4, 9.9, 9.9, 7.3, 7.4, 1.6, 1.8, 10.4, 9.9, 9.9, 9.9, 13.3, 11.3, 10.5, 9.9, 10.1, 9.9, 3.1, 3.1, 9.9, 9.9, 8.8, 8.7, 11.8, 1.2, 9.9, 0.6, 9.9, 8.6, 6.3, 9.9, 9.9, 3.3, 3.1, 7.9, 8.9, 12.8, 7.7, 7.0, 12.5, 13.2, 13.0, 4.9, 8.5, 1.3, 1.8, 13.6, 13.4, 12.3, 11.8, 195.3, 4.4, 7.2, 5.5, 3.3, 0.9, 3.8, 6.4, 3.0, 8.7, 3.9, 2.7, 2.3, 3.7, 2.9, 3.8, 5.1, 9.1, 8.0, 9.9, 6.1, 12.2, 8.0, 4.0, 9.5, 3.0, 6.3, 10.4, 9.9, 1.5, 4.9, 7.9, 1.7, 2.2, 2.1, 2.5, 2.5, 2.8, 14.7, 14.6, 2.3, 2.2, 2.2, 14.0, 13.3, 1.8, 6.2, 1.3, 1.9, 6.9, 4.6, 2.8, 9.1, 8.1, 8.4, 4.9, 1.0, 1.0, 2.0, 1.1, 1.5, 1.3, 1.8, 1.5, 6.6, 8.0, 2.7, 2.7, 2.5, 2.5, 5.2, 4.0, 2.7, 4.8, 3.2, 6.9, 14.9, 17.4, 12.9, 15.3, 1.0, 6.0, 2.2, 4.4, 2.8, 31.7, 31.9, 1.9, 1.8, 8.4, 15.6, 14.1, 15.7, 25.9, 7.9, 2.7, 5.5, 5.7, 1.2, 5.7, 16.2, 2.6, 12.1, 1.4, 6.4, 7.3, 5.3, 5.5, 7.7, 7.6, 7.6, 3.3, 6.5, 2.0, 5.7, 3.2, 12.5, 7.6, 7.7, 12.2, 1.4, 20.2, 9.8, 6.3, 4.9, 1.5, 10.9, 19.0, 19.0, 7.9, 4.1, 18.7, 8.7, 7.5, 7.7, 4.4, 5.0, 1.9, 7.9, 17.7, 25.2, 96.2, 35.0, 5.5, 50.4, 9.2, 7.3, 5.0, 3.8, 3.9, 7.4, 1.5, 7.9, 2.9, 3.4, 3.8, 5.9, 9.6, 7.0, 0.9, 86.6, 156.9, 10.1, 6.2, 5.3, 12.1, 10.8, 4.3, 2.5, 5.7, 2.8, 4.0, 5.5, 2.6, 2.1, 8.8, 4.4, 5.3, 13.0, 13.0, 10.6, 2.2, 9.2, 12.9, 17.2, 69.1, 2.8, 8.6, 9.8, 3.6, 1.7, 11.5, 0.7, 0.7, 0.9, 1.6, 9.4, 18.2, 10.5, 5.7, 18.0, 18.3, 16.5, 9.6, 2.9, 8.2, 2.4, 5.8, 9.8, 7.3, 195.6, 20.5, 12.6, 37.7, 16.7, 10.5, 2.8, 1.6, 12.7, 28.6, 15.1, 17.9, 112.6, 18.4, 13.8, 33.2, 2.6, 5.8, 8.3, 2.4, 3.1, 6.1, 3.6, 8.0, 7.7, 1.7, 9.5, 17.1, 18.4, 9.8, 1.0, 0.7, 2.3, 10.9, 12.7, 12.4, 3.8, 17.0, 6.2, 3.1, 10.5, 8.1, 3.1, 2.1, 4.3, 2.5, 20.6, 17.6, 5.6, 3.3, 5.3, 3.3, 3.3, 7.9, 13.0, 3.0, 3.0, 3.8, 9.5, 1.7, 10.8, 4.1, 2.2, 4.6, 3.1, 47.7, 44.6, 13.2, 8.7, 17.2, 14.0, 28.1, 28.2, 3.1, 3.1, 16.4, 15.4, 2.2, 11.2, 2.2, 3.6, 3.6, 4.9, 8.7, 2.1, 2.1, 8.4, 5.9, 12.1, 3.9, 6.2, 10.4, 9.9, 107.0, 133.6, 91.8, 40.7, 75.7, 29.8, 16.3, 6.5, 6.3, 6.6, 15.2, 68.4, 195.9, 45.2, 3.2, 10.3, 13.1, 9.6, 16.5, 12.8, 1.2, 1.0, 4.1, 4.2, 1.4, 1.8, 8.5, 5.0, 3.8, 2.5, 2.4, 1.4, 1.8, 3.1, 3.1, 7.9, 3.8, 4.3, 3.9, 2.2, 2.8, 2.2, 2.4, 2.8, 43.9, 1.8, 3.3, 11.8, 13.2, 12.2, 11.3, 3.6, 3.0, 11.4, 0.9, 6.2, 0.7, 5.5, 12.7, 2.6, 1.1, 12.6, 1.2, 1.1, 9.9, 6.0, 0.8, 45.9, 4.0, 2.5, 36.6, 2.9, 2.6, 2.3, 6.4, 1.4, 0.6, 5.9, 0.8, 1.3, 3.7, 2.3, 2.6, 1.9, 2.1, 4.0, 0.9, 0.9, 2.4, 1.9, 1.9, 44.6, 43.6, 2.5, 3.7, 5.1, 9.7, 11.8, 2.3, 3.1, 16.3, 3.1, 5.2, 6.1, 10.3, 10.5, 1.5, 1.8, 5.4, 5.4, 39.2, 6.4, 2.7, 18.5, 2.5, 2.1, 6.7, 3.5, 3.4, 5.5, 4.1, 12.7, 3.0, 3.5, 5.9, 1.9, 3.3, 1.3, 10.3, 11.1, 1.4, 5.1, 9.0, 13.3, 2.5, 3.3, 2.9, 8.5, 6.7, 3.1, 5.5, 5.5, 2.9, 2.9, 5.1, 5.3, 3.3, 3.0, 6.6, 1.8, 3.0, 2.9, 3.4, 4.1, 3.8, 6.6, 4.0, 7.0, 6.9, 3.4, 3.4, 2.0, 2.0, 5.1, 8.8, 5.6, 18.9, 15.6, 15.6, 3.0, 3.1, 3.0, 4.8, 2.1, 3.1, 4.4, 4.7, 3.0, 3.0, 4.2, 4.1, 3.4, 3.3, 3.0, 3.1, 10.6, 4.8, 5.3, 4.9, 10.2, 9.2, 7.7, 5.9, 0.7, 1.3, 2.5, 5.3, 5.4, 10.2, 7.2, 2.2, 11.0, 12.0, 3.3, 19.4, 1.7, 5.7, 1.8, 1.4, 10.3, 11.5, 4.9, 3.5, 16.2, 2.0, 2.1, 2.1, 7.2, 12.0, 103.0, 32.3, 5.3, 11.6, 23.2, 3.2, 12.3, 14.0, 2.1, 2.1, 3.0, 6.2, 9.6, 1.3, 7.1, 6.3, 10.7, 5.3, 1.6, 3.6, 1.7, 2.9, 0.6, 0.6, 2.3, 2.3, 3.2, 6.2, 7.7, 3.8, 7.9, 4.9, 5.0, 0.6, 3.1, 7.9, 5.5, 10.3, 10.4, 2.0, 8.5, 4.4, 3.8, 5.1, 3.8, 11.6, 11.9, 1.4, 1.1, 4.1, 6.1, 1.3, 3.0, 4.1, 7.2, 6.4, 12.9, 2.8, 2.9, 4.6, 4.6, 0.8, 0.7, 3.9, 16.2, 6.4, 48.2], \"yaxis\": \"y\"}, {\"hoverlabel\": {\"namelength\": 0}, \"hovertemplate\": \"<b>OLS trendline</b><br>MILES* = -0.299334 * S_MONTH + 12.805886<br>R<sup>2</sup>=0.002407<br><br>CATEGORY=Business<br>S_MONTH=%{x}<br>MILES*=%{y} <b>(trend)</b>\", \"legendgroup\": \"CATEGORY=Business\", \"marker\": {\"color\": \"#636efa\", \"symbol\": \"circle\"}, \"mode\": \"lines\", \"name\": \"CATEGORY=Business\", \"showlegend\": false, \"type\": \"scattergl\", \"x\": [1, 1, 1, 1, 1, 1, 1, 1, 1, 1, 1, 1, 1, 1, 1, 1, 1, 1, 1, 1, 1, 1, 1, 1, 1, 1, 1, 1, 1, 1, 1, 1, 1, 1, 1, 1, 1, 1, 1, 1, 1, 1, 1, 1, 1, 1, 1, 1, 1, 1, 1, 1, 1, 1, 1, 1, 1, 1, 1, 1, 1, 2, 2, 2, 2, 2, 2, 2, 2, 2, 2, 2, 2, 2, 2, 2, 2, 2, 2, 2, 2, 2, 2, 2, 2, 2, 2, 2, 2, 2, 2, 2, 2, 2, 2, 2, 2, 2, 2, 2, 2, 2, 2, 2, 2, 2, 2, 2, 2, 2, 2, 2, 2, 2, 2, 2, 2, 2, 2, 2, 2, 2, 2, 2, 2, 2, 2, 2, 2, 2, 2, 2, 2, 2, 2, 2, 2, 2, 2, 2, 2, 2, 2, 2, 2, 2, 2, 2, 2, 2, 2, 2, 2, 2, 2, 2, 2, 3, 3, 3, 3, 3, 3, 3, 3, 3, 3, 3, 3, 3, 3, 3, 3, 3, 3, 3, 3, 3, 3, 3, 3, 3, 3, 3, 3, 3, 3, 3, 3, 3, 3, 3, 3, 3, 3, 3, 3, 3, 3, 3, 3, 3, 3, 3, 3, 3, 3, 3, 3, 3, 3, 3, 3, 3, 3, 3, 3, 3, 3, 3, 3, 3, 3, 3, 3, 3, 3, 3, 3, 3, 3, 3, 3, 3, 3, 3, 3, 3, 3, 3, 3, 3, 4, 4, 4, 4, 4, 4, 4, 4, 4, 4, 4, 4, 4, 4, 4, 4, 4, 4, 4, 4, 4, 4, 4, 4, 4, 4, 4, 4, 4, 4, 4, 4, 4, 4, 4, 4, 4, 4, 4, 4, 4, 4, 4, 4, 4, 4, 4, 4, 4, 4, 4, 5, 5, 5, 5, 5, 5, 5, 5, 5, 5, 5, 5, 5, 5, 5, 5, 5, 5, 5, 5, 5, 5, 5, 5, 5, 5, 5, 5, 5, 5, 5, 5, 5, 5, 5, 5, 5, 5, 5, 5, 5, 5, 5, 5, 5, 5, 5, 5, 5, 6, 6, 6, 6, 6, 6, 6, 6, 6, 6, 6, 6, 6, 6, 6, 6, 6, 6, 6, 6, 6, 6, 6, 6, 6, 6, 6, 6, 6, 6, 6, 6, 6, 6, 6, 6, 6, 6, 6, 6, 6, 6, 6, 6, 6, 6, 6, 6, 6, 6, 6, 6, 6, 6, 6, 6, 6, 6, 6, 6, 6, 6, 6, 6, 6, 6, 6, 6, 6, 6, 6, 6, 6, 6, 6, 6, 6, 6, 6, 6, 6, 6, 6, 6, 6, 6, 6, 6, 6, 6, 6, 6, 6, 6, 6, 6, 6, 6, 6, 6, 6, 6, 6, 6, 6, 6, 6, 7, 7, 7, 7, 7, 7, 7, 7, 7, 7, 7, 7, 7, 7, 7, 7, 7, 7, 7, 7, 7, 7, 7, 7, 7, 7, 7, 7, 7, 7, 7, 7, 7, 7, 7, 7, 7, 7, 7, 7, 7, 7, 7, 7, 7, 7, 7, 7, 7, 7, 7, 7, 7, 7, 7, 7, 7, 7, 7, 7, 7, 7, 7, 7, 7, 7, 7, 7, 7, 7, 7, 7, 7, 7, 7, 7, 7, 7, 7, 7, 7, 7, 7, 7, 7, 7, 8, 8, 8, 8, 8, 8, 8, 8, 8, 8, 8, 8, 8, 8, 8, 8, 8, 8, 8, 8, 8, 8, 8, 8, 8, 8, 8, 8, 8, 8, 8, 8, 8, 8, 8, 8, 8, 8, 8, 8, 8, 8, 8, 8, 8, 8, 8, 8, 8, 8, 8, 8, 8, 8, 8, 8, 8, 8, 8, 8, 8, 8, 8, 8, 8, 8, 8, 8, 8, 8, 8, 8, 8, 8, 8, 8, 8, 8, 8, 8, 8, 8, 8, 8, 8, 8, 8, 8, 8, 8, 8, 8, 8, 8, 8, 8, 8, 8, 8, 8, 8, 8, 8, 8, 8, 8, 8, 8, 8, 8, 8, 8, 8, 8, 8, 8, 8, 8, 8, 8, 8, 8, 8, 8, 8, 8, 8, 8, 8, 8, 8, 8, 8, 9, 9, 9, 9, 9, 9, 9, 9, 9, 9, 9, 9, 9, 9, 9, 9, 9, 9, 9, 9, 9, 9, 9, 9, 9, 9, 9, 9, 9, 9, 9, 9, 9, 9, 9, 9, 10, 10, 10, 10, 10, 10, 10, 10, 10, 10, 10, 10, 10, 10, 10, 10, 10, 10, 10, 10, 10, 10, 10, 10, 10, 10, 10, 10, 10, 10, 10, 10, 10, 10, 10, 10, 10, 10, 10, 10, 10, 10, 10, 10, 10, 10, 10, 10, 10, 10, 10, 10, 10, 10, 10, 10, 10, 10, 10, 10, 10, 10, 10, 10, 10, 10, 10, 10, 10, 10, 10, 10, 10, 10, 10, 10, 10, 10, 10, 10, 10, 10, 10, 10, 10, 10, 10, 10, 10, 10, 10, 10, 10, 10, 10, 10, 10, 10, 10, 10, 10, 10, 10, 10, 10, 10, 11, 11, 11, 11, 11, 11, 11, 11, 11, 11, 11, 11, 11, 11, 11, 11, 11, 11, 11, 11, 11, 11, 11, 11, 11, 11, 11, 11, 11, 11, 11, 11, 11, 11, 11, 11, 11, 11, 11, 11, 11, 11, 11, 11, 11, 11, 11, 11, 11, 11, 11, 11, 11, 11, 11, 11, 11, 11, 11, 11, 11, 11, 11, 11, 11, 11, 11, 11, 11, 11, 11, 11, 11, 11, 11, 11, 11, 11, 11, 11, 11, 11, 11, 11, 11, 11, 11, 11, 11, 11, 11, 11, 11, 11, 11, 11, 11, 11, 11, 11, 11, 11, 11, 11, 11, 11, 11, 11, 11, 11, 11, 11, 11, 11, 11, 11, 11, 11, 11, 11, 11, 11, 12, 12, 12, 12, 12, 12, 12, 12, 12, 12, 12, 12, 12, 12, 12, 12, 12, 12, 12, 12, 12, 12, 12, 12, 12, 12, 12, 12, 12, 12, 12, 12, 12, 12, 12, 12, 12, 12, 12, 12, 12, 12, 12, 12, 12, 12, 12, 12, 12, 12, 12, 12, 12, 12, 12, 12, 12, 12, 12, 12, 12, 12, 12, 12, 12, 12, 12, 12, 12, 12, 12, 12, 12, 12, 12, 12, 12, 12, 12, 12, 12, 12, 12, 12, 12, 12, 12, 12, 12, 12, 12, 12, 12, 12, 12, 12, 12, 12, 12, 12, 12, 12, 12, 12, 12, 12, 12, 12, 12, 12, 12, 12, 12, 12, 12, 12, 12, 12, 12, 12, 12, 12, 12, 12, 12, 12, 12, 12, 12, 12, 12, 12, 12, 12, 12, 12, 12, 12, 12, 12, 12, 12, 12, 12, 12, 12], \"xaxis\": \"x\", \"y\": [12.506551368852959, 12.506551368852959, 12.506551368852959, 12.506551368852959, 12.506551368852959, 12.506551368852959, 12.506551368852959, 12.506551368852959, 12.506551368852959, 12.506551368852959, 12.506551368852959, 12.506551368852959, 12.506551368852959, 12.506551368852959, 12.506551368852959, 12.506551368852959, 12.506551368852959, 12.506551368852959, 12.506551368852959, 12.506551368852959, 12.506551368852959, 12.506551368852959, 12.506551368852959, 12.506551368852959, 12.506551368852959, 12.506551368852959, 12.506551368852959, 12.506551368852959, 12.506551368852959, 12.506551368852959, 12.506551368852959, 12.506551368852959, 12.506551368852959, 12.506551368852959, 12.506551368852959, 12.506551368852959, 12.506551368852959, 12.506551368852959, 12.506551368852959, 12.506551368852959, 12.506551368852959, 12.506551368852959, 12.506551368852959, 12.506551368852959, 12.506551368852959, 12.506551368852959, 12.506551368852959, 12.506551368852959, 12.506551368852959, 12.506551368852959, 12.506551368852959, 12.506551368852959, 12.506551368852959, 12.506551368852959, 12.506551368852959, 12.506551368852959, 12.506551368852959, 12.506551368852959, 12.506551368852959, 12.506551368852959, 12.506551368852959, 12.207217178961963, 12.207217178961963, 12.207217178961963, 12.207217178961963, 12.207217178961963, 12.207217178961963, 12.207217178961963, 12.207217178961963, 12.207217178961963, 12.207217178961963, 12.207217178961963, 12.207217178961963, 12.207217178961963, 12.207217178961963, 12.207217178961963, 12.207217178961963, 12.207217178961963, 12.207217178961963, 12.207217178961963, 12.207217178961963, 12.207217178961963, 12.207217178961963, 12.207217178961963, 12.207217178961963, 12.207217178961963, 12.207217178961963, 12.207217178961963, 12.207217178961963, 12.207217178961963, 12.207217178961963, 12.207217178961963, 12.207217178961963, 12.207217178961963, 12.207217178961963, 12.207217178961963, 12.207217178961963, 12.207217178961963, 12.207217178961963, 12.207217178961963, 12.207217178961963, 12.207217178961963, 12.207217178961963, 12.207217178961963, 12.207217178961963, 12.207217178961963, 12.207217178961963, 12.207217178961963, 12.207217178961963, 12.207217178961963, 12.207217178961963, 12.207217178961963, 12.207217178961963, 12.207217178961963, 12.207217178961963, 12.207217178961963, 12.207217178961963, 12.207217178961963, 12.207217178961963, 12.207217178961963, 12.207217178961963, 12.207217178961963, 12.207217178961963, 12.207217178961963, 12.207217178961963, 12.207217178961963, 12.207217178961963, 12.207217178961963, 12.207217178961963, 12.207217178961963, 12.207217178961963, 12.207217178961963, 12.207217178961963, 12.207217178961963, 12.207217178961963, 12.207217178961963, 12.207217178961963, 12.207217178961963, 12.207217178961963, 12.207217178961963, 12.207217178961963, 12.207217178961963, 12.207217178961963, 12.207217178961963, 12.207217178961963, 12.207217178961963, 12.207217178961963, 12.207217178961963, 12.207217178961963, 12.207217178961963, 12.207217178961963, 12.207217178961963, 12.207217178961963, 12.207217178961963, 12.207217178961963, 12.207217178961963, 12.207217178961963, 11.90788298907097, 11.90788298907097, 11.90788298907097, 11.90788298907097, 11.90788298907097, 11.90788298907097, 11.90788298907097, 11.90788298907097, 11.90788298907097, 11.90788298907097, 11.90788298907097, 11.90788298907097, 11.90788298907097, 11.90788298907097, 11.90788298907097, 11.90788298907097, 11.90788298907097, 11.90788298907097, 11.90788298907097, 11.90788298907097, 11.90788298907097, 11.90788298907097, 11.90788298907097, 11.90788298907097, 11.90788298907097, 11.90788298907097, 11.90788298907097, 11.90788298907097, 11.90788298907097, 11.90788298907097, 11.90788298907097, 11.90788298907097, 11.90788298907097, 11.90788298907097, 11.90788298907097, 11.90788298907097, 11.90788298907097, 11.90788298907097, 11.90788298907097, 11.90788298907097, 11.90788298907097, 11.90788298907097, 11.90788298907097, 11.90788298907097, 11.90788298907097, 11.90788298907097, 11.90788298907097, 11.90788298907097, 11.90788298907097, 11.90788298907097, 11.90788298907097, 11.90788298907097, 11.90788298907097, 11.90788298907097, 11.90788298907097, 11.90788298907097, 11.90788298907097, 11.90788298907097, 11.90788298907097, 11.90788298907097, 11.90788298907097, 11.90788298907097, 11.90788298907097, 11.90788298907097, 11.90788298907097, 11.90788298907097, 11.90788298907097, 11.90788298907097, 11.90788298907097, 11.90788298907097, 11.90788298907097, 11.90788298907097, 11.90788298907097, 11.90788298907097, 11.90788298907097, 11.90788298907097, 11.90788298907097, 11.90788298907097, 11.90788298907097, 11.90788298907097, 11.90788298907097, 11.90788298907097, 11.90788298907097, 11.90788298907097, 11.90788298907097, 11.608548799179975, 11.608548799179975, 11.608548799179975, 11.608548799179975, 11.608548799179975, 11.608548799179975, 11.608548799179975, 11.608548799179975, 11.608548799179975, 11.608548799179975, 11.608548799179975, 11.608548799179975, 11.608548799179975, 11.608548799179975, 11.608548799179975, 11.608548799179975, 11.608548799179975, 11.608548799179975, 11.608548799179975, 11.608548799179975, 11.608548799179975, 11.608548799179975, 11.608548799179975, 11.608548799179975, 11.608548799179975, 11.608548799179975, 11.608548799179975, 11.608548799179975, 11.608548799179975, 11.608548799179975, 11.608548799179975, 11.608548799179975, 11.608548799179975, 11.608548799179975, 11.608548799179975, 11.608548799179975, 11.608548799179975, 11.608548799179975, 11.608548799179975, 11.608548799179975, 11.608548799179975, 11.608548799179975, 11.608548799179975, 11.608548799179975, 11.608548799179975, 11.608548799179975, 11.608548799179975, 11.608548799179975, 11.608548799179975, 11.608548799179975, 11.608548799179975, 11.30921460928898, 11.30921460928898, 11.30921460928898, 11.30921460928898, 11.30921460928898, 11.30921460928898, 11.30921460928898, 11.30921460928898, 11.30921460928898, 11.30921460928898, 11.30921460928898, 11.30921460928898, 11.30921460928898, 11.30921460928898, 11.30921460928898, 11.30921460928898, 11.30921460928898, 11.30921460928898, 11.30921460928898, 11.30921460928898, 11.30921460928898, 11.30921460928898, 11.30921460928898, 11.30921460928898, 11.30921460928898, 11.30921460928898, 11.30921460928898, 11.30921460928898, 11.30921460928898, 11.30921460928898, 11.30921460928898, 11.30921460928898, 11.30921460928898, 11.30921460928898, 11.30921460928898, 11.30921460928898, 11.30921460928898, 11.30921460928898, 11.30921460928898, 11.30921460928898, 11.30921460928898, 11.30921460928898, 11.30921460928898, 11.30921460928898, 11.30921460928898, 11.30921460928898, 11.30921460928898, 11.30921460928898, 11.30921460928898, 11.009880419397984, 11.009880419397984, 11.009880419397984, 11.009880419397984, 11.009880419397984, 11.009880419397984, 11.009880419397984, 11.009880419397984, 11.009880419397984, 11.009880419397984, 11.009880419397984, 11.009880419397984, 11.009880419397984, 11.009880419397984, 11.009880419397984, 11.009880419397984, 11.009880419397984, 11.009880419397984, 11.009880419397984, 11.009880419397984, 11.009880419397984, 11.009880419397984, 11.009880419397984, 11.009880419397984, 11.009880419397984, 11.009880419397984, 11.009880419397984, 11.009880419397984, 11.009880419397984, 11.009880419397984, 11.009880419397984, 11.009880419397984, 11.009880419397984, 11.009880419397984, 11.009880419397984, 11.009880419397984, 11.009880419397984, 11.009880419397984, 11.009880419397984, 11.009880419397984, 11.009880419397984, 11.009880419397984, 11.009880419397984, 11.009880419397984, 11.009880419397984, 11.009880419397984, 11.009880419397984, 11.009880419397984, 11.009880419397984, 11.009880419397984, 11.009880419397984, 11.009880419397984, 11.009880419397984, 11.009880419397984, 11.009880419397984, 11.009880419397984, 11.009880419397984, 11.009880419397984, 11.009880419397984, 11.009880419397984, 11.009880419397984, 11.009880419397984, 11.009880419397984, 11.009880419397984, 11.009880419397984, 11.009880419397984, 11.009880419397984, 11.009880419397984, 11.009880419397984, 11.009880419397984, 11.009880419397984, 11.009880419397984, 11.009880419397984, 11.009880419397984, 11.009880419397984, 11.009880419397984, 11.009880419397984, 11.009880419397984, 11.009880419397984, 11.009880419397984, 11.009880419397984, 11.009880419397984, 11.009880419397984, 11.009880419397984, 11.009880419397984, 11.009880419397984, 11.009880419397984, 11.009880419397984, 11.009880419397984, 11.009880419397984, 11.009880419397984, 11.009880419397984, 11.009880419397984, 11.009880419397984, 11.009880419397984, 11.009880419397984, 11.009880419397984, 11.009880419397984, 11.009880419397984, 11.009880419397984, 11.009880419397984, 11.009880419397984, 11.009880419397984, 11.009880419397984, 11.009880419397984, 11.009880419397984, 11.009880419397984, 10.710546229506988, 10.710546229506988, 10.710546229506988, 10.710546229506988, 10.710546229506988, 10.710546229506988, 10.710546229506988, 10.710546229506988, 10.710546229506988, 10.710546229506988, 10.710546229506988, 10.710546229506988, 10.710546229506988, 10.710546229506988, 10.710546229506988, 10.710546229506988, 10.710546229506988, 10.710546229506988, 10.710546229506988, 10.710546229506988, 10.710546229506988, 10.710546229506988, 10.710546229506988, 10.710546229506988, 10.710546229506988, 10.710546229506988, 10.710546229506988, 10.710546229506988, 10.710546229506988, 10.710546229506988, 10.710546229506988, 10.710546229506988, 10.710546229506988, 10.710546229506988, 10.710546229506988, 10.710546229506988, 10.710546229506988, 10.710546229506988, 10.710546229506988, 10.710546229506988, 10.710546229506988, 10.710546229506988, 10.710546229506988, 10.710546229506988, 10.710546229506988, 10.710546229506988, 10.710546229506988, 10.710546229506988, 10.710546229506988, 10.710546229506988, 10.710546229506988, 10.710546229506988, 10.710546229506988, 10.710546229506988, 10.710546229506988, 10.710546229506988, 10.710546229506988, 10.710546229506988, 10.710546229506988, 10.710546229506988, 10.710546229506988, 10.710546229506988, 10.710546229506988, 10.710546229506988, 10.710546229506988, 10.710546229506988, 10.710546229506988, 10.710546229506988, 10.710546229506988, 10.710546229506988, 10.710546229506988, 10.710546229506988, 10.710546229506988, 10.710546229506988, 10.710546229506988, 10.710546229506988, 10.710546229506988, 10.710546229506988, 10.710546229506988, 10.710546229506988, 10.710546229506988, 10.710546229506988, 10.710546229506988, 10.710546229506988, 10.710546229506988, 10.710546229506988, 10.411212039615993, 10.411212039615993, 10.411212039615993, 10.411212039615993, 10.411212039615993, 10.411212039615993, 10.411212039615993, 10.411212039615993, 10.411212039615993, 10.411212039615993, 10.411212039615993, 10.411212039615993, 10.411212039615993, 10.411212039615993, 10.411212039615993, 10.411212039615993, 10.411212039615993, 10.411212039615993, 10.411212039615993, 10.411212039615993, 10.411212039615993, 10.411212039615993, 10.411212039615993, 10.411212039615993, 10.411212039615993, 10.411212039615993, 10.411212039615993, 10.411212039615993, 10.411212039615993, 10.411212039615993, 10.411212039615993, 10.411212039615993, 10.411212039615993, 10.411212039615993, 10.411212039615993, 10.411212039615993, 10.411212039615993, 10.411212039615993, 10.411212039615993, 10.411212039615993, 10.411212039615993, 10.411212039615993, 10.411212039615993, 10.411212039615993, 10.411212039615993, 10.411212039615993, 10.411212039615993, 10.411212039615993, 10.411212039615993, 10.411212039615993, 10.411212039615993, 10.411212039615993, 10.411212039615993, 10.411212039615993, 10.411212039615993, 10.411212039615993, 10.411212039615993, 10.411212039615993, 10.411212039615993, 10.411212039615993, 10.411212039615993, 10.411212039615993, 10.411212039615993, 10.411212039615993, 10.411212039615993, 10.411212039615993, 10.411212039615993, 10.411212039615993, 10.411212039615993, 10.411212039615993, 10.411212039615993, 10.411212039615993, 10.411212039615993, 10.411212039615993, 10.411212039615993, 10.411212039615993, 10.411212039615993, 10.411212039615993, 10.411212039615993, 10.411212039615993, 10.411212039615993, 10.411212039615993, 10.411212039615993, 10.411212039615993, 10.411212039615993, 10.411212039615993, 10.411212039615993, 10.411212039615993, 10.411212039615993, 10.411212039615993, 10.411212039615993, 10.411212039615993, 10.411212039615993, 10.411212039615993, 10.411212039615993, 10.411212039615993, 10.411212039615993, 10.411212039615993, 10.411212039615993, 10.411212039615993, 10.411212039615993, 10.411212039615993, 10.411212039615993, 10.411212039615993, 10.411212039615993, 10.411212039615993, 10.411212039615993, 10.411212039615993, 10.411212039615993, 10.411212039615993, 10.411212039615993, 10.411212039615993, 10.411212039615993, 10.411212039615993, 10.411212039615993, 10.411212039615993, 10.411212039615993, 10.411212039615993, 10.411212039615993, 10.411212039615993, 10.411212039615993, 10.411212039615993, 10.411212039615993, 10.411212039615993, 10.411212039615993, 10.411212039615993, 10.411212039615993, 10.411212039615993, 10.411212039615993, 10.411212039615993, 10.411212039615993, 10.411212039615993, 10.411212039615993, 10.111877849725, 10.111877849725, 10.111877849725, 10.111877849725, 10.111877849725, 10.111877849725, 10.111877849725, 10.111877849725, 10.111877849725, 10.111877849725, 10.111877849725, 10.111877849725, 10.111877849725, 10.111877849725, 10.111877849725, 10.111877849725, 10.111877849725, 10.111877849725, 10.111877849725, 10.111877849725, 10.111877849725, 10.111877849725, 10.111877849725, 10.111877849725, 10.111877849725, 10.111877849725, 10.111877849725, 10.111877849725, 10.111877849725, 10.111877849725, 10.111877849725, 10.111877849725, 10.111877849725, 10.111877849725, 10.111877849725, 10.111877849725, 9.812543659834004, 9.812543659834004, 9.812543659834004, 9.812543659834004, 9.812543659834004, 9.812543659834004, 9.812543659834004, 9.812543659834004, 9.812543659834004, 9.812543659834004, 9.812543659834004, 9.812543659834004, 9.812543659834004, 9.812543659834004, 9.812543659834004, 9.812543659834004, 9.812543659834004, 9.812543659834004, 9.812543659834004, 9.812543659834004, 9.812543659834004, 9.812543659834004, 9.812543659834004, 9.812543659834004, 9.812543659834004, 9.812543659834004, 9.812543659834004, 9.812543659834004, 9.812543659834004, 9.812543659834004, 9.812543659834004, 9.812543659834004, 9.812543659834004, 9.812543659834004, 9.812543659834004, 9.812543659834004, 9.812543659834004, 9.812543659834004, 9.812543659834004, 9.812543659834004, 9.812543659834004, 9.812543659834004, 9.812543659834004, 9.812543659834004, 9.812543659834004, 9.812543659834004, 9.812543659834004, 9.812543659834004, 9.812543659834004, 9.812543659834004, 9.812543659834004, 9.812543659834004, 9.812543659834004, 9.812543659834004, 9.812543659834004, 9.812543659834004, 9.812543659834004, 9.812543659834004, 9.812543659834004, 9.812543659834004, 9.812543659834004, 9.812543659834004, 9.812543659834004, 9.812543659834004, 9.812543659834004, 9.812543659834004, 9.812543659834004, 9.812543659834004, 9.812543659834004, 9.812543659834004, 9.812543659834004, 9.812543659834004, 9.812543659834004, 9.812543659834004, 9.812543659834004, 9.812543659834004, 9.812543659834004, 9.812543659834004, 9.812543659834004, 9.812543659834004, 9.812543659834004, 9.812543659834004, 9.812543659834004, 9.812543659834004, 9.812543659834004, 9.812543659834004, 9.812543659834004, 9.812543659834004, 9.812543659834004, 9.812543659834004, 9.812543659834004, 9.812543659834004, 9.812543659834004, 9.812543659834004, 9.812543659834004, 9.812543659834004, 9.812543659834004, 9.812543659834004, 9.812543659834004, 9.812543659834004, 9.812543659834004, 9.812543659834004, 9.812543659834004, 9.812543659834004, 9.812543659834004, 9.812543659834004, 9.513209469943009, 9.513209469943009, 9.513209469943009, 9.513209469943009, 9.513209469943009, 9.513209469943009, 9.513209469943009, 9.513209469943009, 9.513209469943009, 9.513209469943009, 9.513209469943009, 9.513209469943009, 9.513209469943009, 9.513209469943009, 9.513209469943009, 9.513209469943009, 9.513209469943009, 9.513209469943009, 9.513209469943009, 9.513209469943009, 9.513209469943009, 9.513209469943009, 9.513209469943009, 9.513209469943009, 9.513209469943009, 9.513209469943009, 9.513209469943009, 9.513209469943009, 9.513209469943009, 9.513209469943009, 9.513209469943009, 9.513209469943009, 9.513209469943009, 9.513209469943009, 9.513209469943009, 9.513209469943009, 9.513209469943009, 9.513209469943009, 9.513209469943009, 9.513209469943009, 9.513209469943009, 9.513209469943009, 9.513209469943009, 9.513209469943009, 9.513209469943009, 9.513209469943009, 9.513209469943009, 9.513209469943009, 9.513209469943009, 9.513209469943009, 9.513209469943009, 9.513209469943009, 9.513209469943009, 9.513209469943009, 9.513209469943009, 9.513209469943009, 9.513209469943009, 9.513209469943009, 9.513209469943009, 9.513209469943009, 9.513209469943009, 9.513209469943009, 9.513209469943009, 9.513209469943009, 9.513209469943009, 9.513209469943009, 9.513209469943009, 9.513209469943009, 9.513209469943009, 9.513209469943009, 9.513209469943009, 9.513209469943009, 9.513209469943009, 9.513209469943009, 9.513209469943009, 9.513209469943009, 9.513209469943009, 9.513209469943009, 9.513209469943009, 9.513209469943009, 9.513209469943009, 9.513209469943009, 9.513209469943009, 9.513209469943009, 9.513209469943009, 9.513209469943009, 9.513209469943009, 9.513209469943009, 9.513209469943009, 9.513209469943009, 9.513209469943009, 9.513209469943009, 9.513209469943009, 9.513209469943009, 9.513209469943009, 9.513209469943009, 9.513209469943009, 9.513209469943009, 9.513209469943009, 9.513209469943009, 9.513209469943009, 9.513209469943009, 9.513209469943009, 9.513209469943009, 9.513209469943009, 9.513209469943009, 9.513209469943009, 9.513209469943009, 9.513209469943009, 9.513209469943009, 9.513209469943009, 9.513209469943009, 9.513209469943009, 9.513209469943009, 9.513209469943009, 9.513209469943009, 9.513209469943009, 9.513209469943009, 9.513209469943009, 9.513209469943009, 9.513209469943009, 9.513209469943009, 9.213875280052013, 9.213875280052013, 9.213875280052013, 9.213875280052013, 9.213875280052013, 9.213875280052013, 9.213875280052013, 9.213875280052013, 9.213875280052013, 9.213875280052013, 9.213875280052013, 9.213875280052013, 9.213875280052013, 9.213875280052013, 9.213875280052013, 9.213875280052013, 9.213875280052013, 9.213875280052013, 9.213875280052013, 9.213875280052013, 9.213875280052013, 9.213875280052013, 9.213875280052013, 9.213875280052013, 9.213875280052013, 9.213875280052013, 9.213875280052013, 9.213875280052013, 9.213875280052013, 9.213875280052013, 9.213875280052013, 9.213875280052013, 9.213875280052013, 9.213875280052013, 9.213875280052013, 9.213875280052013, 9.213875280052013, 9.213875280052013, 9.213875280052013, 9.213875280052013, 9.213875280052013, 9.213875280052013, 9.213875280052013, 9.213875280052013, 9.213875280052013, 9.213875280052013, 9.213875280052013, 9.213875280052013, 9.213875280052013, 9.213875280052013, 9.213875280052013, 9.213875280052013, 9.213875280052013, 9.213875280052013, 9.213875280052013, 9.213875280052013, 9.213875280052013, 9.213875280052013, 9.213875280052013, 9.213875280052013, 9.213875280052013, 9.213875280052013, 9.213875280052013, 9.213875280052013, 9.213875280052013, 9.213875280052013, 9.213875280052013, 9.213875280052013, 9.213875280052013, 9.213875280052013, 9.213875280052013, 9.213875280052013, 9.213875280052013, 9.213875280052013, 9.213875280052013, 9.213875280052013, 9.213875280052013, 9.213875280052013, 9.213875280052013, 9.213875280052013, 9.213875280052013, 9.213875280052013, 9.213875280052013, 9.213875280052013, 9.213875280052013, 9.213875280052013, 9.213875280052013, 9.213875280052013, 9.213875280052013, 9.213875280052013, 9.213875280052013, 9.213875280052013, 9.213875280052013, 9.213875280052013, 9.213875280052013, 9.213875280052013, 9.213875280052013, 9.213875280052013, 9.213875280052013, 9.213875280052013, 9.213875280052013, 9.213875280052013, 9.213875280052013, 9.213875280052013, 9.213875280052013, 9.213875280052013, 9.213875280052013, 9.213875280052013, 9.213875280052013, 9.213875280052013, 9.213875280052013, 9.213875280052013, 9.213875280052013, 9.213875280052013, 9.213875280052013, 9.213875280052013, 9.213875280052013, 9.213875280052013, 9.213875280052013, 9.213875280052013, 9.213875280052013, 9.213875280052013, 9.213875280052013, 9.213875280052013, 9.213875280052013, 9.213875280052013, 9.213875280052013, 9.213875280052013, 9.213875280052013, 9.213875280052013, 9.213875280052013, 9.213875280052013, 9.213875280052013, 9.213875280052013, 9.213875280052013, 9.213875280052013, 9.213875280052013, 9.213875280052013, 9.213875280052013, 9.213875280052013, 9.213875280052013, 9.213875280052013, 9.213875280052013, 9.213875280052013, 9.213875280052013, 9.213875280052013], \"yaxis\": \"y\"}, {\"hoverlabel\": {\"namelength\": 0}, \"hovertemplate\": \"CATEGORY=Personal<br>S_MONTH=%{x}<br>MILES*=%{y}\", \"legendgroup\": \"CATEGORY=Personal\", \"marker\": {\"color\": \"#EF553B\", \"symbol\": \"circle\"}, \"mode\": \"markers\", \"name\": \"CATEGORY=Personal\", \"showlegend\": true, \"type\": \"scattergl\", \"x\": [2, 2, 2, 2, 2, 2, 2, 2, 2, 2, 2, 2, 2, 2, 2, 2, 2, 2, 2, 3, 3, 3, 3, 3, 3, 3, 3, 3, 3, 3, 3, 3, 3, 3, 3, 3, 3, 3, 3, 3, 3, 3, 3, 3, 3, 3, 3, 4, 4, 4, 6, 7, 7, 7, 7, 7, 7, 7, 7, 7, 7, 7, 7, 7, 7, 7, 7, 7, 7, 7, 7, 7, 7, 7, 7, 7, 7], \"xaxis\": \"x\", \"y\": [5.3, 3.0, 5.1, 1.5, 2.7, 1.8, 1.5, 1.0, 13.6, 2.5, 14.4, 3.0, 1.5, 16.5, 1.7, 1.9, 4.2, 2.0, 2.1, 2.2, 4.2, 3.5, 1.6, 1.9, 1.7, 4.9, 12.6, 10.4, 1.2, 1.0, 8.1, 1.4, 1.7, 1.6, 2.0, 6.7, 8.8, 1.2, 6.9, 7.3, 3.6, 27.2, 25.7, 13.6, 6.2, 6.0, 13.8, 0.7, 5.5, 5.1, 5.5, 1.4, 8.7, 23.5, 2.2, 4.4, 3.3, 8.3, 3.2, 22.4, 12.2, 4.5, 28.1, 3.8, 41.9, 23.8, 13.0, 15.1, 180.2, 4.1, 6.1, 3.3, 4.7, 4.8, 2.8, 1.4, 1.4], \"yaxis\": \"y\"}, {\"hoverlabel\": {\"namelength\": 0}, \"hovertemplate\": \"<b>OLS trendline</b><br>MILES* = 2.382378 * S_MONTH + -0.641893<br>R<sup>2</sup>=0.056293<br><br>CATEGORY=Personal<br>S_MONTH=%{x}<br>MILES*=%{y} <b>(trend)</b>\", \"legendgroup\": \"CATEGORY=Personal\", \"marker\": {\"color\": \"#EF553B\", \"symbol\": \"circle\"}, \"mode\": \"lines\", \"name\": \"CATEGORY=Personal\", \"showlegend\": false, \"type\": \"scattergl\", \"x\": [2, 2, 2, 2, 2, 2, 2, 2, 2, 2, 2, 2, 2, 2, 2, 2, 2, 2, 2, 3, 3, 3, 3, 3, 3, 3, 3, 3, 3, 3, 3, 3, 3, 3, 3, 3, 3, 3, 3, 3, 3, 3, 3, 3, 3, 3, 3, 4, 4, 4, 6, 7, 7, 7, 7, 7, 7, 7, 7, 7, 7, 7, 7, 7, 7, 7, 7, 7, 7, 7, 7, 7, 7, 7, 7, 7, 7], \"xaxis\": \"x\", \"y\": [4.122863264213024, 4.122863264213024, 4.122863264213024, 4.122863264213024, 4.122863264213024, 4.122863264213024, 4.122863264213024, 4.122863264213024, 4.122863264213024, 4.122863264213024, 4.122863264213024, 4.122863264213024, 4.122863264213024, 4.122863264213024, 4.122863264213024, 4.122863264213024, 4.122863264213024, 4.122863264213024, 4.122863264213024, 6.5052414109725305, 6.5052414109725305, 6.5052414109725305, 6.5052414109725305, 6.5052414109725305, 6.5052414109725305, 6.5052414109725305, 6.5052414109725305, 6.5052414109725305, 6.5052414109725305, 6.5052414109725305, 6.5052414109725305, 6.5052414109725305, 6.5052414109725305, 6.5052414109725305, 6.5052414109725305, 6.5052414109725305, 6.5052414109725305, 6.5052414109725305, 6.5052414109725305, 6.5052414109725305, 6.5052414109725305, 6.5052414109725305, 6.5052414109725305, 6.5052414109725305, 6.5052414109725305, 6.5052414109725305, 6.5052414109725305, 8.887619557732037, 8.887619557732037, 8.887619557732037, 13.652375851251051, 16.034753998010558, 16.034753998010558, 16.034753998010558, 16.034753998010558, 16.034753998010558, 16.034753998010558, 16.034753998010558, 16.034753998010558, 16.034753998010558, 16.034753998010558, 16.034753998010558, 16.034753998010558, 16.034753998010558, 16.034753998010558, 16.034753998010558, 16.034753998010558, 16.034753998010558, 16.034753998010558, 16.034753998010558, 16.034753998010558, 16.034753998010558, 16.034753998010558, 16.034753998010558, 16.034753998010558, 16.034753998010558, 16.034753998010558], \"yaxis\": \"y\"}],\n",
              "                        {\"height\": 600, \"legend\": {\"tracegroupgap\": 0}, \"margin\": {\"t\": 60}, \"template\": {\"data\": {\"bar\": [{\"error_x\": {\"color\": \"#2a3f5f\"}, \"error_y\": {\"color\": \"#2a3f5f\"}, \"marker\": {\"line\": {\"color\": \"#E5ECF6\", \"width\": 0.5}}, \"type\": \"bar\"}], \"barpolar\": [{\"marker\": {\"line\": {\"color\": \"#E5ECF6\", \"width\": 0.5}}, \"type\": \"barpolar\"}], \"carpet\": [{\"aaxis\": {\"endlinecolor\": \"#2a3f5f\", \"gridcolor\": \"white\", \"linecolor\": \"white\", \"minorgridcolor\": \"white\", \"startlinecolor\": \"#2a3f5f\"}, \"baxis\": {\"endlinecolor\": \"#2a3f5f\", \"gridcolor\": \"white\", \"linecolor\": \"white\", \"minorgridcolor\": \"white\", \"startlinecolor\": \"#2a3f5f\"}, \"type\": \"carpet\"}], \"choropleth\": [{\"colorbar\": {\"outlinewidth\": 0, \"ticks\": \"\"}, \"type\": \"choropleth\"}], \"contour\": [{\"colorbar\": {\"outlinewidth\": 0, \"ticks\": \"\"}, \"colorscale\": [[0.0, \"#0d0887\"], [0.1111111111111111, \"#46039f\"], [0.2222222222222222, \"#7201a8\"], [0.3333333333333333, \"#9c179e\"], [0.4444444444444444, \"#bd3786\"], [0.5555555555555556, \"#d8576b\"], [0.6666666666666666, \"#ed7953\"], [0.7777777777777778, \"#fb9f3a\"], [0.8888888888888888, \"#fdca26\"], [1.0, \"#f0f921\"]], \"type\": \"contour\"}], \"contourcarpet\": [{\"colorbar\": {\"outlinewidth\": 0, \"ticks\": \"\"}, \"type\": \"contourcarpet\"}], \"heatmap\": [{\"colorbar\": {\"outlinewidth\": 0, \"ticks\": \"\"}, \"colorscale\": [[0.0, \"#0d0887\"], [0.1111111111111111, \"#46039f\"], [0.2222222222222222, \"#7201a8\"], [0.3333333333333333, \"#9c179e\"], [0.4444444444444444, \"#bd3786\"], [0.5555555555555556, \"#d8576b\"], [0.6666666666666666, \"#ed7953\"], [0.7777777777777778, \"#fb9f3a\"], [0.8888888888888888, \"#fdca26\"], [1.0, \"#f0f921\"]], \"type\": \"heatmap\"}], \"heatmapgl\": [{\"colorbar\": {\"outlinewidth\": 0, \"ticks\": \"\"}, \"colorscale\": [[0.0, \"#0d0887\"], [0.1111111111111111, \"#46039f\"], [0.2222222222222222, \"#7201a8\"], [0.3333333333333333, \"#9c179e\"], [0.4444444444444444, \"#bd3786\"], [0.5555555555555556, \"#d8576b\"], [0.6666666666666666, \"#ed7953\"], [0.7777777777777778, \"#fb9f3a\"], [0.8888888888888888, \"#fdca26\"], [1.0, \"#f0f921\"]], \"type\": \"heatmapgl\"}], \"histogram\": [{\"marker\": {\"colorbar\": {\"outlinewidth\": 0, \"ticks\": \"\"}}, \"type\": \"histogram\"}], \"histogram2d\": [{\"colorbar\": {\"outlinewidth\": 0, \"ticks\": \"\"}, \"colorscale\": [[0.0, \"#0d0887\"], [0.1111111111111111, \"#46039f\"], [0.2222222222222222, \"#7201a8\"], [0.3333333333333333, \"#9c179e\"], [0.4444444444444444, \"#bd3786\"], [0.5555555555555556, \"#d8576b\"], [0.6666666666666666, \"#ed7953\"], [0.7777777777777778, \"#fb9f3a\"], [0.8888888888888888, \"#fdca26\"], [1.0, \"#f0f921\"]], \"type\": \"histogram2d\"}], \"histogram2dcontour\": [{\"colorbar\": {\"outlinewidth\": 0, \"ticks\": \"\"}, \"colorscale\": [[0.0, \"#0d0887\"], [0.1111111111111111, \"#46039f\"], [0.2222222222222222, \"#7201a8\"], [0.3333333333333333, \"#9c179e\"], [0.4444444444444444, \"#bd3786\"], [0.5555555555555556, \"#d8576b\"], [0.6666666666666666, \"#ed7953\"], [0.7777777777777778, \"#fb9f3a\"], [0.8888888888888888, \"#fdca26\"], [1.0, \"#f0f921\"]], \"type\": \"histogram2dcontour\"}], \"mesh3d\": [{\"colorbar\": {\"outlinewidth\": 0, \"ticks\": \"\"}, \"type\": \"mesh3d\"}], \"parcoords\": [{\"line\": {\"colorbar\": {\"outlinewidth\": 0, \"ticks\": \"\"}}, \"type\": \"parcoords\"}], \"scatter\": [{\"marker\": {\"colorbar\": {\"outlinewidth\": 0, \"ticks\": \"\"}}, \"type\": \"scatter\"}], \"scatter3d\": [{\"line\": {\"colorbar\": {\"outlinewidth\": 0, \"ticks\": \"\"}}, \"marker\": {\"colorbar\": {\"outlinewidth\": 0, \"ticks\": \"\"}}, \"type\": \"scatter3d\"}], \"scattercarpet\": [{\"marker\": {\"colorbar\": {\"outlinewidth\": 0, \"ticks\": \"\"}}, \"type\": \"scattercarpet\"}], \"scattergeo\": [{\"marker\": {\"colorbar\": {\"outlinewidth\": 0, \"ticks\": \"\"}}, \"type\": \"scattergeo\"}], \"scattergl\": [{\"marker\": {\"colorbar\": {\"outlinewidth\": 0, \"ticks\": \"\"}}, \"type\": \"scattergl\"}], \"scattermapbox\": [{\"marker\": {\"colorbar\": {\"outlinewidth\": 0, \"ticks\": \"\"}}, \"type\": \"scattermapbox\"}], \"scatterpolar\": [{\"marker\": {\"colorbar\": {\"outlinewidth\": 0, \"ticks\": \"\"}}, \"type\": \"scatterpolar\"}], \"scatterpolargl\": [{\"marker\": {\"colorbar\": {\"outlinewidth\": 0, \"ticks\": \"\"}}, \"type\": \"scatterpolargl\"}], \"scatterternary\": [{\"marker\": {\"colorbar\": {\"outlinewidth\": 0, \"ticks\": \"\"}}, \"type\": \"scatterternary\"}], \"surface\": [{\"colorbar\": {\"outlinewidth\": 0, \"ticks\": \"\"}, \"colorscale\": [[0.0, \"#0d0887\"], [0.1111111111111111, \"#46039f\"], [0.2222222222222222, \"#7201a8\"], [0.3333333333333333, \"#9c179e\"], [0.4444444444444444, \"#bd3786\"], [0.5555555555555556, \"#d8576b\"], [0.6666666666666666, \"#ed7953\"], [0.7777777777777778, \"#fb9f3a\"], [0.8888888888888888, \"#fdca26\"], [1.0, \"#f0f921\"]], \"type\": \"surface\"}], \"table\": [{\"cells\": {\"fill\": {\"color\": \"#EBF0F8\"}, \"line\": {\"color\": \"white\"}}, \"header\": {\"fill\": {\"color\": \"#C8D4E3\"}, \"line\": {\"color\": \"white\"}}, \"type\": \"table\"}]}, \"layout\": {\"annotationdefaults\": {\"arrowcolor\": \"#2a3f5f\", \"arrowhead\": 0, \"arrowwidth\": 1}, \"colorscale\": {\"diverging\": [[0, \"#8e0152\"], [0.1, \"#c51b7d\"], [0.2, \"#de77ae\"], [0.3, \"#f1b6da\"], [0.4, \"#fde0ef\"], [0.5, \"#f7f7f7\"], [0.6, \"#e6f5d0\"], [0.7, \"#b8e186\"], [0.8, \"#7fbc41\"], [0.9, \"#4d9221\"], [1, \"#276419\"]], \"sequential\": [[0.0, \"#0d0887\"], [0.1111111111111111, \"#46039f\"], [0.2222222222222222, \"#7201a8\"], [0.3333333333333333, \"#9c179e\"], [0.4444444444444444, \"#bd3786\"], [0.5555555555555556, \"#d8576b\"], [0.6666666666666666, \"#ed7953\"], [0.7777777777777778, \"#fb9f3a\"], [0.8888888888888888, \"#fdca26\"], [1.0, \"#f0f921\"]], \"sequentialminus\": [[0.0, \"#0d0887\"], [0.1111111111111111, \"#46039f\"], [0.2222222222222222, \"#7201a8\"], [0.3333333333333333, \"#9c179e\"], [0.4444444444444444, \"#bd3786\"], [0.5555555555555556, \"#d8576b\"], [0.6666666666666666, \"#ed7953\"], [0.7777777777777778, \"#fb9f3a\"], [0.8888888888888888, \"#fdca26\"], [1.0, \"#f0f921\"]]}, \"colorway\": [\"#636efa\", \"#EF553B\", \"#00cc96\", \"#ab63fa\", \"#FFA15A\", \"#19d3f3\", \"#FF6692\", \"#B6E880\", \"#FF97FF\", \"#FECB52\"], \"font\": {\"color\": \"#2a3f5f\"}, \"geo\": {\"bgcolor\": \"white\", \"lakecolor\": \"white\", \"landcolor\": \"#E5ECF6\", \"showlakes\": true, \"showland\": true, \"subunitcolor\": \"white\"}, \"hoverlabel\": {\"align\": \"left\"}, \"hovermode\": \"closest\", \"mapbox\": {\"style\": \"light\"}, \"paper_bgcolor\": \"white\", \"plot_bgcolor\": \"#E5ECF6\", \"polar\": {\"angularaxis\": {\"gridcolor\": \"white\", \"linecolor\": \"white\", \"ticks\": \"\"}, \"bgcolor\": \"#E5ECF6\", \"radialaxis\": {\"gridcolor\": \"white\", \"linecolor\": \"white\", \"ticks\": \"\"}}, \"scene\": {\"xaxis\": {\"backgroundcolor\": \"#E5ECF6\", \"gridcolor\": \"white\", \"gridwidth\": 2, \"linecolor\": \"white\", \"showbackground\": true, \"ticks\": \"\", \"zerolinecolor\": \"white\"}, \"yaxis\": {\"backgroundcolor\": \"#E5ECF6\", \"gridcolor\": \"white\", \"gridwidth\": 2, \"linecolor\": \"white\", \"showbackground\": true, \"ticks\": \"\", \"zerolinecolor\": \"white\"}, \"zaxis\": {\"backgroundcolor\": \"#E5ECF6\", \"gridcolor\": \"white\", \"gridwidth\": 2, \"linecolor\": \"white\", \"showbackground\": true, \"ticks\": \"\", \"zerolinecolor\": \"white\"}}, \"shapedefaults\": {\"line\": {\"color\": \"#2a3f5f\"}}, \"ternary\": {\"aaxis\": {\"gridcolor\": \"white\", \"linecolor\": \"white\", \"ticks\": \"\"}, \"baxis\": {\"gridcolor\": \"white\", \"linecolor\": \"white\", \"ticks\": \"\"}, \"bgcolor\": \"#E5ECF6\", \"caxis\": {\"gridcolor\": \"white\", \"linecolor\": \"white\", \"ticks\": \"\"}}, \"title\": {\"x\": 0.05}, \"xaxis\": {\"automargin\": true, \"gridcolor\": \"white\", \"linecolor\": \"white\", \"ticks\": \"\", \"zerolinecolor\": \"white\", \"zerolinewidth\": 2}, \"yaxis\": {\"automargin\": true, \"gridcolor\": \"white\", \"linecolor\": \"white\", \"ticks\": \"\", \"zerolinecolor\": \"white\", \"zerolinewidth\": 2}}}, \"xaxis\": {\"anchor\": \"y\", \"domain\": [0.0, 0.98], \"title\": {\"text\": \"S_MONTH\"}}, \"yaxis\": {\"anchor\": \"x\", \"domain\": [0.0, 1.0], \"title\": {\"text\": \"MILES*\"}}},\n",
              "                        {\"responsive\": true}\n",
              "                    ).then(function(){\n",
              "                            \n",
              "var gd = document.getElementById('b56464de-20f0-4940-aeb0-fca290a254c9');\n",
              "var x = new MutationObserver(function (mutations, observer) {{\n",
              "        var display = window.getComputedStyle(gd).display;\n",
              "        if (!display || display === 'none') {{\n",
              "            console.log([gd, 'removed!']);\n",
              "            Plotly.purge(gd);\n",
              "            observer.disconnect();\n",
              "        }}\n",
              "}});\n",
              "\n",
              "// Listen for the removal of the full notebook cells\n",
              "var notebookContainer = gd.closest('#notebook-container');\n",
              "if (notebookContainer) {{\n",
              "    x.observe(notebookContainer, {childList: true});\n",
              "}}\n",
              "\n",
              "// Listen for the clearing of the current output cell\n",
              "var outputEl = gd.closest('.output');\n",
              "if (outputEl) {{\n",
              "    x.observe(outputEl, {childList: true});\n",
              "}}\n",
              "\n",
              "                        })\n",
              "                };\n",
              "                \n",
              "            </script>\n",
              "        </div>\n",
              "</body>\n",
              "</html>"
            ]
          },
          "metadata": {
            "tags": []
          }
        }
      ]
    },
    {
      "cell_type": "markdown",
      "metadata": {
        "id": "M_udmIWi3MET",
        "colab_type": "text"
      },
      "source": [
        "*Figure 14: Scatter plot showing Correlation between Category,Miles with the Purpose: Unknown Purpose*\n",
        "\n",
        "\n",
        "Based on Figure 14: Scatter plot showing Correlation between Category,Miles with the Purpose: Unknown Purpose, the dataset is clustered in the 0-30 miles range meaning the trips are short distance. The Business trips were constant and steady throughout the year. On the other hand, the personal trips increased through February(Month 2) until July(Month 7). "
      ]
    },
    {
      "cell_type": "markdown",
      "metadata": {
        "id": "AVcuOaR1WGur",
        "colab_type": "text"
      },
      "source": [
        "# EVALUATION AGAINST CLASSIFIERS"
      ]
    },
    {
      "cell_type": "markdown",
      "metadata": {
        "id": "Lr7_eV9wkvNd",
        "colab_type": "text"
      },
      "source": [
        "In this data mining project, four classified techniques were used to predict the effectiveness and accuracies of the cleaned dataset. These four methods were chosen because they are all considered as simplest classification algorithms commonly use for machines learning. (reference). Moreover, all of the used models have similar ways of implementing. We have to split the data into input and validation parts to produce the outcomes. \n",
        "\n",
        "In order to test the different classifiers and assess the accuracy of classification performance, multiple steps were applied to the dataset. \n",
        "\n",
        "Step 1:  Make a copy of data so that we can make sure any progression or problems that might occur during the testing prediction won't affect the original dataset. \n",
        "\n",
        "Step 2: Decide which columns produce the best outcomes for accuracy and confusion matrix. The columns chosen were CATEGORY, START, STOP, PURPOSE and MILES.\n",
        "\n",
        "Step 3:  Convert all of the objects to the \"int\" datatype. The four chosen classifiers do not recognise nominal attributes.\n",
        "\n",
        "Step 4: Use the same amount of input and validation datasets to not create bias of the overall accuracy in the results."
      ]
    },
    {
      "cell_type": "code",
      "metadata": {
        "id": "KsyDx5MatJHg",
        "colab_type": "code",
        "outputId": "5693f244-b8cd-4b5e-c0da-8929cd19bd07",
        "colab": {
          "base_uri": "https://localhost:8080/",
          "height": 359
        }
      },
      "source": [
        "#to copy the whole data\n",
        "cop_data = data.copy()\n",
        "cop_data.head(10)"
      ],
      "execution_count": 0,
      "outputs": [
        {
          "output_type": "execute_result",
          "data": {
            "text/html": [
              "<div>\n",
              "<style scoped>\n",
              "    .dataframe tbody tr th:only-of-type {\n",
              "        vertical-align: middle;\n",
              "    }\n",
              "\n",
              "    .dataframe tbody tr th {\n",
              "        vertical-align: top;\n",
              "    }\n",
              "\n",
              "    .dataframe thead th {\n",
              "        text-align: right;\n",
              "    }\n",
              "</style>\n",
              "<table border=\"1\" class=\"dataframe\">\n",
              "  <thead>\n",
              "    <tr style=\"text-align: right;\">\n",
              "      <th></th>\n",
              "      <th>START_DATE*</th>\n",
              "      <th>END_DATE*</th>\n",
              "      <th>CATEGORY*</th>\n",
              "      <th>START*</th>\n",
              "      <th>STOP*</th>\n",
              "      <th>MILES*</th>\n",
              "      <th>PURPOSE*</th>\n",
              "    </tr>\n",
              "  </thead>\n",
              "  <tbody>\n",
              "    <tr>\n",
              "      <th>0</th>\n",
              "      <td>2016-01-01 21:11:00</td>\n",
              "      <td>2016-01-01 21:17:00</td>\n",
              "      <td>Business</td>\n",
              "      <td>Fort Pierce</td>\n",
              "      <td>Fort Pierce</td>\n",
              "      <td>5.1</td>\n",
              "      <td>Meal/Entertain</td>\n",
              "    </tr>\n",
              "    <tr>\n",
              "      <th>1</th>\n",
              "      <td>2016-02-01 01:25:00</td>\n",
              "      <td>2016-02-01 01:37:00</td>\n",
              "      <td>Business</td>\n",
              "      <td>Fort Pierce</td>\n",
              "      <td>Fort Pierce</td>\n",
              "      <td>5.0</td>\n",
              "      <td>Unknown Purpose</td>\n",
              "    </tr>\n",
              "    <tr>\n",
              "      <th>2</th>\n",
              "      <td>2016-02-01 20:25:00</td>\n",
              "      <td>2016-02-01 20:38:00</td>\n",
              "      <td>Business</td>\n",
              "      <td>Fort Pierce</td>\n",
              "      <td>Fort Pierce</td>\n",
              "      <td>4.8</td>\n",
              "      <td>Errand/Supplies</td>\n",
              "    </tr>\n",
              "    <tr>\n",
              "      <th>3</th>\n",
              "      <td>2016-05-01 17:31:00</td>\n",
              "      <td>2016-05-01 17:45:00</td>\n",
              "      <td>Business</td>\n",
              "      <td>Fort Pierce</td>\n",
              "      <td>Fort Pierce</td>\n",
              "      <td>4.7</td>\n",
              "      <td>Meeting</td>\n",
              "    </tr>\n",
              "    <tr>\n",
              "      <th>4</th>\n",
              "      <td>2016-06-01 14:42:00</td>\n",
              "      <td>2016-06-01 15:49:00</td>\n",
              "      <td>Business</td>\n",
              "      <td>Fort Pierce</td>\n",
              "      <td>West Palm Beach</td>\n",
              "      <td>63.7</td>\n",
              "      <td>Customer Visit</td>\n",
              "    </tr>\n",
              "    <tr>\n",
              "      <th>5</th>\n",
              "      <td>2016-06-01 17:15:00</td>\n",
              "      <td>2016-06-01 17:19:00</td>\n",
              "      <td>Business</td>\n",
              "      <td>West Palm Beach</td>\n",
              "      <td>West Palm Beach</td>\n",
              "      <td>4.3</td>\n",
              "      <td>Meal/Entertain</td>\n",
              "    </tr>\n",
              "    <tr>\n",
              "      <th>6</th>\n",
              "      <td>2016-06-01 17:30:00</td>\n",
              "      <td>2016-06-01 17:35:00</td>\n",
              "      <td>Business</td>\n",
              "      <td>West Palm Beach</td>\n",
              "      <td>Palm Beach</td>\n",
              "      <td>7.1</td>\n",
              "      <td>Meeting</td>\n",
              "    </tr>\n",
              "    <tr>\n",
              "      <th>7</th>\n",
              "      <td>2016-07-01 13:27:00</td>\n",
              "      <td>2016-07-01 13:33:00</td>\n",
              "      <td>Business</td>\n",
              "      <td>Cary</td>\n",
              "      <td>Cary</td>\n",
              "      <td>0.8</td>\n",
              "      <td>Meeting</td>\n",
              "    </tr>\n",
              "    <tr>\n",
              "      <th>8</th>\n",
              "      <td>2016-10-01 08:05:00</td>\n",
              "      <td>2016-10-01 08:25:00</td>\n",
              "      <td>Business</td>\n",
              "      <td>Cary</td>\n",
              "      <td>Morrisville</td>\n",
              "      <td>8.3</td>\n",
              "      <td>Meeting</td>\n",
              "    </tr>\n",
              "    <tr>\n",
              "      <th>9</th>\n",
              "      <td>2016-10-01 12:17:00</td>\n",
              "      <td>2016-10-01 12:44:00</td>\n",
              "      <td>Business</td>\n",
              "      <td>Jamaica</td>\n",
              "      <td>New York</td>\n",
              "      <td>16.5</td>\n",
              "      <td>Customer Visit</td>\n",
              "    </tr>\n",
              "  </tbody>\n",
              "</table>\n",
              "</div>"
            ],
            "text/plain": [
              "          START_DATE*           END_DATE*  ... MILES*         PURPOSE*\n",
              "0 2016-01-01 21:11:00 2016-01-01 21:17:00  ...    5.1   Meal/Entertain\n",
              "1 2016-02-01 01:25:00 2016-02-01 01:37:00  ...    5.0  Unknown Purpose\n",
              "2 2016-02-01 20:25:00 2016-02-01 20:38:00  ...    4.8  Errand/Supplies\n",
              "3 2016-05-01 17:31:00 2016-05-01 17:45:00  ...    4.7          Meeting\n",
              "4 2016-06-01 14:42:00 2016-06-01 15:49:00  ...   63.7   Customer Visit\n",
              "5 2016-06-01 17:15:00 2016-06-01 17:19:00  ...    4.3   Meal/Entertain\n",
              "6 2016-06-01 17:30:00 2016-06-01 17:35:00  ...    7.1          Meeting\n",
              "7 2016-07-01 13:27:00 2016-07-01 13:33:00  ...    0.8          Meeting\n",
              "8 2016-10-01 08:05:00 2016-10-01 08:25:00  ...    8.3          Meeting\n",
              "9 2016-10-01 12:17:00 2016-10-01 12:44:00  ...   16.5   Customer Visit\n",
              "\n",
              "[10 rows x 7 columns]"
            ]
          },
          "metadata": {
            "tags": []
          },
          "execution_count": 38
        }
      ]
    },
    {
      "cell_type": "code",
      "metadata": {
        "id": "S_I3MLpAtN5o",
        "colab_type": "code",
        "outputId": "d8a981fb-c507-453e-8a6b-1f0ed9d03a1c",
        "colab": {
          "base_uri": "https://localhost:8080/",
          "height": 359
        }
      },
      "source": [
        "#dropping old START_DATE* column\n",
        "cop_data.drop(columns = [\"START_DATE*\"], inplace = True)\n",
        "#dropping old END_DATE* column\n",
        "cop_data.drop(columns = [\"END_DATE*\"], inplace = True)\n",
        "\n",
        "#displaying dataset after dropping START_DATE* and END_DATE* columns\n",
        "cop_data.head(10)"
      ],
      "execution_count": 0,
      "outputs": [
        {
          "output_type": "execute_result",
          "data": {
            "text/html": [
              "<div>\n",
              "<style scoped>\n",
              "    .dataframe tbody tr th:only-of-type {\n",
              "        vertical-align: middle;\n",
              "    }\n",
              "\n",
              "    .dataframe tbody tr th {\n",
              "        vertical-align: top;\n",
              "    }\n",
              "\n",
              "    .dataframe thead th {\n",
              "        text-align: right;\n",
              "    }\n",
              "</style>\n",
              "<table border=\"1\" class=\"dataframe\">\n",
              "  <thead>\n",
              "    <tr style=\"text-align: right;\">\n",
              "      <th></th>\n",
              "      <th>CATEGORY*</th>\n",
              "      <th>START*</th>\n",
              "      <th>STOP*</th>\n",
              "      <th>MILES*</th>\n",
              "      <th>PURPOSE*</th>\n",
              "    </tr>\n",
              "  </thead>\n",
              "  <tbody>\n",
              "    <tr>\n",
              "      <th>0</th>\n",
              "      <td>Business</td>\n",
              "      <td>Fort Pierce</td>\n",
              "      <td>Fort Pierce</td>\n",
              "      <td>5.1</td>\n",
              "      <td>Meal/Entertain</td>\n",
              "    </tr>\n",
              "    <tr>\n",
              "      <th>1</th>\n",
              "      <td>Business</td>\n",
              "      <td>Fort Pierce</td>\n",
              "      <td>Fort Pierce</td>\n",
              "      <td>5.0</td>\n",
              "      <td>Unknown Purpose</td>\n",
              "    </tr>\n",
              "    <tr>\n",
              "      <th>2</th>\n",
              "      <td>Business</td>\n",
              "      <td>Fort Pierce</td>\n",
              "      <td>Fort Pierce</td>\n",
              "      <td>4.8</td>\n",
              "      <td>Errand/Supplies</td>\n",
              "    </tr>\n",
              "    <tr>\n",
              "      <th>3</th>\n",
              "      <td>Business</td>\n",
              "      <td>Fort Pierce</td>\n",
              "      <td>Fort Pierce</td>\n",
              "      <td>4.7</td>\n",
              "      <td>Meeting</td>\n",
              "    </tr>\n",
              "    <tr>\n",
              "      <th>4</th>\n",
              "      <td>Business</td>\n",
              "      <td>Fort Pierce</td>\n",
              "      <td>West Palm Beach</td>\n",
              "      <td>63.7</td>\n",
              "      <td>Customer Visit</td>\n",
              "    </tr>\n",
              "    <tr>\n",
              "      <th>5</th>\n",
              "      <td>Business</td>\n",
              "      <td>West Palm Beach</td>\n",
              "      <td>West Palm Beach</td>\n",
              "      <td>4.3</td>\n",
              "      <td>Meal/Entertain</td>\n",
              "    </tr>\n",
              "    <tr>\n",
              "      <th>6</th>\n",
              "      <td>Business</td>\n",
              "      <td>West Palm Beach</td>\n",
              "      <td>Palm Beach</td>\n",
              "      <td>7.1</td>\n",
              "      <td>Meeting</td>\n",
              "    </tr>\n",
              "    <tr>\n",
              "      <th>7</th>\n",
              "      <td>Business</td>\n",
              "      <td>Cary</td>\n",
              "      <td>Cary</td>\n",
              "      <td>0.8</td>\n",
              "      <td>Meeting</td>\n",
              "    </tr>\n",
              "    <tr>\n",
              "      <th>8</th>\n",
              "      <td>Business</td>\n",
              "      <td>Cary</td>\n",
              "      <td>Morrisville</td>\n",
              "      <td>8.3</td>\n",
              "      <td>Meeting</td>\n",
              "    </tr>\n",
              "    <tr>\n",
              "      <th>9</th>\n",
              "      <td>Business</td>\n",
              "      <td>Jamaica</td>\n",
              "      <td>New York</td>\n",
              "      <td>16.5</td>\n",
              "      <td>Customer Visit</td>\n",
              "    </tr>\n",
              "  </tbody>\n",
              "</table>\n",
              "</div>"
            ],
            "text/plain": [
              "  CATEGORY*           START*            STOP*  MILES*         PURPOSE*\n",
              "0  Business      Fort Pierce      Fort Pierce     5.1   Meal/Entertain\n",
              "1  Business      Fort Pierce      Fort Pierce     5.0  Unknown Purpose\n",
              "2  Business      Fort Pierce      Fort Pierce     4.8  Errand/Supplies\n",
              "3  Business      Fort Pierce      Fort Pierce     4.7          Meeting\n",
              "4  Business      Fort Pierce  West Palm Beach    63.7   Customer Visit\n",
              "5  Business  West Palm Beach  West Palm Beach     4.3   Meal/Entertain\n",
              "6  Business  West Palm Beach       Palm Beach     7.1          Meeting\n",
              "7  Business             Cary             Cary     0.8          Meeting\n",
              "8  Business             Cary      Morrisville     8.3          Meeting\n",
              "9  Business          Jamaica         New York    16.5   Customer Visit"
            ]
          },
          "metadata": {
            "tags": []
          },
          "execution_count": 39
        }
      ]
    },
    {
      "cell_type": "code",
      "metadata": {
        "id": "g7ANlEDLuIm_",
        "colab_type": "code",
        "outputId": "b10540f9-54ca-4300-dd96-3205a6ca4acc",
        "colab": {
          "base_uri": "https://localhost:8080/",
          "height": 54
        }
      },
      "source": [
        "#converting START* to category type (int64)\n",
        "labels = cop_data['START*'].astype('category').cat.categories.tolist()\n",
        "replace_new_cop = {'START*' : {k: v for k,v in zip(labels,list(range(1,len(labels)+1)))}}\n",
        "\n",
        "print(replace_new_cop)"
      ],
      "execution_count": 0,
      "outputs": [
        {
          "output_type": "stream",
          "text": [
            "{'START*': {'Agnew': 1, 'Almond': 2, 'Apex': 3, 'Arabi': 4, 'Arlington': 5, 'Arlington Park at Amberly': 6, 'Asheville': 7, 'Austin': 8, 'Banner Elk': 9, 'Bellevue': 10, 'Berkeley': 11, 'Boone': 12, 'Briar Meadow': 13, 'Bryson City': 14, 'Burtrose': 15, 'CBD': 16, 'Capitol One': 17, 'Cary': 18, 'Central': 19, 'Chalmette': 20, 'Chapel Hill': 21, 'Chessington': 22, 'College Avenue': 23, 'Colombo': 24, 'Columbia Heights': 25, 'Congress Ave District': 26, 'Connecticut Avenue': 27, 'Convention Center District': 28, 'Cory': 29, 'Couples Glen': 30, 'Covington': 31, 'Coxville': 32, 'Daytona Beach': 33, 'Downtown': 34, 'Durham': 35, 'Eagan Park': 36, 'Eagle Rock': 37, 'East Austin': 38, 'East Elmhurst': 39, 'East Harlem': 40, 'Eastgate': 41, 'Edgehill Farms': 42, 'El Cerrito': 43, 'Elk Park': 44, 'Elmhurst': 45, 'Emeryville': 46, 'Fairmont': 47, 'Farmington Woods': 48, 'Fayetteville Street': 49, 'Financial District': 50, 'Flatiron District': 51, 'Florence': 52, 'Fort Pierce': 53, 'Fuquay-Varina': 54, 'Galveston': 55, 'Gampaha': 56, 'Georgian Acres': 57, 'Gulfton': 58, 'Hayesville': 59, 'Hazelwood': 60, \"Hell's Kitchen\": 61, 'Heritage Pines': 62, 'Holly Springs': 63, 'Houston': 64, 'Hudson Square': 65, 'Huntington Woods': 66, 'Ingleside': 67, 'Islamabad': 68, 'Jackson Heights': 69, 'Jacksonville': 70, 'Jamaica': 71, 'Jamestown Court': 72, 'K Street': 73, 'Kalorama Triangle': 74, 'Kar?chi': 75, 'Karachi': 76, 'Katunayaka': 77, 'Katunayake': 78, 'Katy': 79, 'Kenner': 80, 'Kilarney Woods': 81, 'Kissimmee': 82, 'Krendle Woods': 83, 'Lahore': 84, 'Lake Reams': 85, 'Lake Wellingborough': 86, 'Lakeview': 87, 'Latta': 88, 'Lexington Park at Amberly': 89, 'Long Island City': 90, 'Lower Garden District': 91, 'Lower Manhattan': 92, 'Mandeville': 93, 'Marigny': 94, 'Mcvan': 95, 'Mebane': 96, 'Medical Centre': 97, 'Menlo Park': 98, 'Meredith': 99, 'Meredith Townes': 100, 'Metairie': 101, 'Midtown': 102, 'Midtown East': 103, 'Morrisville': 104, 'Mountain View': 105, 'NOMA': 106, 'New Orleans': 107, 'New York': 108, 'Newark': 109, 'Newland': 110, 'Noorpur Shahan': 111, 'North Austin': 112, 'North Berkeley Hills': 113, 'Northwoods': 114, 'Nugegoda': 115, 'Oakland': 116, 'Old City': 117, 'Orlando': 118, 'Palo Alto': 119, 'Parkway': 120, 'Parkwood': 121, 'Pontchartrain Beach': 122, 'Pontchartrain Shores': 123, 'Port Bolivar': 124, 'Preston': 125, 'R?walpindi': 126, 'Raleigh': 127, 'Rawalpindi': 128, 'Red River District': 129, 'Redmond': 130, 'Renaissance': 131, 'Ridgeland': 132, 'Rose Hill': 133, 'SOMISSPO': 134, 'San Francisco': 135, 'San Jose': 136, 'Sand Lake Commons': 137, 'Santa Clara': 138, 'Savon Height': 139, 'Seaport': 140, 'Seattle': 141, 'Sharpstown': 142, 'Sky Lake': 143, 'Soho': 144, 'South': 145, 'South Berkeley': 146, 'South Congress': 147, 'Southside': 148, 'St Thomas': 149, 'Stonewater': 150, 'Storyville': 151, 'Sugar Land': 152, 'Summerwinds': 153, 'Sunnyside': 154, 'Sunnyvale': 155, 'Tanglewood': 156, 'Tenderloin': 157, 'The Drag': 158, 'Topton': 159, 'Townes at Everett Crossing': 160, 'Tribeca': 161, 'University District': 162, 'Unknown Location': 163, 'Wake Co.': 164, 'Wake Forest': 165, 'Washington': 166, 'Washington Avenue': 167, 'Waverly Place': 168, 'Wayne Ridge': 169, 'West Berkeley': 170, 'West End': 171, 'West Palm Beach': 172, 'West University': 173, 'Weston': 174, 'Westpark Place': 175, 'Whitebridge': 176, 'Winston Salem': 177}}\n"
          ],
          "name": "stdout"
        }
      ]
    },
    {
      "cell_type": "code",
      "metadata": {
        "id": "-pUBPapouKhG",
        "colab_type": "code",
        "outputId": "86de851c-74af-408e-f053-4dbe564cc7c0",
        "colab": {
          "base_uri": "https://localhost:8080/",
          "height": 119
        }
      },
      "source": [
        "cop_data.replace(replace_new_cop, inplace=True)\n",
        "\n",
        "print(cop_data.head())"
      ],
      "execution_count": 0,
      "outputs": [
        {
          "output_type": "stream",
          "text": [
            "  CATEGORY*  START*            STOP*  MILES*         PURPOSE*\n",
            "0  Business      53      Fort Pierce     5.1   Meal/Entertain\n",
            "1  Business      53      Fort Pierce     5.0  Unknown Purpose\n",
            "2  Business      53      Fort Pierce     4.8  Errand/Supplies\n",
            "3  Business      53      Fort Pierce     4.7          Meeting\n",
            "4  Business      53  West Palm Beach    63.7   Customer Visit\n"
          ],
          "name": "stdout"
        }
      ]
    },
    {
      "cell_type": "code",
      "metadata": {
        "id": "t2WaQUjxuP0g",
        "colab_type": "code",
        "outputId": "65e474b3-625a-44ad-d6a1-dc6034ae588f",
        "colab": {
          "base_uri": "https://localhost:8080/",
          "height": 54
        }
      },
      "source": [
        "#converting STOP* to category type (int64)\n",
        "labels = cop_data['STOP*'].astype('category').cat.categories.tolist()\n",
        "replace_new_cop = {'STOP*' : {k: v for k,v in zip(labels,list(range(1,len(labels)+1)))}}\n",
        "\n",
        "print(replace_new_cop)"
      ],
      "execution_count": 0,
      "outputs": [
        {
          "output_type": "stream",
          "text": [
            "{'STOP*': {'Agnew': 1, 'Alief': 2, 'Almond': 3, 'Apex': 4, 'Arabi': 5, 'Arlington': 6, 'Arlington Park at Amberly': 7, 'Arts District': 8, 'Asheville': 9, 'Banner Elk': 10, 'Bay Farm Island': 11, 'Bellevue': 12, 'Berkeley': 13, 'Boone': 14, 'Briar Meadow': 15, 'Bryson City': 16, 'Burtrose': 17, 'Bywater': 18, 'CBD': 19, 'Capitol One': 20, 'Cary': 21, 'Cedar Hill': 22, 'Central': 23, 'Chalmette': 24, 'Chapel Hill': 25, 'Chessington': 26, 'College Avenue': 27, 'Colombo': 28, 'Columbia Heights': 29, 'Congress Ave District': 30, 'Convention Center District': 31, 'Cory': 32, 'Covington': 33, 'Coxville': 34, 'Daytona Beach': 35, 'Depot Historic District': 36, 'Downtown': 37, 'Durham': 38, 'Eagle Rock': 39, 'East Elmhurst': 40, 'East Harlem': 41, 'Edgehill Farms': 42, 'El Cerrito': 43, 'Elk Park': 44, 'Emeryville': 45, 'Farmington Woods': 46, 'Faubourg Marigny': 47, 'Financial District': 48, 'Florence': 49, 'Fort Pierce': 50, 'French Quarter': 51, 'Fuquay-Varina': 52, 'Galveston': 53, 'Gampaha': 54, 'Gramercy-Flatiron': 55, 'Greater Greenspoint': 56, 'Gulfton': 57, 'Harden Place': 58, 'Hayesville': 59, 'Hazelwood': 60, \"Hell's Kitchen\": 61, 'Heritage Pines': 62, 'Hog Island': 63, 'Holly Springs': 64, 'Houston': 65, 'Hudson Square': 66, 'Huntington Woods': 67, 'Ilukwatta': 68, 'Ingleside': 69, 'Islamabad': 70, 'Isles of Buena Vista': 71, 'Jackson Heights': 72, 'Jacksonville': 73, 'Jamaica': 74, 'Jamestown Court': 75, 'K Street': 76, 'Kalorama Triangle': 77, 'Kar?chi': 78, 'Karachi': 79, 'Katunayaka': 80, 'Katy': 81, 'Kenner': 82, 'Kilarney Woods': 83, 'Kildaire Farms': 84, 'Kips Bay': 85, 'Kissimmee': 86, 'Lahore': 87, 'Lake Reams': 88, 'Lake Wellingborough': 89, 'Lakeview': 90, 'Latta': 91, 'Leesville Hollow': 92, 'Lexington Park at Amberly': 93, 'Long Island City': 94, 'Lower Garden District': 95, 'Lower Manhattan': 96, 'Macgregor Downs': 97, 'Mandeville': 98, 'Marigny': 99, 'Mcvan': 100, 'Mebane': 101, 'Menlo Park': 102, 'Meredith Townes': 103, 'Metairie': 104, 'Midtown': 105, 'Midtown East': 106, 'Midtown West': 107, 'Morrisville': 108, 'Mountain View': 109, 'New Orleans': 110, 'New York': 111, 'Newark': 112, 'Newland': 113, 'NoMad': 114, 'Noorpur Shahan': 115, 'North Austin': 116, 'North Berkeley Hills': 117, 'Northwest Rectangle': 118, 'Northwoods': 119, 'Nugegoda': 120, 'Oakland': 121, 'Orlando': 122, 'Palm Beach': 123, 'Palo Alto': 124, 'Parkway': 125, 'Parkway Museums': 126, 'Parkwood': 127, 'Pontchartrain Beach': 128, 'Pontchartrain Shores': 129, 'Port Bolivar': 130, 'Potrero Flats': 131, 'Preston': 132, 'Queens': 133, 'Queens County': 134, 'R?walpindi': 135, 'Raleigh': 136, 'Rawalpindi': 137, 'Red River District': 138, 'Redmond': 139, 'Renaissance': 140, 'Ridgeland': 141, 'SOMISSPO': 142, 'San Francisco': 143, 'San Jose': 144, 'Sand Lake Commons': 145, 'Santa Clara': 146, 'Savon Height': 147, 'Seattle': 148, 'Sharpstown': 149, 'Sky Lake': 150, 'Soho': 151, 'South': 152, 'South Berkeley': 153, 'South Congress': 154, 'Southside': 155, 'Southwest Berkeley': 156, 'St Thomas': 157, 'Stonewater': 158, 'Storyville': 159, 'Sugar Land': 160, 'Summerwinds': 161, 'Sunnyside': 162, 'Sunnyvale': 163, 'Tanglewood': 164, 'Tenderloin': 165, 'The Drag': 166, 'Topton': 167, 'Tribeca': 168, 'Tudor City': 169, 'Umstead': 170, 'University District': 171, 'Unknown Location': 172, 'Vista East': 173, 'Wake Co.': 174, 'Wake Forest': 175, 'Walnut Terrace': 176, 'Washington': 177, 'Washington Avenue': 178, 'Waverly Place': 179, 'Wayne Ridge': 180, 'West Berkeley': 181, 'West Palm Beach': 182, 'West University': 183, 'Weston': 184, 'Westpark Place': 185, 'Whitebridge': 186, 'Williamsburg Manor': 187, 'Winston Salem': 188}}\n"
          ],
          "name": "stdout"
        }
      ]
    },
    {
      "cell_type": "code",
      "metadata": {
        "id": "PFiv7aG9uRoM",
        "colab_type": "code",
        "outputId": "6fa1a91a-f569-4c84-eaa4-41a4487c3fef",
        "colab": {
          "base_uri": "https://localhost:8080/",
          "height": 119
        }
      },
      "source": [
        "cop_data.replace(replace_new_cop, inplace=True)\n",
        "\n",
        "print(cop_data.head())"
      ],
      "execution_count": 0,
      "outputs": [
        {
          "output_type": "stream",
          "text": [
            "  CATEGORY*  START*  STOP*  MILES*         PURPOSE*\n",
            "0  Business      53     50     5.1   Meal/Entertain\n",
            "1  Business      53     50     5.0  Unknown Purpose\n",
            "2  Business      53     50     4.8  Errand/Supplies\n",
            "3  Business      53     50     4.7          Meeting\n",
            "4  Business      53    182    63.7   Customer Visit\n"
          ],
          "name": "stdout"
        }
      ]
    },
    {
      "cell_type": "code",
      "metadata": {
        "id": "otCd_W8kuTjE",
        "colab_type": "code",
        "outputId": "be9e26ff-7c39-4e07-afd4-0354b0eb4bf1",
        "colab": {
          "base_uri": "https://localhost:8080/",
          "height": 54
        }
      },
      "source": [
        "#converting PURPOSE* to category type (int64)\n",
        "labels = cop_data['PURPOSE*'].astype('category').cat.categories.tolist()\n",
        "replace_new_cop = {'PURPOSE*' : {k: v for k,v in zip(labels,list(range(1,len(labels)+1)))}}\n",
        "\n",
        "print(replace_new_cop)"
      ],
      "execution_count": 0,
      "outputs": [
        {
          "output_type": "stream",
          "text": [
            "{'PURPOSE*': {'Airport/Travel': 1, 'Between Offices': 2, 'Charity ($)': 3, 'Commute': 4, 'Customer Visit': 5, 'Errand/Supplies': 6, 'Meal/Entertain': 7, 'Meeting': 8, 'Moving': 9, 'Temporary Site': 10, 'Unknown Purpose': 11}}\n"
          ],
          "name": "stdout"
        }
      ]
    },
    {
      "cell_type": "code",
      "metadata": {
        "id": "mdAuoR7IuTao",
        "colab_type": "code",
        "outputId": "55910e34-cd7f-46f7-c480-2f7920dc6d17",
        "colab": {
          "base_uri": "https://localhost:8080/",
          "height": 119
        }
      },
      "source": [
        "cop_data.replace(replace_new_cop, inplace=True)\n",
        "\n",
        "print(cop_data.head())"
      ],
      "execution_count": 0,
      "outputs": [
        {
          "output_type": "stream",
          "text": [
            "  CATEGORY*  START*  STOP*  MILES*  PURPOSE*\n",
            "0  Business      53     50     5.1         7\n",
            "1  Business      53     50     5.0        11\n",
            "2  Business      53     50     4.8         6\n",
            "3  Business      53     50     4.7         8\n",
            "4  Business      53    182    63.7         5\n"
          ],
          "name": "stdout"
        }
      ]
    },
    {
      "cell_type": "code",
      "metadata": {
        "id": "gBXZd29GuYvz",
        "colab_type": "code",
        "outputId": "0a548ca9-5dfb-4826-e9d4-001a03a593e3",
        "colab": {
          "base_uri": "https://localhost:8080/",
          "height": 119
        }
      },
      "source": [
        "#checking if they are now changed to int64 (START*, STOP*, PURPOSE*)\n",
        "print(cop_data.dtypes)"
      ],
      "execution_count": 0,
      "outputs": [
        {
          "output_type": "stream",
          "text": [
            "CATEGORY*     object\n",
            "START*         int64\n",
            "STOP*          int64\n",
            "MILES*       float64\n",
            "PURPOSE*       int64\n",
            "dtype: object\n"
          ],
          "name": "stdout"
        }
      ]
    },
    {
      "cell_type": "markdown",
      "metadata": {
        "id": "-BnhBJWilPO0",
        "colab_type": "text"
      },
      "source": [
        "After converting all the attributes into \"int\" datatype, the next step was done,\n",
        "\n",
        "Step 5: Partition the dataset into two parts: training and testing. When doing this step, testing of various percentages of partitioning were done. 80% for training and 20% produced very high ratings.  Partitioning of 75% and 25% did not produce good results and had higher bias making the dataset no longer usable for further investigation. The best proportion of splitting the training and dataset is 70:30 according to this source (reference).  "
      ]
    },
    {
      "cell_type": "code",
      "metadata": {
        "id": "ECzAKKQrvBQJ",
        "colab_type": "code",
        "outputId": "1b0f64a4-dfb7-4dc0-af5d-c312aa8c28a4",
        "colab": {
          "base_uri": "https://localhost:8080/",
          "height": 238
        }
      },
      "source": [
        "#splitting the training (70) and testing(30) data\n",
        "#keep CATEGORY* as object datatype\n",
        "y = cop_data['CATEGORY*'] \n",
        "X = cop_data.drop('CATEGORY*', axis = 1) \n",
        "\n",
        "#dividing data into training and testing sets using \"train_test_split\" utility from sklearn.model.selection library\n",
        "X_train, X_test, y_train, y_test = model_selection.train_test_split( \n",
        "                           X, y, test_size = 0.30, random_state = 0) \n",
        "  \n",
        "print(X.head()) \n",
        "print('') \n",
        "print(y.head())"
      ],
      "execution_count": 0,
      "outputs": [
        {
          "output_type": "stream",
          "text": [
            "   START*  STOP*  MILES*  PURPOSE*\n",
            "0      53     50     5.1         7\n",
            "1      53     50     5.0        11\n",
            "2      53     50     4.8         6\n",
            "3      53     50     4.7         8\n",
            "4      53    182    63.7         5\n",
            "\n",
            "0    Business\n",
            "1    Business\n",
            "2    Business\n",
            "3    Business\n",
            "4    Business\n",
            "Name: CATEGORY*, dtype: object\n"
          ],
          "name": "stdout"
        }
      ]
    },
    {
      "cell_type": "markdown",
      "metadata": {
        "id": "kH_JfSeLwHJt",
        "colab_type": "text"
      },
      "source": [
        "### Algorithm Comparison of Logistic Regression, K-Nearest Neighbour Algorithm, Decision Tree and Random Forest"
      ]
    },
    {
      "cell_type": "markdown",
      "metadata": {
        "id": "zBV4jPyU3T4n",
        "colab_type": "text"
      },
      "source": [
        "In order to create comparison between the four different classifiers, the algorithms need to built and cross-validated. Also, the models need be evaluated through confusion matrix and accuracy statistics."
      ]
    },
    {
      "cell_type": "code",
      "metadata": {
        "id": "mVZwXXC9vGhg",
        "colab_type": "code",
        "outputId": "07c89dac-e44c-486c-ba47-83fc06505800",
        "colab": {
          "base_uri": "https://localhost:8080/",
          "height": 1000
        }
      },
      "source": [
        "#BUILDING AND CROSS-VALIDATING THE MODEL\n",
        "algorithms = [] \n",
        "scores = [] \n",
        "names = [] \n",
        "  \n",
        "algorithms.append(('Logisitic Regression', LogisticRegression())) \n",
        "algorithms.append(('K-Nearest Neighbours', KNeighborsClassifier())) \n",
        "algorithms.append(('Decision Tree', DecisionTreeClassifier())) \n",
        "algorithms.append(('Random Forest', RandomForestClassifier())) \n",
        "  \n",
        "for name, algo in algorithms: \n",
        "    k_fold = model_selection.KFold(n_splits = 10, random_state = 0) \n",
        "  \n",
        "    # Applying k-cross validation \n",
        "    cvResults = model_selection.cross_val_score(algo, X_train, y_train, \n",
        "                                      cv = k_fold, scoring ='accuracy') \n",
        "  \n",
        "    scores.append(cvResults) \n",
        "    names.append(name) \n",
        "    print(str(name)+' : '+str(cvResults.mean()))"
      ],
      "execution_count": 0,
      "outputs": [
        {
          "output_type": "stream",
          "text": [
            "/usr/local/lib/python3.6/dist-packages/sklearn/linear_model/logistic.py:432: FutureWarning:\n",
            "\n",
            "Default solver will be changed to 'lbfgs' in 0.22. Specify a solver to silence this warning.\n",
            "\n",
            "/usr/local/lib/python3.6/dist-packages/sklearn/linear_model/logistic.py:432: FutureWarning:\n",
            "\n",
            "Default solver will be changed to 'lbfgs' in 0.22. Specify a solver to silence this warning.\n",
            "\n",
            "/usr/local/lib/python3.6/dist-packages/sklearn/linear_model/logistic.py:432: FutureWarning:\n",
            "\n",
            "Default solver will be changed to 'lbfgs' in 0.22. Specify a solver to silence this warning.\n",
            "\n",
            "/usr/local/lib/python3.6/dist-packages/sklearn/linear_model/logistic.py:432: FutureWarning:\n",
            "\n",
            "Default solver will be changed to 'lbfgs' in 0.22. Specify a solver to silence this warning.\n",
            "\n",
            "/usr/local/lib/python3.6/dist-packages/sklearn/linear_model/logistic.py:432: FutureWarning:\n",
            "\n",
            "Default solver will be changed to 'lbfgs' in 0.22. Specify a solver to silence this warning.\n",
            "\n",
            "/usr/local/lib/python3.6/dist-packages/sklearn/linear_model/logistic.py:432: FutureWarning:\n",
            "\n",
            "Default solver will be changed to 'lbfgs' in 0.22. Specify a solver to silence this warning.\n",
            "\n",
            "/usr/local/lib/python3.6/dist-packages/sklearn/linear_model/logistic.py:432: FutureWarning:\n",
            "\n",
            "Default solver will be changed to 'lbfgs' in 0.22. Specify a solver to silence this warning.\n",
            "\n",
            "/usr/local/lib/python3.6/dist-packages/sklearn/linear_model/logistic.py:432: FutureWarning:\n",
            "\n",
            "Default solver will be changed to 'lbfgs' in 0.22. Specify a solver to silence this warning.\n",
            "\n",
            "/usr/local/lib/python3.6/dist-packages/sklearn/linear_model/logistic.py:432: FutureWarning:\n",
            "\n",
            "Default solver will be changed to 'lbfgs' in 0.22. Specify a solver to silence this warning.\n",
            "\n",
            "/usr/local/lib/python3.6/dist-packages/sklearn/linear_model/logistic.py:432: FutureWarning:\n",
            "\n",
            "Default solver will be changed to 'lbfgs' in 0.22. Specify a solver to silence this warning.\n",
            "\n",
            "/usr/local/lib/python3.6/dist-packages/sklearn/ensemble/forest.py:245: FutureWarning:\n",
            "\n",
            "The default value of n_estimators will change from 10 in version 0.20 to 100 in 0.22.\n",
            "\n"
          ],
          "name": "stderr"
        },
        {
          "output_type": "stream",
          "text": [
            "Logisitic Regression : 0.9220061728395061\n",
            "K-Nearest Neighbours : 0.9170370370370371\n",
            "Decision Tree : 0.9010339506172839\n",
            "Random Forest : 0.9096604938271605\n"
          ],
          "name": "stdout"
        },
        {
          "output_type": "stream",
          "text": [
            "/usr/local/lib/python3.6/dist-packages/sklearn/ensemble/forest.py:245: FutureWarning:\n",
            "\n",
            "The default value of n_estimators will change from 10 in version 0.20 to 100 in 0.22.\n",
            "\n",
            "/usr/local/lib/python3.6/dist-packages/sklearn/ensemble/forest.py:245: FutureWarning:\n",
            "\n",
            "The default value of n_estimators will change from 10 in version 0.20 to 100 in 0.22.\n",
            "\n",
            "/usr/local/lib/python3.6/dist-packages/sklearn/ensemble/forest.py:245: FutureWarning:\n",
            "\n",
            "The default value of n_estimators will change from 10 in version 0.20 to 100 in 0.22.\n",
            "\n",
            "/usr/local/lib/python3.6/dist-packages/sklearn/ensemble/forest.py:245: FutureWarning:\n",
            "\n",
            "The default value of n_estimators will change from 10 in version 0.20 to 100 in 0.22.\n",
            "\n",
            "/usr/local/lib/python3.6/dist-packages/sklearn/ensemble/forest.py:245: FutureWarning:\n",
            "\n",
            "The default value of n_estimators will change from 10 in version 0.20 to 100 in 0.22.\n",
            "\n",
            "/usr/local/lib/python3.6/dist-packages/sklearn/ensemble/forest.py:245: FutureWarning:\n",
            "\n",
            "The default value of n_estimators will change from 10 in version 0.20 to 100 in 0.22.\n",
            "\n",
            "/usr/local/lib/python3.6/dist-packages/sklearn/ensemble/forest.py:245: FutureWarning:\n",
            "\n",
            "The default value of n_estimators will change from 10 in version 0.20 to 100 in 0.22.\n",
            "\n",
            "/usr/local/lib/python3.6/dist-packages/sklearn/ensemble/forest.py:245: FutureWarning:\n",
            "\n",
            "The default value of n_estimators will change from 10 in version 0.20 to 100 in 0.22.\n",
            "\n",
            "/usr/local/lib/python3.6/dist-packages/sklearn/ensemble/forest.py:245: FutureWarning:\n",
            "\n",
            "The default value of n_estimators will change from 10 in version 0.20 to 100 in 0.22.\n",
            "\n"
          ],
          "name": "stderr"
        }
      ]
    },
    {
      "cell_type": "code",
      "metadata": {
        "id": "KjVfpt-Yv-js",
        "colab_type": "code",
        "outputId": "90381aab-58ea-4a5f-fd7b-e0f083f65342",
        "colab": {
          "base_uri": "https://localhost:8080/",
          "height": 604
        }
      },
      "source": [
        "#VISUALLY COMPARING THE RESULTS OF THE DIFFERENT ALGORITHMS\n",
        "fig = plt.figure() \n",
        "fig.suptitle('Algorithm Comparison') \n",
        "ax = fig.add_subplot(111) \n",
        "plt.boxplot(scores) \n",
        "ax.set_xticklabels(names) \n",
        "plt.show()"
      ],
      "execution_count": 0,
      "outputs": [
        {
          "output_type": "display_data",
          "data": {
            "image/png": "[encoded data removed]",
            "text/plain": [
              "<Figure size 1440x648 with 1 Axes>"
            ]
          },
          "metadata": {
            "tags": []
          }
        }
      ]
    },
    {
      "cell_type": "code",
      "metadata": {
        "id": "O3Wn4Iqiwa6o",
        "colab_type": "code",
        "outputId": "2091de57-ee37-48b8-8de9-e2fa93238d73",
        "colab": {
          "base_uri": "https://localhost:8080/",
          "height": 1000
        }
      },
      "source": [
        "#MAKING PREDICTIONS AND EVALUATING THE PREDICTIONS\n",
        "for name, algo in algorithms: \n",
        "    clf = algo \n",
        "    clf.fit(X_train, y_train) \n",
        "    y_pred = clf.predict(X_test) \n",
        "    pred_score = accuracy_score(y_test, y_pred) \n",
        "  \n",
        "    print(str(name)+' : '+str(pred_score)) \n",
        "    print('') \n",
        "    print('Confusion Matrix: '+str(confusion_matrix(y_test, y_pred))) \n",
        "    print(classification_report(y_test, y_pred))"
      ],
      "execution_count": 0,
      "outputs": [
        {
          "output_type": "stream",
          "text": [
            "Logisitic Regression : 0.9596541786743515\n",
            "\n",
            "Confusion Matrix: [[333   0]\n",
            " [ 14   0]]\n",
            "              precision    recall  f1-score   support\n",
            "\n",
            "    Business       0.96      1.00      0.98       333\n",
            "    Personal       0.00      0.00      0.00        14\n",
            "\n",
            "    accuracy                           0.96       347\n",
            "   macro avg       0.48      0.50      0.49       347\n",
            "weighted avg       0.92      0.96      0.94       347\n",
            "\n",
            "K-Nearest Neighbours : 0.9481268011527377\n",
            "\n",
            "Confusion Matrix: [[328   5]\n",
            " [ 13   1]]\n",
            "              precision    recall  f1-score   support\n",
            "\n",
            "    Business       0.96      0.98      0.97       333\n",
            "    Personal       0.17      0.07      0.10        14\n",
            "\n",
            "    accuracy                           0.95       347\n",
            "   macro avg       0.56      0.53      0.54       347\n",
            "weighted avg       0.93      0.95      0.94       347\n",
            "\n",
            "Decision Tree : 0.8847262247838616\n",
            "\n",
            "Confusion Matrix: [[305  28]\n",
            " [ 12   2]]\n",
            "              precision    recall  f1-score   support\n",
            "\n",
            "    Business       0.96      0.92      0.94       333\n",
            "    Personal       0.07      0.14      0.09        14\n",
            "\n",
            "    accuracy                           0.88       347\n",
            "   macro avg       0.51      0.53      0.51       347\n",
            "weighted avg       0.93      0.88      0.90       347\n",
            "\n",
            "Random Forest : 0.9394812680115274\n",
            "\n",
            "Confusion Matrix: [[324   9]\n",
            " [ 12   2]]\n",
            "              precision    recall  f1-score   support\n",
            "\n",
            "    Business       0.96      0.97      0.97       333\n",
            "    Personal       0.18      0.14      0.16        14\n",
            "\n",
            "    accuracy                           0.94       347\n",
            "   macro avg       0.57      0.56      0.56       347\n",
            "weighted avg       0.93      0.94      0.94       347\n",
            "\n"
          ],
          "name": "stdout"
        },
        {
          "output_type": "stream",
          "text": [
            "/usr/local/lib/python3.6/dist-packages/sklearn/linear_model/logistic.py:432: FutureWarning:\n",
            "\n",
            "Default solver will be changed to 'lbfgs' in 0.22. Specify a solver to silence this warning.\n",
            "\n",
            "/usr/local/lib/python3.6/dist-packages/sklearn/metrics/classification.py:1437: UndefinedMetricWarning:\n",
            "\n",
            "Precision and F-score are ill-defined and being set to 0.0 in labels with no predicted samples.\n",
            "\n",
            "/usr/local/lib/python3.6/dist-packages/sklearn/ensemble/forest.py:245: FutureWarning:\n",
            "\n",
            "The default value of n_estimators will change from 10 in version 0.20 to 100 in 0.22.\n",
            "\n"
          ],
          "name": "stderr"
        }
      ]
    },
    {
      "cell_type": "markdown",
      "metadata": {
        "id": "uPp9zjSonGHD",
        "colab_type": "text"
      },
      "source": [
        "Figure 15 : Box Plot and Confusion Matrix of Algorithm Comparison with Four Different Classifiers\n",
        "\n",
        "\n",
        "Based on Figure 15: Box Plot and Confusion Matrix of Algorithm Comparison with Four Different Classifiers, the confusion matrix is based on the category column (Business and Personal) and includes the accuracy and macro/weighted average. The logistic regression produced the highest accuracy results with 95.9% almost 96% followed by K-Nearest Neighbour classifier with 94.8%. The Decision Tree Classifier had the lowest accuracy with 88.1%. \n",
        "The Business Precision Score of 0.96 and the support values were consistent for all four different classifiers. Logistic Regression had the highest recall score for the category of Business of 1.00 followed by K-Nearest neighbour with 0.98. Logistic Regression had the highest f1-score of 0.98 for the Business Category. K-Nearest Neighbour and Random Forest had the same f1-score leaving decision tree with the lowest at 0.94.\n",
        "\n"
      ]
    },
    {
      "cell_type": "markdown",
      "metadata": {
        "id": "y9uHr_Tq325d",
        "colab_type": "text"
      },
      "source": [
        "# **RECOMMENDED CLASSIFIER FOR DATASET:**"
      ]
    },
    {
      "cell_type": "markdown",
      "metadata": {
        "id": "Ys9Kp8kGrZ3L",
        "colab_type": "text"
      },
      "source": [
        "All these four clasifiers are suitable for classification and implementation. However, after serious consideration, the recommended classifier for this dataset is logistic regression based on these reasons. \n",
        "\n",
        "1. Logistic regression is highly interpretable and very efficient. It works better when there are attributes removed from the dataset. It produces very accurate results quickly. It can handle missing data and is accepted for high performance. Logistic regression across the board has the best accuracy of 95.9%. It has the highest recall and f1-score.\n",
        "\n",
        "2. The decision tree classifier is unstable and relatively inaccurate compared to the other classifiers. The information is biased with categorical variables and calculations are very complex. The Decision Tree classifier also has issues with overfitting training data because the training data is noisy.\n",
        "\n",
        "3. The K-Nearest Neighbour classifier decreases speed of the algorithm fast and only works with small input variables. It doesn't perform well with imbalanced data and has no capability of dealing with missing values. K-Nearest Neighbours also does not accept outliers, making it harder to evaluate the dataset.\n",
        "\n",
        "4. The Random Forest classifier has issues with complexity and requires more computational power. It also needs more time to train compared with the other classifiers."
      ]
    },
    {
      "cell_type": "markdown",
      "metadata": {
        "id": "ZOXRX67CWKO2",
        "colab_type": "text"
      },
      "source": [
        "# SOCIAL and ETHICAL ASPECTS\n",
        "\n",
        "For this data mining project, the rights ethical approach was adopted. This Rights approach is derived from Kantian duty-based ethics. The rights approach is an ethical action that best protects and respects the moral rights of the affected parties. \"It emphasises the belief that all humans have a right to dignity.\" (Bonde et. al 2013).\n",
        "\n",
        "One of the aspects of this approach is the right to privacy which is \"the right to do, believe and say whatever we choose in our personal lives so long as we do not violate the rights of others\" (Markkula Center for Applied Ethics 2015). For all the trips in the dataset, the customer was given the right of privacy. There was no mention of any personal details like names or addresses or payment method used by customers.  \n",
        " \n",
        "\n",
        "Overall, Uber ,as a transport company, has satisfied the common good and fairness ethical approach by introducing and providing: \n",
        "\n",
        "* Convenience: Customers enjoy the ease of accessibility to the platform as the customer can choose an appointment, pick up time with few presses of a button. \"Uber customers typically wait no more than three minute for a ride. Riders have the option to share rides with others heading the same direction.\" (Goetz 2016). \n",
        " \n",
        "* Opportunity and Cost Savings: Uber has provided a source of employment to underemployed and people who want to have extra income. It has also provided cost savings for customers as they avoid the cost of owning a personal vehicle. It is cheaper than a lot of other companies which has led to Uber's growth in sales all over the world. \"These savings apply most to riders who don't need cars daily but might need a ride for weekend outings and other special occasions.\" (Goetz 2016). \n",
        " \n",
        "* Accessibility: Uber has provided options for disabled riders with cashless payments, on-demand transportation and upfront pricing. Uber is developing technology to help 'increase the mobility and independence of transportation' for these individuals.   \n",
        " \n",
        "* Anti-discrimination policies: The aim of Uber is to treat everyone with respect. In their community guidelines, they have provided a rule not  to refuse to provide services based on characteristics. If a user has violated this, the person will automatically lose access to this platform.   \n",
        "\n",
        "\n",
        "Though there was no violation of rights and virtue ethical approaches for this specific data mining project, there were reported cases of the following: \n",
        "  \n",
        "1. Invasion of Privacy through: \n",
        ">A) God View: God View was a tool used to trace \"high-profile politicians, celebrities and even personal acquaintances of Uber employees, including ex-boyfriend/ex-girlfriends.\" (Hern 2016). \"The system not only provided Uber an aerial-like view of all of the cars in the city, but also contained the personal information of the riders in them.\" (Carson 2016)  \n",
        " \n",
        "  >The first incident happened in 2011 with a venture capitalist named Peter Sims who claimed he was traced by a visitor to Uber's Chicago offices where the data was shown on a large screen. A second incident occurred in November 2014 where Buzzfeed reported that their reporter, Johana Bhuiyan, was also tracked with God View tool without her permission.  \n",
        " \n",
        "  >B) Data breaches: There has news that Uber had data breach in 2016 but only reported the data breach occurred in 2017, violating the virtue ethical approach. This data breach revealed names and drivers license numbers of 600000 drivers in the US and 57 million customers personal data. \"Two individuals outside the company had inappropriately accessed user data stored on a third-party cloud based service that we use. The incident did not breach our corporate systems or infrastructure.\" (Khrosrowshahi 2017). Uber paid $100000 to the hackers to conceal the fact that the cyberattack had even occurred and to delete the stolen data. \n",
        " \n",
        "  >These invasion of privacy incidents have raised some concerns including use of data for improper purposes like espionage and manipulation of information. Some users have even resorted not to use the app.  \n",
        " \n",
        "2. Evasion of Operations for Law Enforcement Individuals through:  \n",
        ">A) Greyball: Greyball was an internal software tool that collects data from the Uber mobile app and other means to avoid giving rides to individuals where the Uber service is illegal. The tool was used first in December 2014 by showing \"ghost cars\" to targeted individuals. It was then made known by the New York Times on March 2017 who reported the use of Greyball to the public.  \n",
        "\n",
        "  >B) Ripley: Ripley is another tool which Bloomberg News claimed in January 2018 that \"Uber routinely used Ripley to prevent police raids in foreign countries.\" Initially, this was called an unexpected visitor protocol and was used from 2015-2016. This panic button disrupted government raids on Uber's offices by changing passwords, locking and turning off staff computers.  \n",
        "  \n",
        "3. Unsafe Conditions for Customers Due to :  \n",
        "  > A) Assaulting Passengers : The fears of customers regarding Uber's background checks after reports of assaulted passengers happened. These incidents were committed by the Uber drivers themselves or individuals faking to be Uber drivers. In 2017, Susan Fowler reported she was harassed by a manager and was threatened with employee termination by another manager if she reported the incident.  \n",
        "\n",
        "  > B) Committing Crimes: There was a shooting in February 2016 with Jason Dalton shooting eight people while driving in Michigan. As a result of this shooting, six people were dead and two were badly wounded. Uber was unaware of the multiple complains of this driver. A recent shooting in April 2019 was with a university student allegedly murdered.  \n",
        " \n"
      ]
    },
    {
      "cell_type": "markdown",
      "metadata": {
        "id": "o4YkYlSqWMq7",
        "colab_type": "text"
      },
      "source": [
        "# CONCLUSION\n",
        "\n",
        "Summary of findings in the dataset as follows: \n",
        "\n",
        "1. The dataset is a mixture of: \n",
        "\n",
        ">* Trips that start and stop in cities from USA, Pakistan and Sri Lanka but most of them are based in USA. \n",
        "\n",
        ">* Trips with different purpose (Airport/Travel, Between Offices, Charity($), Commute, Customer Visit, Errand/Supplies, Meal/Entertain, Meeting, Moving and Temporary Site) .  \n",
        "\n",
        ">* Trips with varying miles and number of occurrences per day.  \n",
        "\n",
        ">* Trips with different categories (Business and Personal). Majority of them have the category Business. \n",
        "\n",
        ">* The top three purpose of the trips are Meeting, Meal/Entertain and Errand/Supplies. \n",
        "\n",
        " \n",
        "\n",
        "2. 1078 (93%) out of 1155 trips were categorised as Business.  The remaining 77 (7%) trips were categorised as Personal.  \n",
        "\n",
        " \n",
        "\n",
        "3. The shortest Uber Drive averages on 0.5 miles and purpose is mainly for Errand/Supplies. On the other hand, the longest Uber Drive is 310.3 miles and purpose is mainly for customer visit.  \n",
        "\n",
        " \n",
        "\n",
        "4. There were lesser trips made on public holidays and weekends. There are more trips on days leading to these special holidays like Christmas. \n",
        "\n",
        "\n",
        "It is recommended to: \n",
        "\n",
        " \n",
        "\n",
        "1. Investigate further if there is a need to include demographics such as gender and age. This might help discern if the services are used more by gender or specific age range and this customer segment can be targeted for marketing purposes. \n",
        "\n",
        "2. Apart from category and purpose of the trip, investigate further if customer is using  a coupon for the service or not. This is a good indicator if coupons or loyalty points entice customers to use the service. It can be used as an advertising strategy to retain and increase customer base. \n",
        "\n",
        "3. There are attributes that have missing information evidenced by the use of Unknown Purpose or Unknown Location. It can be studied if there is a need to have these fields as mandatory so that it is more meaningful rather than having an unknown value. \n",
        "\n",
        "\n"
      ]
    },
    {
      "cell_type": "markdown",
      "metadata": {
        "colab_type": "text",
        "id": "sm2L3t8cEyCs"
      },
      "source": [
        "# REFERENCE\n",
        "\n",
        "Agarwal, M. n.d., *'Pythonic Data Cleaning With Pandas and NumPy'*, Real Python, viewed 12 September 2019, <https://realpython.com/python-data-cleaning-numpy-pandas/>. \n",
        "\n",
        "Bonde, S & Firenze, P. 2013, 'Making Choices: A Framework for Making Ethical Decisions', A Framework for Making Ethical Decisions, viewed 20 September 2019 <https://www.brown.edu/academics/science-and-technology-studies/framework-making-ethical-decisions>. \n",
        "\n",
        "Carson, B. 2016, *‘Uber settles investigation into ‘God View’ tool'*, Tech Insider, viewed 12 September 2019, <https://businessinsider.com.au/uber-settles-investigation-into-god-view-tool-2016-1>.\n",
        "\n",
        "Dataquest n.d., *'Tutorial: Using Pandas with Large Data Sets in Python'*, viewed 12 September 2019, <https://www.dataquest.io/blog/pandas-big-data/?fbclid=IwAR0p1t4ZIbGaUvbgqZV031Fa-fPS_RLqx_LlQApxuVmZgqxG7xV98yENAKk>. \n",
        "\n",
        "GeeksforGeeks n.d., *'30 minutes to machine learning'*, viewed 12 September 2019, <https://www.geeksforgeeks.org/30-minutes-to-machine-learning/?fbclid=IwAR23uoFVhOFNcMEFU3R-mAXNcq5oGSI9wq9sg08l6p2nqMIbYs4ZGn7MH_w>. \n",
        " \n",
        "GeeksforGeeks n.d., *'Covert the column type from string to date time format in Pandas data frame'*, viewed 12 September 2019, <https://www.geeksforgeeks.org/convert-the-column-type-from-string-to-datetime-format-in-pandas-dataframe/>. \n",
        " \n",
        "GeeksforGeeks n.d., *'How to approach a Machine Learning project: A step-wise guidance'*, viewed 12 September 2019, <https://www.geeksforgeeks.org/how-to-approach-a-machine-learning-project-a-step-wise-guidance/?fbclid=IwAR2JTxt7vf5XkyaCPxvwB12dbswFRmVopM7H2-uUcwF5I7RrJbUM2OUJSgU>.  \n",
        "\n",
        "Goetz, L. 2016, *'4 Reasons Why People Choose Uber'*, Investopedia, viewed 12 September 2019, <https://www.investopedia.com/articles/markets/063016/4-reasons-why-riders-choose-uber.asp >.\n",
        "\n",
        "Hern, A. 2016, *‘Uber Employees ‘spied on ex-partners, politicians and Beyoncé’*, The Guardian, viewed 12 September 2019,< https://www.theguardian.com/technology/2016/dec/13/uber-employees-spying-ex-partners-politicians-beyonce >.\n",
        "\n",
        "Hurwitt, S. 2018, *'Classification in Python with Scikit-Learn and Pandas'*, Stack Abuse, viewed 17 September 2019, <https://stackabuse.com/classification-in-python-with-scikit-learn-and-pandas/?fbclid=IwAR103V2lBbTUHxEk9mqNSKQbzm5g9sYm7GVvmUrwjYe9ElR6Du7k52lXJjM>. \n",
        "\n",
        "Khosrowshahi, D. 2017, *‘2016 Data Security Incident‘*, Uber Newsroom, viewed 12 September 2019, <https://www.uber.com/newsroom/2016-data-incident/ >.\n",
        "\n",
        "Krunal 2019, *'Python Mean Example | Python Statistics Mean() Function Tutorial'*, AppDivided, viewed 7 September 2019, <https://appdividend.com/2019/01/28/python-statistics-tutorial-mean-function-example/>. \n",
        "\n",
        "Li, S. 2017, *'Solving  A Simple Classification Problem with Python – Fruits Lovers Edition'*, Towards Data Science, viewed 17 September 2019, <https://towardsdatascience.com/solving-a-simple-classification-problem-with-python-fruits-lovers-edition-d20ab6b071d2>. \n",
        " \n",
        "Malik, U. 2018, *'Text Classification with Python and Scikit-Learn'*, Stack Abuse, viewed 17 September 2018, <https://www.unbc.ca/sites/default/files/assets/academic_success_centre/writing_support/reflective_writing_151211_copy1.pdf>. \n",
        "\n",
        "Markkula Center for Applied Ethics. 2015, ‘How to Make an Ethical Decision’, *A Framework for Ethical Decision Making*, viewed 6 September 2019, <https://www.scu.edu/ethics/ethics-resources/ethical-decision-making/a-framework-for-ethical-decision-making/>.\n",
        "\n",
        "Pandas 0.25..2 documentation n.d., *'Pandas.Series.str.split'*, viewed 17  September 2019, <https://pandas.pydata.org/pandas-docs/stable/reference/api/pandas.Series.str.split.html>. \n",
        "\n",
        "Pathak, M. 2018, *'Handing Categorical Data in Python'*, DataCamp, viewed 14 September 2019, <https://www.datacamp.com/community/tutorials/categorical-data>. \n",
        " \n",
        "Plotly n.d., *'Scatter Plots in Pandas'*, viewed 14 September 2019, <https://plot.ly/pandas/line-and-scatter/>.  \n",
        "\n",
        "Pratap, A. 2018, *‘UBER PESTEL ANALYSIS’*, notesmatic, viewed 6 September 2019, <https://notesmatic.com/uber-pestel-analysis/>.\n",
        " \n",
        "Shahin, M. A., Maier, H. R., and Jaksa, M. B. 2004, 'Data division for developing neural networks applied to geotechnical engineering',  *Journal of Computing in Civil Engineering*, vol. 18(2), pp. 105-114. \n",
        " \n",
        "Stack Overflow 2015, *'Python Pandas – Changing some column types to categories'*, viewed 15 September 2019, <https://stackoverflow.com/questions/28910851/python-pandas-changing-some-column-types-to-categories?fbclid=IwAR3T9qFsWSujdXIDVWJF9ui6c-Hycng_01kJU1FOq4ZZ5hxgw-kg6I5JD0k>. \n",
        " \n",
        "Stack Overflow 2016, *'Python/Pandas convert string to time only'*, viewed 15 September 2019, <https://stackoverflow.com/questions/37801321/python-pandas-convert-string-to-time-only>. \n",
        " \n",
        "Stack Overflow 2018, *'How to handles string data in ML classification'*, viewed 15 September 2019, <https://stackoverflow.com/questions/54492847/how-to-handles-string-data-in-ml-classification?fbclid=IwAR3_2tmHeWIqylNitA8E_cBAlMFj1iMBDBFodLmDWycq5zYRMJ4rTYhEwY8>. \n",
        " \n",
        "Sullivan, J. 2018, *'Data Cleaning with Python and Pandas: Detecting Missing values'*, Towards Data Science, viewed 13 September 2019, <https://towardsdatascience.com/data-cleaning-with-python-and-pandas-detecting-missing-values-3e9c6ebcf78b>.  \n",
        "\n",
        "Taylor, K. & Goggin, B. 2017, ’49 of the biggest scandals in Uber’s History, *Business Insider Australia*, viewed 11 September 2019, <https://www.businessinsider.com.au/uber-company-scandals-and-controversies-2017-11?r=US&IR=T >.\n",
        "\n",
        "Thanh, N.P, Kappas, M. 2017, '*Comparison of Random Forest, k-Nearest Neighbour, and Support Vector Machine Classifiers for Land Cover Classification Using Sentinel-2 Imagery*' The National Centre for Biotechnology Information (NCBI), vol. 18, viewed 23 September 2019, <https://www.ncbi.nlm.nih.gov/pmc/articles/PMC5796274/>. "
      ]
    },
    {
      "cell_type": "markdown",
      "metadata": {
        "id": "CYxaxHNsozm6",
        "colab_type": "text"
      },
      "source": [
        "# New Section"
      ]
    },
    {
      "cell_type": "markdown",
      "metadata": {
        "id": "UpqUmLMwo2Yh",
        "colab_type": "text"
      },
      "source": [
        "[link to youtube video](https://youtu.be/iuvol9o3miM)"
      ]
    }
  ]
}