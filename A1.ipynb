{
  "nbformat": 4,
  "nbformat_minor": 0,
  "metadata": {
    "colab": {
      "name": "A1.ipynb",
      "version": "0.3.2",
      "provenance": [],
      "include_colab_link": true
    },
    "kernelspec": {
      "name": "python2",
      "display_name": "Python 2"
    }
  },
  "cells": [
    {
      "cell_type": "markdown",
      "metadata": {
        "id": "view-in-github",
        "colab_type": "text"
      },
      "source": [
        "<a href=\"https://colab.research.google.com/github/12729582/UTS_ML2019_ID12729582/blob/master/A1.ipynb\" target=\"_parent\"><img src=\"https://colab.research.google.com/assets/colab-badge.svg\" alt=\"Open In Colab\"/></a>"
      ]
    },
    {
      "cell_type": "code",
      "metadata": {
        "id": "6d35HwFehh3w",
        "colab_type": "code",
        "colab": {}
      },
      "source": [
        ""
      ],
      "execution_count": 0,
      "outputs": []
    },
    {
      "cell_type": "markdown",
      "metadata": {
        "id": "jGlbvbUyyNg_",
        "colab_type": "text"
      },
      "source": [
        "*******************************************************************************\n",
        "SUBJECT NAME & ID:\n",
        "      MACHINE LEARNING | 31005\n",
        "\n",
        "ASSESSMENT TASK 1:\n",
        "      UNDERSTANDING THE LITERATURE\n",
        "\n",
        "STUDENT NAME & ID:\n",
        "      LADA MEAS | 12729582\n",
        " \n",
        "CHOOSEN PAPER:\n",
        "      [SHA48] A MATHEMATICAL THEORY OF COMMUNICATION\n",
        "\n",
        "*******************************************************************************\n",
        "\n",
        "**INTRODUCTION**\n",
        "\n",
        "\"A Mathematical Theory of Communication\" research paper defines the whole ideas of communication that has been made by human-being by demonstrating the relationship between maths and communications itself. The author of this article additionally stated out the source of communication, how and why was it converted from a bunch of math functions, the current problems of communication systems, the process of converting the binary numbers to the way people communication as well as giving the acceptable and approvable reasons of developing the communication channels toward the highest efficiently and effectively.\n",
        "\n",
        "As reported by Shannon (1948), the main problem of the communication was that the previous researchers who came up and discovered the communication systems were no longer relevant to the current high-tech generation. He declared that \"reproducing of communication at one point either exactly or approximately a message selected at another point\", while Shannon (1948) said \"the significant aspect is that the actual message is one selected from a set of possible messages. The system must be designed to operate for each possible selection, not just the one which will be chosen since this is unknown at the time of design.\"\n",
        "\n",
        "Later on, this researcher was able to identify those problems more comprehensible, and by achieving that, he consistently attempted to resolve the effect of noise in the channel due to the mathematical structure of original message likewise the nature of the final destination of the information. By using the logarithmic measure, he tended to find out that; time, bandwidth, and number are the central features leading to the latency and redundancy of transferring the data over the communication channel.\n",
        "\n",
        "**INNOVATION**\n",
        "\n",
        "As seen in the figure 1, the first of communication system was designed of 5 components, which were (1). Information Source, (2). Transmitter, (3). Noise Source, (4). Receiver, and (5). Destination. From one process to another, the noise was used as the channel for data or information to be transmitted. To make it more understandable, the writer furtherly explained the roles of each process:\n",
        " \n",
        "•\t*An information source*: mainly created the message to be sent to the receiver. There are of multiple types of messages such as:\n",
        "\n",
        "types of messages\t|| what does it do???\n",
        ">>a sequence of letter: used in telegraph in teletype system;\n",
        ">>a single function of time: used in radio, telephony;\n",
        ">>a function of time and other variables as in black and white television: \tconsidered as f (x, y, t) of space and time;\n",
        "\n",
        ">>two or more functions of time:\tused for sound transmission;\n",
        ">>several functions of several variables\tused: for color television;\n",
        ">>various combinations: used for television within an associated audio channel;\n",
        "\n",
        "\n",
        "\n",
        "\n",
        "*cant insert picture here\n",
        "\n",
        "\n",
        "\n",
        "\n",
        "\n",
        "\n",
        "•\t*A transmitter*: worked on the message that was sent by an information source, to construct a suitable signal for transferring over the channel. It also checked the information sources in order to create different types of operation. \n",
        "•\t*A Channel*: the tool used to transmit the signal from transmitter to receiver. It can be a pair of wires, a coaxial cable, a band of radio frequencies. etc. \n",
        "•\t*A receiver*: technically the inverse processes of anything done by the transmitter, and rebuilding the message from the signal, and get it ready to send over to the destination. \n",
        "•\t*A destination*: can be a person, a device, or targeted things that the message is projected to send. \n",
        "\n",
        "During the process of transmitting, some issues were identified, for example, the message or information might be lost or got corrupt due the incorrect of sending the message, sending speeds, security and privacy. So that the receiver might not get the full information or might not get any information at all. Before getting to the solutions of fixing and improving these issues, some of the methods were simplified which made the new category of communication system. The communication system got classified into three principal features (1). Discrete, (2). Continuous, and (3). Mixed. \n",
        "\n",
        "As illustrated by Shannon (1948), discrete is how a message and a signal are both formed a sequence of a discrete system. Furthermore, the discrete system plays a fundamental role in forming the ideas of continuous and mixed systems. Continuous is when the message and the signal are treated as a continuous function. Finally, a mixed system is a combination of both discrete and continuous. \n",
        "\n",
        "By using the discrete method, they were able to measure the capacity of a channel to transmit the information which could be found in the discrete noiseless channel due to the measure of defining four symbols in telegraphy; DOT, DASH, LETTER, WORD. On the other hand, proper encoding and decoding methods were also discussed in this article. The author claimed that by having the appropriate encoding for the message, helps promotes the accuracy when turning the data or information into signal sequences. At this stage, the probabilities also came to take parts in order to get or predict the most possible and accuracy outcomes of the given letters, words, or sentences. Another one of new methods was to randomly use a sequence of English alphabetical to predict the possible and readable answers. They had come up with six steps of constructing it but yet to be successful since the last step was observed to be readable sentences but somehow un-structural and not understandable.\n",
        "   \n",
        "**TECHNICAL QUALITY**\n",
        "\n",
        "On my point of view, I would rate this research report 8 out of 10 for the technical aspect. The producer has recognized what the causes of the problems are, then identify the solutions. An in-depth explanation was also given within the evidence showing how are they related and how can it solve the problems. Besides, the creator used and compared 29 types of technique from the three systems (discrete, continuous, mixed) in order to define and get the best resolution and to make communication system more approachable. For instance, in the process of explaining the discrete system, the discrete noiseless channel, the discrete source of information, the series of approximation to English, graphical representation of a markoff process, ergodic and mixed source, etc. In each of the methods, there were comprehensive outlines of what to do, and what to get by using some of the math functions to verify those methods. \n",
        "\n",
        "From all of the techniques that were mentioned above, the writer eventually came up with the new communication system, as shown in the figure 2. We can notice some changes from the previous diagram. Instead of having noise source, they added the observer, and the destination was replaced by correcting device. The reason for introducing an observer was, because of its ability to control and maintain, both what is sent and what is received (with errors due to the noise). It can also enable the receiver to correct the errors.\n",
        "\n",
        "*cant insert picture here\n",
        " \n",
        "**APPLICATION and X-FACTOR**\n",
        "\n",
        "Telephony platform was consistently used as an example throughout the report, which I think somehow relatable to the main topic. It is additionally thought to be appropriate and easy to understand as well as we can see the picture of how we could apply it to real-world examples. However, other application domains such as smartphones or laptops could also be applied to test how accuracy is the method or technique that was described above since those devices are considered as smart and up-to-date to the modern generation and useful for research purposes. For the further development of the research paper itself, it was written for particular and targeted audiences such as professional or researcher. So I found it a bit difficult to follow up the very depth meaning, and the way the paper was explained and structured. Another essential point was that the report has only the explanation of how the data/information is transformed from the source to the destination, but they never explain how/can it return?\n",
        "\n",
        "Something that was found to be interested in this article is:\n",
        "•\tHow they get the idea of how to convert the data and information using the binary numbers.\n",
        "•\tHow encoding and decoding helps improve the channel of communication.\n",
        "•\tThe way they explain and give an example by using the English alphabetical with the probability to predict the possible answers.\n",
        "•\tNo biased, explain each concept and method with the evidences to make it more understandable, acceptable, reasonable, reliable. \n",
        " \n",
        "**PRESENTATION**\n",
        "\n",
        "This was my first time reading this type of article; I found it a bit challenging to follow up and understand it since there were a lot of algorithm/math formulas included. This article expects the reader/audiences to know at least know the basic and understand the topic that is being described in the paper. \n",
        "\n",
        "However, the article seems to be a high level since it contains an obvious structure and interprets into deep for each section. Though I would recommend it to list the section into one page, say the a table content. I was so much wondering how come it is academic and look-like a reliable source but does not have a table of content. \n",
        "\n",
        "I would also rate this article 5/10 for a presentation style in a particular way since I wish they would have done better with how they highlight their heading. It should be more explicit with the big, bold, left alignment headings. In this situation, I find the headings are a bit mixed up and get confused with the body and paragraph itself. \n",
        "\n",
        "Moreover, there was not an abstract or conclusion as well, and this is the most primary part that I think the author has missed out since both of them considered as the vital points where allows the readers to quickly read through and get the main idea of the article.\n",
        "\n",
        "**REERENCES**\n",
        "\n",
        "Shannon, C.E. 1948, 'A Mathematical Theory of Communication', The Bell System Technical Journal, vol. 27, pp 379-423, pp 623-656.\n",
        "\n",
        "\n",
        "\n",
        "\n"
      ]
    }
  ]
}